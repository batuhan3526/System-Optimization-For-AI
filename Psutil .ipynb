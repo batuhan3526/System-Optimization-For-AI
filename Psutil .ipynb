{
 "cells": [
  {
   "cell_type": "code",
   "execution_count": 1,
   "id": "dd570109",
   "metadata": {},
   "outputs": [],
   "source": [
    "import GPUtil\n",
    "import nvidia_smi\n",
    "import platform\n",
    "from datetime import datetime\n",
    "import datetime\n",
    "import time\n",
    "import psutil\n",
    "import pandas as pd\n",
    "from tabulate import tabulate\n",
    "from random import randint\n",
    "from psutil._common import bytes2human\n",
    "import socket\n",
    "from socket import AF_INET, SOCK_STREAM, SOCK_DGRAM\n",
    "from __future__ import print_function\n",
    "import os\n",
    "import sys\n",
    "import pandas as pd"
   ]
  },
  {
   "cell_type": "markdown",
   "id": "34a60b9b",
   "metadata": {},
   "source": [
    "# Why should we use it?/Neden kullanmalıyız?\n",
    "\n",
    "* EN:\n",
    "Most of us do not think about why we tire the system when dealing with data science, machine learning, deep learning. However, if we can use our system at full performance, it will positively affect the work we do. It is also possible to do the same job with less RAM, Core, GPU! All you need to do is to use your system in a more optimized way. So how will this happen?\n",
    "\n",
    "Example_1: You have a Deep Learning model and big data. As a result, your RAM and VRAM needs will be high. You can see your system's values ​​in each epoch and update your project accordingly. You can use \"Swap_Memory\" for RAM and functions that allow you to free your VRAM in every for loop for VRAM.\n",
    "\n",
    "Example_2: Let's say you have a large data set. But you have to work separately. If you have 32 threads, it means you can assign 16 threads to both data groups. By doing this, you will get more stable, efficient and faster results than starting 2 codes at the same time.\n",
    "\n",
    "Example_3: Observing the system while it is on the job and detecting defective parts.\n",
    "\n",
    "Examples can be multiplied further. It will be beneficial for you and your system to use the functions here by designing them according to your purpose and imagination.\n",
    "\n",
    "* TR:\n",
    "Çoğumuz veri bilimi, makine öğrenmesi,derin öğrenme ile uğraşırken neden kadar sistemi yorduğumuzu düşünmüyoruz. Oysa ki sistemimizi tam performansta kullanabilsek, yaptığımız işi de pozitif etkileyecektir. Ayrıca Daha az RAM,Core,GPU ile aynı işi yapmak mümkün! Tek yapmanız gereken daha optimize bir şekilde sisteminizi kullanabilmek. Peki bu nasıl olacak?\n",
    "\n",
    "Örnek_1: Bir Derin Öğrenme modeli ve büyük bir veriniz var. Haliyle RAM ve VRAM ihtiyacınız yüksek olacaktır. Her Epoch'da sisteminizin değerlerinizi görmeniz ona göre projenizde güncelleme yapabilirsiniz. RAM için \"Swap_Memory\", VRAM içinse her for döngüsünde  VRAM'inizi boşaltmaya sağlayan fonksiyonları kullanabilirsiniz.Torch kütüphanesinde var ama Tensorflow için hatırlamıyorum maalesef.\n",
    "\n",
    "Örnek_2: Diyelim ki elinizde büyük bir veri grubu var. Ama ayrı bir şekilde çalışmanız gerekiyor. 32 iş parçacığınız var ise her 2 veri grubuna da 16 iş parçacığı atayabilirsiniz demektir. Böyle yaparak 2 kodu aynı anda başlatmanızdan daha stabil,verimli ve hızlı sonuç alacaksınızdır.\n",
    "\n",
    "Örnek_3: Sistemi genel olarak iş üzerinde iken gözlemlemek ve kusurlu çalışan parçaları tespit etmek.\n",
    "\n",
    "Örnekler daha çoğaltılabilir. Buradaki bulunan fonksiyonları amacınıza ve hayal gücünüze göre dizayn ederek kullanmanız size ve sisteminize yararı olacaktır.\n",
    "\n",
    "## Which Library?/Hangi kütüphane?\n",
    "\n",
    "* EN:\n",
    "I can say that \"psutil\" is ahead in almost every system part except GPU. For GPU, \"GPUtil\" is a good choice for now. \"nvidia_smi\",\"py3nvml\",\"platform\" are more restricted libraries. \"nvidia_smi\" is a bit of an exception. Because \"nvidia_smi.\" If you press the \"tab\" key after typing, you will see that there are quite a lot of functions. But I couldn't come across a documention that explains them.\n",
    "\n",
    "* TR:\n",
    "GPU hariç hemen hemen her sistem parçasında \"psutil\" daha önde diyebilirim.GPU için şuanlık \"GPUtil\" güzel bir tercih. \"nvidia_smi\",\"py3nvml\",\"platform\" ise daha kısıtlı kütüphaneler. \"nvidia_smi\" biraz istisna sayılabilir. Zira \"nvidia_smi.\" yazdıktan sonra \"tab\" tuşuna basar iseniz oldukça fazla fonksiyon olduğunu göreceksinizdir. Ama bunları açıklayan bir  documention denk gelemedim. \n",
    "\n",
    "### Note/NOT:\n",
    "* EN:\n",
    "Some of the code found here is intentionally commented out. There are 2 reasons for this.\n",
    "The first reason is that some codes do not work in windows and give an error.\n",
    "The second reason is that some code contains personal data, so I preferred to share it with a comment line. For example, the IP address.\n",
    "\n",
    "* TR:\n",
    "Burada bulunan bazı kodlar bilerek yorum satırı ile verilmiştir. Bunun 2 sebebi vardır.\n",
    "İlk sebep, bazı kodlar windowsta çalışmamakta ve hata vermektedir.\n",
    "İkinci sebep, bazı kodlar kişisel veri içerdiğinden yorum satırı ile paylaşmayı tercih ettim. Örneğin, IP adresi."
   ]
  },
  {
   "cell_type": "markdown",
   "id": "fd902c3f",
   "metadata": {},
   "source": [
    "## CPU"
   ]
  },
  {
   "cell_type": "code",
   "execution_count": 2,
   "id": "eda430a0",
   "metadata": {},
   "outputs": [
    {
     "data": {
      "text/plain": [
       "6.9"
      ]
     },
     "execution_count": 2,
     "metadata": {},
     "output_type": "execute_result"
    }
   ],
   "source": [
    "import psutil\n",
    "# instant cpu usage rate/anlık cpu kullanım oranı\n",
    "psutil.cpu_percent()"
   ]
  },
  {
   "cell_type": "markdown",
   "id": "18abd8dd",
   "metadata": {},
   "source": [
    "Warning the first time this function is called with interval = 0.0 or None it will return a meaningless 0.0 value which you are supposed to ignore.\n",
    "\n",
    "Bu fonksiyon interval = 0.0 veya None ile ilk kez çağrıldığında uyarı, görmezden gelmeniz gereken anlamsız bir 0.0 değeri döndürür."
   ]
  },
  {
   "cell_type": "code",
   "execution_count": 3,
   "id": "b21ffab4",
   "metadata": {},
   "outputs": [
    {
     "data": {
      "text/plain": [
       "32"
      ]
     },
     "execution_count": 3,
     "metadata": {},
     "output_type": "execute_result"
    }
   ],
   "source": [
    "psutil.cpu_count(logical=True) # İş parçacığı dahildir. Ayrıca şu kod ile aynıdır os.cpu_count()\n",
    "# Thread are included. Also the code is the same as os.cpu_count()"
   ]
  },
  {
   "cell_type": "code",
   "execution_count": 4,
   "id": "1ba5ddab",
   "metadata": {},
   "outputs": [
    {
     "data": {
      "text/plain": [
       "16"
      ]
     },
     "execution_count": 4,
     "metadata": {},
     "output_type": "execute_result"
    }
   ],
   "source": [
    "psutil.cpu_count(logical=False) # sadece çekirdekler/ only core"
   ]
  },
  {
   "cell_type": "code",
   "execution_count": 5,
   "id": "c3136324",
   "metadata": {},
   "outputs": [
    {
     "data": {
      "text/plain": [
       "32"
      ]
     },
     "execution_count": 5,
     "metadata": {},
     "output_type": "execute_result"
    }
   ],
   "source": [
    "len(psutil.Process().cpu_affinity()) # şuanda kullanılabilir olanların sayısı"
   ]
  },
  {
   "cell_type": "code",
   "execution_count": 6,
   "id": "ec91fa66",
   "metadata": {},
   "outputs": [
    {
     "data": {
      "text/plain": [
       "scpustats(ctx_switches=448641197, interrupts=353563752, soft_interrupts=0, syscalls=3661490117)"
      ]
     },
     "execution_count": 6,
     "metadata": {},
     "output_type": "execute_result"
    }
   ],
   "source": [
    "psutil.cpu_stats()"
   ]
  },
  {
   "cell_type": "markdown",
   "id": "c8ff2c17",
   "metadata": {},
   "source": [
    "* ctx_switches: number of context switches (voluntary + involuntary) since boot.\n",
    "* interrupts: number of interrupts since boot.\n",
    "* soft_interrupts: number of software interrupts since boot. Always set to 0 on Windows and SunOS.\n",
    "* syscalls: number of system calls since boot. Always set to 0 on Linux.\n",
    "\n",
    "\n",
    "* ctx_switches: önyüklemeden bu yana bağlam anahtarlarının sayısı (gönüllü + istemsiz).\n",
    "* kesintiler: önyüklemeden bu yana yapılan kesintilerin sayısı.\n",
    "* soft_interrupts: önyüklemeden bu yana yazılım kesintilerinin sayısı. Windows ve SunOS'ta her zaman 0'a ayarlayın.\n",
    "* sistem çağrıları: önyüklemeden bu yana sistem çağrılarının sayısı. Linux'ta her zaman 0'a ayarlayın."
   ]
  },
  {
   "cell_type": "code",
   "execution_count": 7,
   "id": "77fa79e1",
   "metadata": {},
   "outputs": [
    {
     "data": {
      "text/plain": [
       "scpufreq(current=3401.0, min=0.0, max=3401.0)"
      ]
     },
     "execution_count": 7,
     "metadata": {},
     "output_type": "execute_result"
    }
   ],
   "source": [
    "psutil.cpu_freq(percpu=False)"
   ]
  },
  {
   "cell_type": "code",
   "execution_count": 8,
   "id": "91979f10",
   "metadata": {},
   "outputs": [
    {
     "data": {
      "text/plain": [
       "[scpufreq(current=3401.0, min=0.0, max=3401.0)]"
      ]
     },
     "execution_count": 8,
     "metadata": {},
     "output_type": "execute_result"
    }
   ],
   "source": [
    "psutil.cpu_freq(percpu=True)"
   ]
  },
  {
   "cell_type": "markdown",
   "id": "8c3ea6fd",
   "metadata": {},
   "source": [
    "* On Linux, Mhz reports the real-time value, on all other platforms it represents the nominal \"fixed\" value. Since I'm using Windows, it generates a constant value. And since my processor's base speed is 3.4GHz, it produces the result you see.\n",
    "\n",
    "* Linux'ta Mhz gerçek zamanlı değeri bildirir, diğer tüm platformlarda nominal “sabit” değeri temsil eder. Ben Windows kullandığımdan sabit bir değer üretiyor. Ve işlemcimin base hızı 3.4GHz olduğundan gördüğünüz sonucu üretiyor."
   ]
  },
  {
   "cell_type": "code",
   "execution_count": 9,
   "id": "34144f8a",
   "metadata": {},
   "outputs": [
    {
     "data": {
      "text/plain": [
       "[scputimes(user=844.4375, system=72.25, idle=16829.703125, interrupt=5.296875, dpc=7.546875),\n",
       " scputimes(user=92.078125, system=59.296875, idle=17594.890625, interrupt=3.375, dpc=7.671875),\n",
       " scputimes(user=1000.296875, system=164.96875, idle=16581.0, interrupt=11.171875, dpc=41.515625),\n",
       " scputimes(user=77.203125, system=147.5625, idle=17521.5, interrupt=30.796875, dpc=85.078125),\n",
       " scputimes(user=783.609375, system=153.34375, idle=16809.3125, interrupt=71.890625, dpc=47.109375),\n",
       " scputimes(user=59.015625, system=108.546875, idle=17578.703125, interrupt=18.25, dpc=11.0625),\n",
       " scputimes(user=685.078125, system=88.671875, idle=16972.515625, interrupt=31.296875, dpc=27.265625),\n",
       " scputimes(user=37.734375, system=87.375, idle=17621.15625, interrupt=42.5625, dpc=27.40625),\n",
       " scputimes(user=949.421875, system=117.484375, idle=16679.359375, interrupt=2.46875, dpc=0.578125),\n",
       " scputimes(user=940.890625, system=115.171875, idle=16690.203125, interrupt=2.53125, dpc=1.09375),\n",
       " scputimes(user=767.5, system=45.53125, idle=16933.234375, interrupt=3.84375, dpc=1.5625),\n",
       " scputimes(user=32.703125, system=37.390625, idle=17676.171875, interrupt=1.28125, dpc=4.640625),\n",
       " scputimes(user=1081.15625, system=125.96875, idle=16539.140625, interrupt=2.078125, dpc=0.75),\n",
       " scputimes(user=932.921875, system=106.234375, idle=16707.109375, interrupt=1.984375, dpc=0.65625),\n",
       " scputimes(user=794.8125, system=70.578125, idle=16880.875, interrupt=3.0625, dpc=0.390625),\n",
       " scputimes(user=33.703125, system=39.0, idle=17673.5625, interrupt=1.296875, dpc=0.421875),\n",
       " scputimes(user=635.75, system=24.3125, idle=17086.1875, interrupt=3.09375, dpc=0.421875),\n",
       " scputimes(user=43.296875, system=16.5625, idle=17686.390625, interrupt=0.671875, dpc=0.46875),\n",
       " scputimes(user=325.09375, system=95.65625, idle=17325.5, interrupt=2.71875, dpc=1.328125),\n",
       " scputimes(user=84.46875, system=22.0, idle=17639.78125, interrupt=1.265625, dpc=3.609375),\n",
       " scputimes(user=67.3125, system=26.375, idle=17652.5625, interrupt=3.171875, dpc=2.921875),\n",
       " scputimes(user=58.9375, system=27.078125, idle=17660.234375, interrupt=2.09375, dpc=1.09375),\n",
       " scputimes(user=664.0, system=31.890625, idle=17050.359375, interrupt=6.375, dpc=3.453125),\n",
       " scputimes(user=71.078125, system=33.328125, idle=17641.84375, interrupt=4.953125, dpc=4.40625),\n",
       " scputimes(user=442.828125, system=24.65625, idle=17278.765625, interrupt=2.65625, dpc=0.34375),\n",
       " scputimes(user=59.484375, system=23.96875, idle=17662.796875, interrupt=0.953125, dpc=0.34375),\n",
       " scputimes(user=551.9375, system=344.5625, idle=16849.75, interrupt=7.9375, dpc=0.984375),\n",
       " scputimes(user=514.375, system=335.953125, idle=16895.921875, interrupt=9.4375, dpc=1.765625),\n",
       " scputimes(user=252.640625, system=159.0625, idle=17334.546875, interrupt=32.078125, dpc=93.03125),\n",
       " scputimes(user=71.796875, system=53.34375, idle=17621.109375, interrupt=2.09375, dpc=18.9375),\n",
       " scputimes(user=626.75, system=107.71875, idle=17011.78125, interrupt=19.78125, dpc=61.515625),\n",
       " scputimes(user=102.484375, system=100.859375, idle=17542.90625, interrupt=7.046875, dpc=53.84375)]"
      ]
     },
     "execution_count": 9,
     "metadata": {},
     "output_type": "execute_result"
    }
   ],
   "source": [
    "psutil.cpu_times(percpu=True) # True ise, tüm iş parçacıkları için dönecektir. False içinse ilki için\n",
    "# If true, it will return for all threads. For false, for the first"
   ]
  },
  {
   "cell_type": "markdown",
   "id": "efd78364",
   "metadata": {},
   "source": [
    "* user: time spent by normal processes executing in user mode; on Linux this also includes guest time\n",
    "* system: time spent by processes executing in kernel mode\n",
    "* idle: time spent doing nothing\n",
    "\n",
    "* kullanıcı: kullanıcı modunda yürütülen normal işlemler tarafından harcanan zaman; Linux'ta buna misafir zamanı da dahildir\n",
    "* sistem: çekirdek modunda yürütülen işlemler tarafından harcanan zaman\n",
    "* boşta: hiçbir şey yapmadan harcanan zaman"
   ]
  },
  {
   "cell_type": "code",
   "execution_count": 10,
   "id": "342ab5a2",
   "metadata": {},
   "outputs": [
    {
     "data": {
      "text/plain": [
       "(0.0, 0.0, 0.0)"
      ]
     },
     "execution_count": 10,
     "metadata": {},
     "output_type": "execute_result"
    }
   ],
   "source": [
    "psutil.getloadavg() "
   ]
  },
  {
   "cell_type": "markdown",
   "id": "4c5df132",
   "metadata": {},
   "source": [
    "* EN:\n",
    "Return a tuple containing the average system load over the last 1, 5, and 15 minutes. “Load” represents the processes that are executable using or waiting to use the CPU (for example, waiting for disk I/O).\n",
    "On Windows, this is emulated using a Windows API that creates a thread that continues to run in the background and updates the results every 5 seconds, emulating UNIX behavior. So on Windows this will return a meaningless tuple the first time it is called and for the next 5 seconds. The numbers returned are meaningful only if they relate to the number of CPU cores installed in the system.\n",
    "\n",
    "For example, a value of 3.14 means that on a system with 10 logical CPUs, the system load has been 31.4 percent for the last N minutes.\n",
    "\n",
    "* TR:\n",
    "Son 1, 5 ve 15 dakikadaki ortalama sistem yükünü içeren bir tuple döndürün.. “Yük”, CPU'yu kullanan veya CPU'yu kullanmayı bekleyen (örneğin, disk G/Ç'sini bekleyen) çalıştırılabilir durumda olan işlemleri temsil eder.\n",
    "Windows'ta bu, arka planda çalışmaya devam eden ve sonuçları her 5 saniyede bir güncelleyerek UNIX davranışını taklit eden bir iş parçacığı oluşturan bir Windows API'si kullanılarak öykünür. Bu nedenle, Windows'ta bu ilk çağrıldığında ve sonraki 5 saniye boyunca anlamsız bir tanımlama grubu döndürecektir. Döndürülen sayılar, yalnızca sistemde kurulu CPU çekirdeklerinin sayısıyla ilgiliyse anlamlıdır.\n",
    "\n",
    "Örneğin, 3.14 değeri 10 mantıksal CPU'lu bir sistemde, sistem yükünün son N dakika boyunca yüzde 31,4 olduğu anlamına gelir."
   ]
  },
  {
   "cell_type": "code",
   "execution_count": 11,
   "id": "c06b1ce5",
   "metadata": {},
   "outputs": [
    {
     "data": {
      "text/plain": [
       "[0.0, 0.0, 0.0]"
      ]
     },
     "execution_count": 11,
     "metadata": {},
     "output_type": "execute_result"
    }
   ],
   "source": [
    "[x / psutil.cpu_count() * 100 for x in psutil.getloadavg()]"
   ]
  },
  {
   "cell_type": "markdown",
   "id": "12941055",
   "metadata": {},
   "source": [
    "## Memory"
   ]
  },
  {
   "cell_type": "code",
   "execution_count": 12,
   "id": "2587f788",
   "metadata": {},
   "outputs": [
    {
     "data": {
      "text/plain": [
       "svmem(total=34264551424, available=26030518272, percent=24.0, used=8234033152, free=26030518272)"
      ]
     },
     "execution_count": 12,
     "metadata": {},
     "output_type": "execute_result"
    }
   ],
   "source": [
    "# It gives information about ram in bytes.\n",
    "psutil.virtual_memory() # Ram hakkında bilgiler verir Byte olarak. "
   ]
  },
  {
   "cell_type": "markdown",
   "id": "c3dd5b4a",
   "metadata": {},
   "source": [
    "* used: memory used, calculated differently depending on the platform and designed for informational purposes only. total - free does not necessarily match used.\n",
    "* free: memory not being used at all (zeroed) that is readily available; note that this doesn’t reflect the actual memory available (use available instead). total - used does not necessarily match free.\n",
    "* active (UNIX): memory currently in use or very recently used, and so it is in RAM.\n",
    "* inactive (UNIX): memory that is marked as not used.\n",
    "* buffers (Linux, BSD): cache for things like file system metadata.\n",
    "* cached (Linux, BSD): cache for various things.\n",
    "* shared (Linux, BSD): memory that may be simultaneously accessed by multiple processes.\n",
    "* slab (Linux): in-kernel data structures cache.\n",
    "* wired (BSD, macOS): memory that is marked to always stay in RAM. It is never moved to disk.\n",
    "\n",
    "The sum of used and available does not necessarily equal total. On Windows available and free are the same.\n",
    "\n",
    "\n",
    "* kullanılan: kullanılan bellek, platforma bağlı olarak farklı şekilde hesaplanır ve yalnızca bilgi amaçlı tasarlanmıştır. toplam - ücretsiz, kullanılanla mutlaka eşleşmez.\n",
    "* boş: hiç kullanılmayan (sıfırlanmış) ve hazır bellek; bunun mevcut gerçek belleği yansıtmadığını unutmayın (bunun yerine kullanılabilir belleği kullanın). toplam - kullanılan mutlaka ücretsiz eşleşmez.\n",
    "* aktif (UNIX): şu anda kullanımda olan veya çok yakın zamanda kullanılan bellek ve bu nedenle RAM'dedir.\n",
    "* etkin değil (UNIX): Kullanılmıyor olarak işaretlenmiş bellek.\n",
    "* arabellekler (Linux, BSD): dosya sistemi meta verileri gibi şeyler için önbellek.\n",
    "* önbelleğe alınmış (Linux, BSD): çeşitli şeyler için önbellek.\n",
    "* paylaşılan (Linux, BSD): birden fazla işlem tarafından aynı anda erişilebilen bellek.\n",
    "* levha (Linux): çekirdek içi veri yapıları önbelleği.\n",
    "* kablolu (BSD, macOS): Her zaman RAM'de kalacak şekilde işaretlenmiş bellek. Asla diske taşınmaz.\n",
    "\n",
    "Kullanılan ve kullanılabilir toplamı mutlaka toplam eşit değildir. Windows'ta kullanılabilir ve ücretsiz aynıdır."
   ]
  },
  {
   "cell_type": "code",
   "execution_count": 13,
   "id": "941bb757",
   "metadata": {},
   "outputs": [
    {
     "data": {
      "text/plain": [
       "{'total': 34264551424,\n",
       " 'available': 26032287744,\n",
       " 'percent': 24.0,\n",
       " 'used': 8232263680,\n",
       " 'free': 26032287744}"
      ]
     },
     "execution_count": 13,
     "metadata": {},
     "output_type": "execute_result"
    }
   ],
   "source": [
    "dict(psutil.virtual_memory()._asdict())"
   ]
  },
  {
   "cell_type": "code",
   "execution_count": 14,
   "id": "aad493b2",
   "metadata": {},
   "outputs": [
    {
     "data": {
      "text/plain": [
       "24.0"
      ]
     },
     "execution_count": 14,
     "metadata": {},
     "output_type": "execute_result"
    }
   ],
   "source": [
    "psutil.virtual_memory().percent"
   ]
  },
  {
   "cell_type": "markdown",
   "id": "cbcfe102",
   "metadata": {},
   "source": [
    "Let's say you want to control the amount of RAM or limit a task. You can use code like below.\n",
    "\n",
    "RAM miktarını kontrol etmek veya bir görevi sınırlandırmak istiyorsunuz diyelim. Aşağıda ki gibi bir kod kullanabilirsiniz."
   ]
  },
  {
   "cell_type": "code",
   "execution_count": 15,
   "id": "be629d49",
   "metadata": {},
   "outputs": [
    {
     "data": {
      "text/plain": [
       "svmem(total=34264551424, available=26036793344, percent=24.0, used=8227758080, free=26036793344)"
      ]
     },
     "execution_count": 15,
     "metadata": {},
     "output_type": "execute_result"
    }
   ],
   "source": [
    "mem = psutil.virtual_memory()\n",
    "mem"
   ]
  },
  {
   "cell_type": "code",
   "execution_count": 16,
   "id": "309477d3",
   "metadata": {},
   "outputs": [
    {
     "name": "stdout",
     "output_type": "stream",
     "text": [
      "WARNING!!!\n"
     ]
    }
   ],
   "source": [
    "THRESHOLD = 100 * 1024 * 1024 * 1024 # 100GB\n",
    "if mem.available <= THRESHOLD:\n",
    "    print(\"WARNING!!!\")"
   ]
  },
  {
   "cell_type": "markdown",
   "id": "5410cbb1",
   "metadata": {},
   "source": [
    "### Swap Memory:\n",
    "\n",
    "* EN:\n",
    "Swap Space is a partition on your hard disk that is reserved by the operating system. When the data to be processed does not fit in the cache (RAM), this section is used as \"RAM\" and thus the data flow and processes continue. Using swap space slows down operations because data read/write speeds on your disk are much slower than RAM. In the Linux operating system, this space is a reserved partition on the disk. However, in Microsoft operating systems, a file named \"pagefile.sys\" is created, data that does not fit into RAM is written in this area, and the size set in the Windows operating system setup is 1.5 times the average RAM amount and can be changed later. This created area is not normally visible to the user; but it is possible to see it with the programs of third party software manufacturers. In Linux operating systems, this area is determined by the user, it is usually allocated as twice the RAM value.\n",
    "\n",
    "* TR:\n",
    "Swap (Takas) Alanı, işletim sistemi tarafından sabit diskinizde ayrılmış bir bölümdür. İşlenecek veriler ön belleğe (RAM) sığmadığı zaman bu bölüm “RAM”  gibi kullanılır ve böylelikle veri akışının ve proseslerinin devam etmesi sağlanır. Diskinizdeki veri okuma/yazma hızları RAM biriminden çok daha düşük olduğu için swap alanının kullanılması işlemleri yavaşlatır. Linux işletim sisteminde bu alan disk üzerindeki ayrılan bir bölümdür. Fakat Microsoft’a ait işletim sistemlerinde “pagefile.sys” isminde bir dosya oluşturulur, RAM’e sığmayan veri bu alana yazılır ve Windows işletim sistemi kurulumunda ayarlanan boyut ortalama RAM miktarının 1.5 katıdır ve daha sonradan değiştirilebilir. Bu oluşturulan alanı kullanıcı normal olarak göremez; ancak üçüncü parti yazılım üreticilerinin programları ile görmesi mümkündür. Linux işletim sistemlerinde bu alanı kullanıcı belirler, genelde RAM değerinin iki katı olarak ayrılır."
   ]
  },
  {
   "cell_type": "code",
   "execution_count": 17,
   "id": "f5919a1b",
   "metadata": {},
   "outputs": [
    {
     "data": {
      "text/plain": [
       "sswap(total=98689060864, used=13979852800, free=84709208064, percent=14.2, sin=0, sout=0)"
      ]
     },
     "execution_count": 17,
     "metadata": {},
     "output_type": "execute_result"
    }
   ],
   "source": [
    "psutil.swap_memory()"
   ]
  },
  {
   "cell_type": "markdown",
   "id": "004d250b",
   "metadata": {},
   "source": [
    "* EN:\n",
    "* total: total swap memory in bytes\n",
    "* used: used swap memory in bytes\n",
    "* free: free swap memory in bytes\n",
    "* percent: the percentage usage calculated as (total - available) / total * 100\n",
    "* sin: the number of bytes the system has swapped in from disk (cumulative)\n",
    "* sout: the number of bytes the system has swapped out from disk (cumulative)\n",
    "\n",
    "* TR:\n",
    "* toplam: bayt cinsinden toplam takas belleği\n",
    "* kullanılan: bayt olarak kullanılan takas belleği\n",
    "* ücretsiz: bayt cinsinden ücretsiz takas belleği\n",
    "* yüzde: (toplam - kullanılabilir) / toplam olarak hesaplanan kullanım yüzdesi * 100\n",
    "* günah: sistemin diskten takas ettiği bayt sayısı (kümülatif)\n",
    "* sout: sistemin diskten takas ettiği bayt sayısı (kümülatif)"
   ]
  },
  {
   "cell_type": "code",
   "execution_count": 18,
   "id": "a97691f7",
   "metadata": {},
   "outputs": [
    {
     "data": {
      "text/plain": [
       "[sdiskpart(device='C:\\\\', mountpoint='C:\\\\', fstype='NTFS', opts='rw,fixed', maxfile=255, maxpath=260),\n",
       " sdiskpart(device='D:\\\\', mountpoint='D:\\\\', fstype='NTFS', opts='rw,fixed', maxfile=255, maxpath=260),\n",
       " sdiskpart(device='E:\\\\', mountpoint='E:\\\\', fstype='NTFS', opts='rw,fixed', maxfile=255, maxpath=260)]"
      ]
     },
     "execution_count": 18,
     "metadata": {},
     "output_type": "execute_result"
    }
   ],
   "source": [
    "psutil.disk_partitions()"
   ]
  },
  {
   "cell_type": "markdown",
   "id": "9f4d5a2c",
   "metadata": {},
   "source": [
    "* EN:\n",
    "* device: the device path (e.g. \"/dev/hda1\"). On Windows this is the drive letter (e.g. \"C:\\\\\").\n",
    "* mountpoint: the mount point path (e.g. \"/\"). On Windows this is the drive letter (e.g. \"C:\\\\\").\n",
    "* fstype: the partition filesystem (e.g. \"ext3\" on UNIX or \"NTFS\" on Windows).\n",
    "* opts: a comma-separated string indicating different mount options for the drive/partition. Platform-dependent.\n",
    "* maxfile: the maximum length a file name can have.\n",
    "* maxpath: the maximum length a path name (directory name + base file name) can have.\n",
    "\n",
    "\n",
    "* TR:\n",
    "* cihaz: cihaz yolu (ör. \"/dev/hda1\"). Windows'ta bu, sürücü harfidir (ör. \"C:\\\\\").\n",
    "* bağlama noktası: bağlama noktası yolu (ör. \"/\"). Windows'ta bu, sürücü harfidir (ör. \"C:\\\\\").\n",
    "* fstype: bölüm dosya sistemi (örneğin, UNIX'te \"ext3\" veya Windows'ta \"NTFS\").\n",
    "* opts: sürücü/bölüm için farklı bağlama seçeneklerini gösteren virgülle ayrılmış bir dize. Platforma bağlı.\n",
    "* maxfile: bir dosya adının sahip olabileceği maksimum uzunluk.\n",
    "* maxpath: bir yol adının (dizin adı + temel dosya adı) sahip olabileceği maksimum uzunluk."
   ]
  },
  {
   "cell_type": "code",
   "execution_count": 19,
   "id": "a7b6574d",
   "metadata": {},
   "outputs": [
    {
     "data": {
      "text/plain": [
       "sdiskusage(total=1000186310656, used=329342124032, free=670844186624, percent=32.9)"
      ]
     },
     "execution_count": 19,
     "metadata": {},
     "output_type": "execute_result"
    }
   ],
   "source": [
    "psutil.disk_usage('/') # şuanki diskin kullanım oranı/path verip diğer disklere bakabilirsiniz"
   ]
  },
  {
   "cell_type": "code",
   "execution_count": 20,
   "id": "d2b94a5e",
   "metadata": {},
   "outputs": [
    {
     "data": {
      "text/plain": [
       "{'PhysicalDrive0': sdiskio(read_count=76179, write_count=450, read_bytes=10051227136, write_bytes=2748416, read_time=245, write_time=10),\n",
       " 'PhysicalDrive1': sdiskio(read_count=1001154, write_count=301648, read_bytes=23209784320, write_bytes=7416914432, read_time=335, write_time=69),\n",
       " 'PhysicalDrive2': sdiskio(read_count=954, write_count=1684, read_bytes=30249472, write_bytes=18403328, read_time=0, write_time=2)}"
      ]
     },
     "execution_count": 20,
     "metadata": {},
     "output_type": "execute_result"
    }
   ],
   "source": [
    "psutil.disk_io_counters(perdisk=True, nowrap=True)"
   ]
  },
  {
   "cell_type": "markdown",
   "id": "85144c56",
   "metadata": {},
   "source": [
    "* EN:\n",
    "* read_count: number of reads\n",
    "* write_count: number of writes\n",
    "* read_bytes: number of bytes read\n",
    "* write_bytes: number of bytes written\n",
    "Platform-specific fields:\n",
    "\n",
    "* read_time: (all except NetBSD and OpenBSD) time spent reading from disk (in milliseconds)\n",
    "* write_time: (all except NetBSD and OpenBSD) time spent writing to disk (in milliseconds)\n",
    "* busy_time: (Linux, FreeBSD) time spent doing actual I/Os (in milliseconds)\n",
    "* read_merged_count (Linux): number of merged reads (see iostats doc)\n",
    "* write_merged_count (Linux): number of merged writes (see iostats doc)\n",
    "\n",
    "\n",
    "* TR:\n",
    "* read_count: okuma sayısı\n",
    "* write_count: yazma sayısı\n",
    "* read_bytes: okunan bayt sayısı\n",
    "* write_bytes: yazılan bayt sayısı\n",
    "Platforma özel alanlar:\n",
    "\n",
    "* read_time: (NetBSD ve OpenBSD hariç tümü) diskten okumaya harcanan süre (milisaniye olarak)\n",
    "* write_time: (NetBSD ve OpenBSD hariç tümü) diske yazmak için harcanan süre (milisaniye olarak)\n",
    "* meşgul_zaman: (Linux, FreeBSD) gerçek G/Ç'leri yapmak için harcanan süre (milisaniye cinsinden)\n",
    "* read_merged_count (Linux): birleştirilmiş okuma sayısı (bkz. iostats doc)\n",
    "* write_merged_count (Linux): birleştirilmiş yazma sayısı (bkz. iostats doc)"
   ]
  },
  {
   "cell_type": "markdown",
   "id": "f10b1d80",
   "metadata": {},
   "source": [
    "## Network"
   ]
  },
  {
   "cell_type": "code",
   "execution_count": 21,
   "id": "86e2d150",
   "metadata": {},
   "outputs": [
    {
     "data": {
      "text/plain": [
       "snetio(bytes_sent=26603214, bytes_recv=784764893, packets_sent=144055, packets_recv=601595, errin=0, errout=0, dropin=0, dropout=0)"
      ]
     },
     "execution_count": 21,
     "metadata": {},
     "output_type": "execute_result"
    }
   ],
   "source": [
    "psutil.net_io_counters(pernic=False, nowrap=True)"
   ]
  },
  {
   "cell_type": "markdown",
   "id": "30f98688",
   "metadata": {},
   "source": [
    "* EN:\n",
    "Return system-wide network I/O statistics as a named tuple including the following attributes:\n",
    "\n",
    "* bytes_sent: number of bytes sent\n",
    "* bytes_recv: number of bytes received\n",
    "* packets_sent: number of packets sent\n",
    "* packets_recv: number of packets received\n",
    "* errin: total number of errors while receiving\n",
    "* errout: total number of errors while sending\n",
    "* dropin: total number of incoming packets which were dropped\n",
    "* dropout: total number of outgoing packets which were dropped (always 0 on macOS and BSD)\n",
    "\n",
    "\n",
    "* TR:\n",
    "Aşağıdaki öznitelikleri içeren adlandırılmış bir demet olarak sistem genelinde ağ G/Ç istatistiklerini döndürün:\n",
    "\n",
    "* bytes_sent: gönderilen bayt sayısı\n",
    "* bytes_recv: alınan bayt sayısı\n",
    "* packages_sent: gönderilen paket sayısı\n",
    "* packages_recv: alınan paket sayısı\n",
    "* errin: alınırken oluşan toplam hata sayısı\n",
    "* errout: gönderirken toplam hata sayısı\n",
    "* dropin: bırakılan toplam gelen paket sayısı\n",
    "* bırakma: bırakılan toplam giden paket sayısı (macOS ve BSD'de her zaman 0)"
   ]
  },
  {
   "cell_type": "code",
   "execution_count": 22,
   "id": "284ae8c1",
   "metadata": {},
   "outputs": [],
   "source": [
    "#psutil.net_connections(kind='inet')"
   ]
  },
  {
   "cell_type": "markdown",
   "id": "2d034019",
   "metadata": {},
   "source": [
    "* EN:\n",
    "* fd: the socket file descriptor. If the connection refers to the current process this may be passed to socket.fromfd to obtain a usable socket object. On Windows and SunOS this is always set to -1.\n",
    "* family: the address family, either AF_INET, AF_INET6 or AF_UNIX.\n",
    "* type: the address type, either SOCK_STREAM, SOCK_DGRAM or SOCK_SEQPACKET.\n",
    "* laddr: the local address as a (ip, port) named tuple or a path in case of AF_UNIX sockets. For UNIX sockets see notes below.\n",
    "* raddr: the remote address as a (ip, port) named tuple or an absolute path in case of UNIX sockets. When the remote endpoint is not connected you’ll get an empty tuple (AF_INET*) or \"\" (AF_UNIX). For UNIX sockets see notes below.\n",
    "* status: represents the status of a TCP connection. The return value is one of the psutil.CONN_* constants (a string). For UDP and UNIX sockets this is always going to be psutil.CONN_NONE.\n",
    "* pid: the PID of the process which opened the socket, if retrievable, else None. On some platforms (e.g. Linux) the availability of this field changes depending on process privileges (root is needed).\n",
    "\n",
    "\n",
    "* TR:\n",
    "* fd: soket dosyası tanımlayıcısı. Bağlantı mevcut sürece atıfta bulunuyorsa, bu, kullanılabilir bir soket nesnesi elde etmek için socket.fromfd'ye iletilebilir. Windows ve SunOS'ta bu her zaman -1'e ayarlıdır.\n",
    "* ailesi: AF_INET, AF_INET6 veya AF_UNIX adres ailesi.\n",
    "* tür: adres türü, SOCK_STREAM, SOCK_DGRAM veya SOCK_SEQPACKET.\n",
    "* laddr: AF_UNIX soketleri olması durumunda, bir (ip, port) olarak adlandırılan demet veya bir yol olarak yerel adres. UNIX soketleri için aşağıdaki notlara bakın.\n",
    "* raddr: UNIX soketleri durumunda, tuple adında bir (ip, port) veya mutlak yol olarak uzak adres. Uzak uç nokta bağlı olmadığında boş bir demet (AF_INET*) veya \"\" (AF_UNIX) alırsınız. UNIX soketleri için aşağıdaki notlara bakın.\n",
    "* durum: bir TCP bağlantısının durumunu temsil eder. Dönüş değeri, psutil.CONN_* sabitlerinden biridir (bir dize). UDP ve UNIX soketleri için bu her zaman psutil.CONN_NONE olacaktır.\n",
    "* pid: Alınabiliyorsa, soketi açan işlemin PID'si, aksi takdirde Yok. Bazı platformlarda (örneğin Linux) bu alanın kullanılabilirliği işlem ayrıcalıklarına bağlı olarak değişir (kök gereklidir)."
   ]
  },
  {
   "cell_type": "code",
   "execution_count": 23,
   "id": "d0037ba9",
   "metadata": {},
   "outputs": [],
   "source": [
    "#psutil.net_if_addrs()"
   ]
  },
  {
   "cell_type": "markdown",
   "id": "c370a62f",
   "metadata": {},
   "source": [
    "* EN:\n",
    "* family: the address family, either AF_INET or AF_INET6 or psutil.AF_LINK, which refers to a MAC address.\n",
    "* address: the primary NIC address (always set).\n",
    "* netmask: the netmask address (may be None).\n",
    "* broadcast: the broadcast address (may be None).\n",
    "* ptp: stands for “point to point”; it’s the destination address on a point to point interface (typically a VPN). broadcast and ptp are mutually exclusive. May be None.\n",
    "\n",
    "* TR:\n",
    "* aile: bir MAC adresine atıfta bulunan AF_INET veya AF_INET6 veya psutil.AF_LINK adres ailesi.\n",
    "* adres: birincil NIC adresi (her zaman ayarlanır).\n",
    "* ağ maskesi: ağ maskesi adresi (Yok olabilir).\n",
    "* yayın: yayın adresi (Yok olabilir).\n",
    "* ptp: \"noktadan noktaya\" anlamına gelir; noktadan noktaya arabirimdeki (genellikle bir VPN) hedef adrestir. yayın ve ptp birbirini dışlar. Hiçbiri olabilir."
   ]
  },
  {
   "cell_type": "code",
   "execution_count": 24,
   "id": "5cd06c67",
   "metadata": {},
   "outputs": [
    {
     "data": {
      "text/plain": [
       "{'Ethernet': snicstats(isup=True, duplex=<NicDuplex.NIC_DUPLEX_FULL: 2>, speed=1000, mtu=1500),\n",
       " 'VirtualBox Host-Only Network': snicstats(isup=True, duplex=<NicDuplex.NIC_DUPLEX_FULL: 2>, speed=1000, mtu=1500),\n",
       " 'Loopback Pseudo-Interface 1': snicstats(isup=True, duplex=<NicDuplex.NIC_DUPLEX_FULL: 2>, speed=1073, mtu=1500)}"
      ]
     },
     "execution_count": 24,
     "metadata": {},
     "output_type": "execute_result"
    }
   ],
   "source": [
    "psutil.net_if_stats()"
   ]
  },
  {
   "cell_type": "markdown",
   "id": "6a67989d",
   "metadata": {},
   "source": [
    "* EN:\n",
    "* isup: a bool indicating whether the NIC is up and running (meaning ethernet cable or Wi-Fi is connected).\n",
    "* duplex: the duplex communication type; it can be either NIC_DUPLEX_FULL, NIC_DUPLEX_HALF or NIC_DUPLEX_UNKNOWN.\n",
    "* speed: the NIC speed expressed in mega bits (MB), if it can’t be determined (e.g. ‘localhost’) it will be set to 0.\n",
    "* mtu: NIC’s maximum transmission unit expressed in bytes.\n",
    "\n",
    "* TR:\n",
    "* isup: NIC'nin çalışır durumda olup olmadığını gösteren bir bool (ethernet kablosu veya Wi-Fi bağlı olduğu anlamına gelir).\n",
    "* dubleks: dubleks iletişim tipi; NIC_DUPLEX_FULL, NIC_DUPLEX_HALF veya NIC_DUPLEX_UNKNOWN olabilir.\n",
    "* hız: mega bit (MB) cinsinden ifade edilen NIC hızı, belirlenemezse (ör. \"localhost\") 0 olarak ayarlanır.\n",
    "* mtu: NIC'nin bayt cinsinden ifade edilen maksimum aktarım birimi."
   ]
  },
  {
   "cell_type": "markdown",
   "id": "e35eca66",
   "metadata": {},
   "source": [
    "## Sensors\n",
    "\n",
    "* EN:\n",
    "Get hardware temperatures. Each entry is a named bundle representing a specific hardware temperature sensor (it could be a CPU, a hard disk, or something else, depending on the OS and configuration). All temperatures are expressed in degrees Celsius can also be taken in degrees Fahrenheit. It doesn't apply to most Windows, so it's in the comment line.\n",
    "\n",
    "* TR:\n",
    "Donanım sıcaklıklarını alın. Her giriş, belirli bir donanım sıcaklık sensörünü temsil eden adlandırılmış bir demettir (işletim sistemine ve yapılandırmasına bağlı olarak bir CPU, bir sabit disk veya başka bir şey olabilir). Tüm sıcaklıklar santigrat olarak ifade edilmiştir fahrenhayt olarak da alınabilir. Çoğu Windows için geçerli değildir o nedenle yorum satırındadır."
   ]
  },
  {
   "cell_type": "code",
   "execution_count": 25,
   "id": "b2873630",
   "metadata": {},
   "outputs": [],
   "source": [
    "#psutil.sensors_temperatures(fahrenheit=False)"
   ]
  },
  {
   "cell_type": "code",
   "execution_count": 26,
   "id": "7d3cd424",
   "metadata": {},
   "outputs": [],
   "source": [
    "#psutil.sensors_fans() "
   ]
  },
  {
   "cell_type": "code",
   "execution_count": 27,
   "id": "7bd034d3",
   "metadata": {},
   "outputs": [],
   "source": [
    "psutil.sensors_battery() "
   ]
  },
  {
   "cell_type": "markdown",
   "id": "34c49617",
   "metadata": {},
   "source": [
    "* EN:\n",
    "* percent: battery power left as a percentage.\n",
    "* secsleft: a rough approximation of how many seconds are left before the battery runs out of power. If the AC power cable is connected this is set to psutil.POWER_TIME_UNLIMITED. If it can’t be determined it is set to psutil.POWER_TIME_UNKNOWN.\n",
    "* power_plugged: True if the AC power cable is connected, False if not or None if it can’t be determined.\n",
    "\n",
    "* TR:\n",
    "* percent: yüzde olarak kalan pil gücü.\n",
    "* secsleft: pilin bitmesine kaç saniye kaldığının kabaca bir tahmini. AC güç kablosu bağlıysa bu, psutil.POWER_TIME_UNLIMITED olarak ayarlanır. Belirlenemiyorsa psutil.POWER_TIME_UNKNOWN olarak ayarlanır.\n",
    "* power_plugged: AC güç kablosu bağlıysa Doğru, Değilse Yanlış veya belirlenemezse Hiçbiri."
   ]
  },
  {
   "cell_type": "code",
   "execution_count": 28,
   "id": "8d66b17a",
   "metadata": {},
   "outputs": [],
   "source": [
    "#battery = psutil.sensors_battery()\n",
    "#print(\"charge = %s%%, time left = %s\" % (battery.percent, secs2hours(battery.secsleft)))"
   ]
  },
  {
   "cell_type": "markdown",
   "id": "e2d8ce4d",
   "metadata": {},
   "source": [
    "## Diğer sistem bilgileri"
   ]
  },
  {
   "cell_type": "code",
   "execution_count": 29,
   "id": "63e74476",
   "metadata": {},
   "outputs": [
    {
     "data": {
      "text/plain": [
       "1626686110.4764016"
      ]
     },
     "execution_count": 29,
     "metadata": {},
     "output_type": "execute_result"
    }
   ],
   "source": [
    "psutil.boot_time()"
   ]
  },
  {
   "cell_type": "code",
   "execution_count": 30,
   "id": "7168a61c",
   "metadata": {},
   "outputs": [
    {
     "data": {
      "text/plain": [
       "'2021-07-19 12:15:10'"
      ]
     },
     "execution_count": 30,
     "metadata": {},
     "output_type": "execute_result"
    }
   ],
   "source": [
    "datetime.datetime.fromtimestamp(psutil.boot_time()).strftime(\"%Y-%m-%d %H:%M:%S\")"
   ]
  },
  {
   "cell_type": "code",
   "execution_count": 31,
   "id": "a6b4c477",
   "metadata": {},
   "outputs": [
    {
     "data": {
      "text/plain": [
       "[suser(name='User', terminal=None, host=None, started=1626697689.5410993, pid=None)]"
      ]
     },
     "execution_count": 31,
     "metadata": {},
     "output_type": "execute_result"
    }
   ],
   "source": [
    "psutil.users()"
   ]
  },
  {
   "cell_type": "markdown",
   "id": "102e645e",
   "metadata": {},
   "source": [
    "* EN:\n",
    "* name: the name of the user.\n",
    "* terminal: the tty or pseudo-tty associated with the user, if any, else None.\n",
    "* host: the host name associated with the entry, if any.\n",
    "* started: the creation time as a floating point number expressed in seconds since the epoch.\n",
    "* pid: the PID of the login process (like sshd, tmux, gdm-session-worker, …). On Windows and OpenBSD this is always set to None.\n",
    "\n",
    "* TR:\n",
    "* name: kullanıcının adı.\n",
    "* terminal: varsa, kullanıcıyla ilişkili tty veya sözde tty, yoksa Yok.\n",
    "* ana bilgisayar: varsa, girişle ilişkili ana bilgisayar adı.\n",
    "* başladı: Çağdan bu yana saniye cinsinden ifade edilen kayan nokta sayısı olarak oluşturma süresi.\n",
    "* pid: oturum açma işleminin PID'si (sshd, tmux, gdm-session-worker, … gibi). Windows ve OpenBSD'de bu her zaman Yok olarak ayarlanır."
   ]
  },
  {
   "cell_type": "markdown",
   "id": "18506c41",
   "metadata": {},
   "source": [
    "## Processes\n",
    "### Functions\n",
    "\n",
    "* EN:\n",
    "PID: proportional-integral-derivative controller control loop method is a feedback controller method commonly used in industrial control systems. A PID controller continuously calculates an error value, ie the difference between the intended system state and the current system state. The controller tries to minimize the error by adjusting the process control input.\n",
    "\n",
    "\n",
    "* TR: \n",
    "PID (İngilizce: Proportional Integral Derivative) oransal-integral-türevsel denetleyici kontrol döngüsü yöntemi, endüstriyel kontrol sistemlerinde yaygın olarak kullanılan bir geri besleme denetleyicisi yöntemidir. Bir PID denetleyici sürekli olarak bir hata değerini, yani amaçlanan sistem durumu ile mevcut sistem durumu arasındaki farkı hesaplar. Denetleyici süreç kontrol girdisini ayarlayarak hatayı en aza indirmeye çalışır."
   ]
  },
  {
   "cell_type": "code",
   "execution_count": 32,
   "id": "b999336f",
   "metadata": {},
   "outputs": [
    {
     "data": {
      "text/plain": [
       "[0,\n",
       " 4,\n",
       " 268,\n",
       " 752,\n",
       " 840,\n",
       " 920,\n",
       " 960,\n",
       " 1012,\n",
       " 1032,\n",
       " 1156,\n",
       " 1184,\n",
       " 1220,\n",
       " 1244,\n",
       " 1292,\n",
       " 1348,\n",
       " 1520,\n",
       " 1656,\n",
       " 1660,\n",
       " 1684,\n",
       " 1740,\n",
       " 1744,\n",
       " 1756,\n",
       " 1856,\n",
       " 1928,\n",
       " 1948,\n",
       " 1996,\n",
       " 2008,\n",
       " 2108,\n",
       " 2236,\n",
       " 2244,\n",
       " 2264,\n",
       " 2304,\n",
       " 2388,\n",
       " 2392,\n",
       " 2456,\n",
       " 2556,\n",
       " 2576,\n",
       " 2628,\n",
       " 2708,\n",
       " 2716,\n",
       " 2724,\n",
       " 2788,\n",
       " 2840,\n",
       " 2892,\n",
       " 2932,\n",
       " 2960,\n",
       " 2968,\n",
       " 3120,\n",
       " 3140,\n",
       " 3472,\n",
       " 3560,\n",
       " 3624,\n",
       " 3708,\n",
       " 3728,\n",
       " 3736,\n",
       " 3768,\n",
       " 3828,\n",
       " 3852,\n",
       " 3864,\n",
       " 3872,\n",
       " 4036,\n",
       " 4116,\n",
       " 4172,\n",
       " 4260,\n",
       " 4344,\n",
       " 4380,\n",
       " 4392,\n",
       " 4484,\n",
       " 4584,\n",
       " 4596,\n",
       " 4604,\n",
       " 4612,\n",
       " 4620,\n",
       " 4632,\n",
       " 4640,\n",
       " 4648,\n",
       " 4656,\n",
       " 4664,\n",
       " 4672,\n",
       " 4680,\n",
       " 4740,\n",
       " 4748,\n",
       " 4760,\n",
       " 4772,\n",
       " 4808,\n",
       " 4816,\n",
       " 4824,\n",
       " 4832,\n",
       " 4840,\n",
       " 4848,\n",
       " 4864,\n",
       " 4876,\n",
       " 4944,\n",
       " 5220,\n",
       " 5296,\n",
       " 5544,\n",
       " 5648,\n",
       " 5672,\n",
       " 5712,\n",
       " 5736,\n",
       " 5800,\n",
       " 5868,\n",
       " 6312,\n",
       " 6584,\n",
       " 6712,\n",
       " 6716,\n",
       " 6860,\n",
       " 7032,\n",
       " 7308,\n",
       " 7316,\n",
       " 7608,\n",
       " 7764,\n",
       " 7832,\n",
       " 7916,\n",
       " 8308,\n",
       " 8348,\n",
       " 8384,\n",
       " 8492,\n",
       " 8752,\n",
       " 8872,\n",
       " 9104,\n",
       " 9220,\n",
       " 9344,\n",
       " 9368,\n",
       " 9624,\n",
       " 9812,\n",
       " 9820,\n",
       " 9848,\n",
       " 9860,\n",
       " 10068,\n",
       " 10072,\n",
       " 10116,\n",
       " 10124,\n",
       " 10156,\n",
       " 10316,\n",
       " 10336,\n",
       " 10404,\n",
       " 10712,\n",
       " 10720,\n",
       " 10756,\n",
       " 10840,\n",
       " 10864,\n",
       " 10904,\n",
       " 10992,\n",
       " 11036,\n",
       " 11140,\n",
       " 11372,\n",
       " 11380,\n",
       " 11416,\n",
       " 11456,\n",
       " 11460,\n",
       " 11540,\n",
       " 11980,\n",
       " 12080,\n",
       " 12124,\n",
       " 12344,\n",
       " 12404,\n",
       " 12548,\n",
       " 12780,\n",
       " 12812,\n",
       " 13392,\n",
       " 13560,\n",
       " 13704,\n",
       " 13792,\n",
       " 13820,\n",
       " 13904,\n",
       " 13980,\n",
       " 14024,\n",
       " 14040,\n",
       " 14084,\n",
       " 14128,\n",
       " 14260,\n",
       " 14356,\n",
       " 14672,\n",
       " 14796,\n",
       " 15048,\n",
       " 15364,\n",
       " 15664,\n",
       " 15736,\n",
       " 15956,\n",
       " 15968,\n",
       " 16120,\n",
       " 16240,\n",
       " 16424,\n",
       " 16532,\n",
       " 16796,\n",
       " 16844,\n",
       " 16896,\n",
       " 16996,\n",
       " 17076,\n",
       " 17108,\n",
       " 17132,\n",
       " 17136,\n",
       " 17144,\n",
       " 17172,\n",
       " 17208,\n",
       " 17292,\n",
       " 17320,\n",
       " 17412,\n",
       " 17428,\n",
       " 17688,\n",
       " 17844,\n",
       " 17860,\n",
       " 18248,\n",
       " 18644,\n",
       " 18740,\n",
       " 18912,\n",
       " 19084,\n",
       " 19136,\n",
       " 19200,\n",
       " 19420,\n",
       " 19520,\n",
       " 19620,\n",
       " 19996,\n",
       " 20040,\n",
       " 20048,\n",
       " 20088,\n",
       " 20364,\n",
       " 20380,\n",
       " 20432,\n",
       " 20520,\n",
       " 20620,\n",
       " 20628,\n",
       " 21048,\n",
       " 21176,\n",
       " 21520,\n",
       " 21836,\n",
       " 22132,\n",
       " 22372]"
      ]
     },
     "execution_count": 32,
     "metadata": {},
     "output_type": "execute_result"
    }
   ],
   "source": [
    "psutil.pids() # Return a sorted list of current running PIDs/Geçerli çalışan PID'lerin sıralanmış bir listesini döndürün."
   ]
  },
  {
   "cell_type": "code",
   "execution_count": 33,
   "id": "20a2f33b",
   "metadata": {},
   "outputs": [
    {
     "data": {
      "text/plain": [
       "<generator object process_iter at 0x0000019D7FEB8E40>"
      ]
     },
     "execution_count": 33,
     "metadata": {},
     "output_type": "execute_result"
    }
   ],
   "source": [
    "psutil.process_iter()\n",
    "# Bir Generator oluşturur ve hayatta olan PID'leri döndürebilirsiniz.\n",
    "# It creates a Generator and you can return surviving PIDs."
   ]
  },
  {
   "cell_type": "code",
   "execution_count": 34,
   "id": "7b3e71b0",
   "metadata": {},
   "outputs": [
    {
     "name": "stdout",
     "output_type": "stream",
     "text": [
      "{'pid': 0, 'username': 'NT AUTHORITY\\\\SYSTEM', 'name': 'System Idle Process'}\n",
      "{'pid': 4, 'username': 'NT AUTHORITY\\\\SYSTEM', 'name': 'System'}\n",
      "{'pid': 268, 'username': None, 'name': 'Registry'}\n",
      "{'pid': 752, 'username': None, 'name': 'smss.exe'}\n",
      "{'pid': 840, 'username': 'DESKTOP-5JMQF9Q\\\\User', 'name': 'msedgewebview2.exe'}\n",
      "{'pid': 920, 'username': None, 'name': 'csrss.exe'}\n",
      "{'pid': 960, 'username': None, 'name': 'services.exe'}\n",
      "{'pid': 1012, 'username': None, 'name': 'wininit.exe'}\n",
      "{'pid': 1032, 'username': None, 'name': 'lsass.exe'}\n",
      "{'pid': 1156, 'username': None, 'name': 'svchost.exe'}\n",
      "{'pid': 1184, 'username': None, 'name': 'fontdrvhost.exe'}\n",
      "{'pid': 1220, 'username': None, 'name': 'SearchProtocolHost.exe'}\n",
      "{'pid': 1244, 'username': None, 'name': 'svchost.exe'}\n",
      "{'pid': 1292, 'username': None, 'name': 'svchost.exe'}\n",
      "{'pid': 1348, 'username': 'DESKTOP-5JMQF9Q\\\\User', 'name': 'ArmourySwAgent.exe'}\n",
      "{'pid': 1520, 'username': 'DESKTOP-5JMQF9Q\\\\User', 'name': 'ArmouryCrate.UserSessionHelper.exe'}\n",
      "{'pid': 1656, 'username': 'DESKTOP-5JMQF9Q\\\\User', 'name': 'nvsphelper64.exe'}\n",
      "{'pid': 1660, 'username': None, 'name': 'svchost.exe'}\n",
      "{'pid': 1684, 'username': None, 'name': 'svchost.exe'}\n",
      "{'pid': 1740, 'username': None, 'name': 'svchost.exe'}\n",
      "{'pid': 1744, 'username': None, 'name': 'svchost.exe'}\n",
      "{'pid': 1756, 'username': None, 'name': 'svchost.exe'}\n",
      "{'pid': 1856, 'username': None, 'name': 'svchost.exe'}\n",
      "{'pid': 1928, 'username': None, 'name': 'svchost.exe'}\n",
      "{'pid': 1948, 'username': None, 'name': 'svchost.exe'}\n",
      "{'pid': 1996, 'username': None, 'name': 'svchost.exe'}\n",
      "{'pid': 2008, 'username': None, 'name': 'svchost.exe'}\n",
      "{'pid': 2108, 'username': None, 'name': 'svchost.exe'}\n",
      "{'pid': 2236, 'username': None, 'name': 'svchost.exe'}\n",
      "{'pid': 2244, 'username': None, 'name': 'svchost.exe'}\n",
      "{'pid': 2264, 'username': None, 'name': 'NVDisplay.Container.exe'}\n",
      "{'pid': 2304, 'username': None, 'name': 'svchost.exe'}\n",
      "{'pid': 2388, 'username': 'DESKTOP-5JMQF9Q\\\\User', 'name': 'chrome.exe'}\n",
      "{'pid': 2392, 'username': None, 'name': 'AsusCertService.exe'}\n",
      "{'pid': 2456, 'username': None, 'name': 'svchost.exe'}\n",
      "{'pid': 2556, 'username': None, 'name': 'svchost.exe'}\n",
      "{'pid': 2576, 'username': None, 'name': 'svchost.exe'}\n",
      "{'pid': 2628, 'username': None, 'name': 'svchost.exe'}\n",
      "{'pid': 2708, 'username': None, 'name': 'svchost.exe'}\n",
      "{'pid': 2716, 'username': None, 'name': 'svchost.exe'}\n",
      "{'pid': 2724, 'username': None, 'name': 'svchost.exe'}\n",
      "{'pid': 2788, 'username': None, 'name': 'svchost.exe'}\n",
      "{'pid': 2840, 'username': None, 'name': 'MemCompression'}\n",
      "{'pid': 2892, 'username': None, 'name': 'svchost.exe'}\n",
      "{'pid': 2932, 'username': None, 'name': 'svchost.exe'}\n",
      "{'pid': 2960, 'username': None, 'name': 'svchost.exe'}\n",
      "{'pid': 2968, 'username': None, 'name': 'svchost.exe'}\n",
      "{'pid': 3120, 'username': None, 'name': 'svchost.exe'}\n",
      "{'pid': 3140, 'username': None, 'name': 'WmiPrvSE.exe'}\n",
      "{'pid': 3472, 'username': 'DESKTOP-5JMQF9Q\\\\User', 'name': 'taskhostw.exe'}\n",
      "{'pid': 3560, 'username': None, 'name': 'svchost.exe'}\n",
      "{'pid': 3624, 'username': None, 'name': 'atkexComSvc.exe'}\n",
      "{'pid': 3708, 'username': None, 'name': 'svchost.exe'}\n",
      "{'pid': 3728, 'username': None, 'name': 'svchost.exe'}\n",
      "{'pid': 3736, 'username': 'DESKTOP-5JMQF9Q\\\\User', 'name': 'chrome.exe'}\n",
      "{'pid': 3768, 'username': 'DESKTOP-5JMQF9Q\\\\User', 'name': 'msedgewebview2.exe'}\n",
      "{'pid': 3828, 'username': 'DESKTOP-5JMQF9Q\\\\User', 'name': 'SearchApp.exe'}\n",
      "{'pid': 3852, 'username': None, 'name': 'svchost.exe'}\n",
      "{'pid': 3864, 'username': None, 'name': 'WmiPrvSE.exe'}\n",
      "{'pid': 3872, 'username': 'DESKTOP-5JMQF9Q\\\\User', 'name': 'msedgewebview2.exe'}\n",
      "{'pid': 4036, 'username': 'DESKTOP-5JMQF9Q\\\\User', 'name': 'chrome.exe'}\n",
      "{'pid': 4116, 'username': None, 'name': 'svchost.exe'}\n",
      "{'pid': 4172, 'username': None, 'name': 'svchost.exe'}\n",
      "{'pid': 4260, 'username': None, 'name': 'spoolsv.exe'}\n",
      "{'pid': 4344, 'username': None, 'name': 'svchost.exe'}\n",
      "{'pid': 4380, 'username': None, 'name': 'svchost.exe'}\n",
      "{'pid': 4392, 'username': None, 'name': 'svchost.exe'}\n",
      "{'pid': 4484, 'username': None, 'name': 'svchost.exe'}\n",
      "{'pid': 4584, 'username': None, 'name': 'ArmouryCrate.Service.exe'}\n",
      "{'pid': 4596, 'username': None, 'name': 'service.exe'}\n",
      "{'pid': 4604, 'username': None, 'name': 'svchost.exe'}\n",
      "{'pid': 4612, 'username': None, 'name': 'svchost.exe'}\n",
      "{'pid': 4620, 'username': None, 'name': 'AsusFanControlService.exe'}\n",
      "{'pid': 4632, 'username': None, 'name': 'LightKeeperService.exe'}\n",
      "{'pid': 4640, 'username': None, 'name': 'LightingService.exe'}\n",
      "{'pid': 4648, 'username': None, 'name': 'svchost.exe'}\n",
      "{'pid': 4656, 'username': None, 'name': 'MSI_Central_Service.exe'}\n",
      "{'pid': 4664, 'username': None, 'name': 'VoiceControl_Service.exe'}\n",
      "{'pid': 4672, 'username': None, 'name': 'OfficeClickToRun.exe'}\n",
      "{'pid': 4680, 'username': None, 'name': 'Mystic_Light_Service.exe'}\n",
      "{'pid': 4740, 'username': None, 'name': 'ServiceLayer.exe'}\n",
      "{'pid': 4748, 'username': None, 'name': 'MSI_Companion_Service.exe'}\n",
      "{'pid': 4760, 'username': None, 'name': 'MsMpEng.exe'}\n",
      "{'pid': 4772, 'username': None, 'name': 'svchost.exe'}\n",
      "{'pid': 4808, 'username': None, 'name': 'nvcontainer.exe'}\n",
      "{'pid': 4816, 'username': None, 'name': 'svchost.exe'}\n",
      "{'pid': 4824, 'username': None, 'name': 'ROGLiveService.exe'}\n",
      "{'pid': 4832, 'username': None, 'name': 'svchost.exe'}\n",
      "{'pid': 4840, 'username': None, 'name': 'svchost.exe'}\n",
      "{'pid': 4848, 'username': None, 'name': 'svchost.exe'}\n",
      "{'pid': 4864, 'username': None, 'name': 'svchost.exe'}\n",
      "{'pid': 4876, 'username': None, 'name': 'sqlwriter.exe'}\n",
      "{'pid': 4944, 'username': None, 'name': 'OriginWebHelperService.exe'}\n",
      "{'pid': 5220, 'username': None, 'name': 'svchost.exe'}\n",
      "{'pid': 5296, 'username': None, 'name': 'svchost.exe'}\n",
      "{'pid': 5544, 'username': None, 'name': 'svchost.exe'}\n",
      "{'pid': 5648, 'username': None, 'name': 'svchost.exe'}\n",
      "{'pid': 5672, 'username': None, 'name': 'winlogon.exe'}\n",
      "{'pid': 5712, 'username': None, 'name': 'svchost.exe'}\n",
      "{'pid': 5736, 'username': 'DESKTOP-5JMQF9Q\\\\User', 'name': 'msedgewebview2.exe'}\n",
      "{'pid': 5800, 'username': None, 'name': 'NVDisplay.Container.exe'}\n",
      "{'pid': 5868, 'username': 'DESKTOP-5JMQF9Q\\\\User', 'name': 'chrome.exe'}\n",
      "{'pid': 6312, 'username': 'DESKTOP-5JMQF9Q\\\\User', 'name': 'RuntimeBroker.exe'}\n",
      "{'pid': 6584, 'username': None, 'name': 'WmiPrvSE.exe'}\n",
      "{'pid': 6712, 'username': 'DESKTOP-5JMQF9Q\\\\User', 'name': 'WinStore.App.exe'}\n",
      "{'pid': 6716, 'username': 'DESKTOP-5JMQF9Q\\\\User', 'name': 'backgroundTaskHost.exe'}\n",
      "{'pid': 6860, 'username': 'DESKTOP-5JMQF9Q\\\\User', 'name': 'nvcontainer.exe'}\n",
      "{'pid': 7032, 'username': 'DESKTOP-5JMQF9Q\\\\User', 'name': 'svchost.exe'}\n",
      "{'pid': 7308, 'username': None, 'name': 'NisSrv.exe'}\n",
      "{'pid': 7316, 'username': 'DESKTOP-5JMQF9Q\\\\User', 'name': 'asus_framework.exe'}\n",
      "{'pid': 7608, 'username': None, 'name': 'svchost.exe'}\n",
      "{'pid': 7764, 'username': 'DESKTOP-5JMQF9Q\\\\User', 'name': 'TextInputHost.exe'}\n",
      "{'pid': 7832, 'username': None, 'name': 'svchost.exe'}\n",
      "{'pid': 7916, 'username': None, 'name': 'AacKingstonDramHal_x86.exe'}\n",
      "{'pid': 8308, 'username': 'DESKTOP-5JMQF9Q\\\\User', 'name': 'python.exe'}\n",
      "{'pid': 8348, 'username': 'DESKTOP-5JMQF9Q\\\\User', 'name': 'chrome.exe'}\n",
      "{'pid': 8384, 'username': None, 'name': 'svchost.exe'}\n",
      "{'pid': 8492, 'username': None, 'name': 'svchost.exe'}\n",
      "{'pid': 8752, 'username': 'DESKTOP-5JMQF9Q\\\\User', 'name': 'NVIDIA Web Helper.exe'}\n",
      "{'pid': 8872, 'username': 'DESKTOP-5JMQF9Q\\\\User', 'name': 'ApplicationFrameHost.exe'}\n",
      "{'pid': 9104, 'username': None, 'name': 'svchost.exe'}\n",
      "{'pid': 9220, 'username': None, 'name': 'svchost.exe'}\n",
      "{'pid': 9344, 'username': None, 'name': 'svchost.exe'}\n",
      "{'pid': 9368, 'username': 'DESKTOP-5JMQF9Q\\\\User', 'name': 'SystemSettings.exe'}\n",
      "{'pid': 9624, 'username': 'DESKTOP-5JMQF9Q\\\\User', 'name': 'Video.UI.exe'}\n",
      "{'pid': 9812, 'username': 'DESKTOP-5JMQF9Q\\\\User', 'name': 'chrome.exe'}\n",
      "{'pid': 9820, 'username': 'DESKTOP-5JMQF9Q\\\\User', 'name': 'chrome.exe'}\n",
      "{'pid': 9848, 'username': 'DESKTOP-5JMQF9Q\\\\User', 'name': 'RuntimeBroker.exe'}\n",
      "{'pid': 9860, 'username': 'DESKTOP-5JMQF9Q\\\\User', 'name': 'RuntimeBroker.exe'}\n",
      "{'pid': 10068, 'username': 'DESKTOP-5JMQF9Q\\\\User', 'name': 'jupyter-notebook.exe'}\n",
      "{'pid': 10072, 'username': 'DESKTOP-5JMQF9Q\\\\User', 'name': 'RuntimeBroker.exe'}\n",
      "{'pid': 10116, 'username': 'DESKTOP-5JMQF9Q\\\\User', 'name': 'chrome.exe'}\n",
      "{'pid': 10124, 'username': 'DESKTOP-5JMQF9Q\\\\User', 'name': 'conhost.exe'}\n",
      "{'pid': 10156, 'username': 'DESKTOP-5JMQF9Q\\\\User', 'name': 'chrome.exe'}\n",
      "{'pid': 10316, 'username': None, 'name': 'MSI.CentralServer.exe'}\n",
      "{'pid': 10336, 'username': None, 'name': 'conhost.exe'}\n",
      "{'pid': 10404, 'username': 'DESKTOP-5JMQF9Q\\\\User', 'name': 'chrome.exe'}\n",
      "{'pid': 10712, 'username': None, 'name': 'svchost.exe'}\n",
      "{'pid': 10720, 'username': None, 'name': 'svchost.exe'}\n",
      "{'pid': 10756, 'username': None, 'name': 'svchost.exe'}\n",
      "{'pid': 10840, 'username': None, 'name': 'SearchIndexer.exe'}\n",
      "{'pid': 10864, 'username': None, 'name': 'svchost.exe'}\n",
      "{'pid': 10904, 'username': None, 'name': 'extensionCardHal_x86.exe'}\n",
      "{'pid': 10992, 'username': 'DESKTOP-5JMQF9Q\\\\User', 'name': 'SecurityHealthSystray.exe'}\n",
      "{'pid': 11036, 'username': None, 'name': 'svchost.exe'}\n",
      "{'pid': 11140, 'username': None, 'name': 'dasHost.exe'}\n",
      "{'pid': 11372, 'username': None, 'name': 'svchost.exe'}\n",
      "{'pid': 11380, 'username': None, 'name': 'SgrmBroker.exe'}\n",
      "{'pid': 11416, 'username': 'DESKTOP-5JMQF9Q\\\\User', 'name': 'chrome.exe'}\n",
      "{'pid': 11456, 'username': 'DESKTOP-5JMQF9Q\\\\User', 'name': 'chrome.exe'}\n",
      "{'pid': 11460, 'username': 'DESKTOP-5JMQF9Q\\\\User', 'name': 'asus_framework.exe'}\n",
      "{'pid': 11540, 'username': 'DESKTOP-5JMQF9Q\\\\User', 'name': 'ArmouryWebBrowserEdge.exe'}\n",
      "{'pid': 11980, 'username': 'DESKTOP-5JMQF9Q\\\\User', 'name': 'ArmouryWebBrowserEdge.exe'}\n",
      "{'pid': 12080, 'username': 'DESKTOP-5JMQF9Q\\\\User', 'name': 'nvcontainer.exe'}\n",
      "{'pid': 12124, 'username': 'DESKTOP-5JMQF9Q\\\\User', 'name': 'sihost.exe'}\n"
     ]
    },
    {
     "name": "stdout",
     "output_type": "stream",
     "text": [
      "{'pid': 12344, 'username': None, 'name': 'svchost.exe'}\n",
      "{'pid': 12404, 'username': 'DESKTOP-5JMQF9Q\\\\User', 'name': 'python.exe'}\n",
      "{'pid': 12548, 'username': 'DESKTOP-5JMQF9Q\\\\User', 'name': 'RuntimeBroker.exe'}\n",
      "{'pid': 12780, 'username': 'DESKTOP-5JMQF9Q\\\\User', 'name': 'NVIDIA Share.exe'}\n",
      "{'pid': 12812, 'username': None, 'name': 'svchost.exe'}\n",
      "{'pid': 13392, 'username': 'DESKTOP-5JMQF9Q\\\\User', 'name': 'asus_framework.exe'}\n",
      "{'pid': 13560, 'username': 'DESKTOP-5JMQF9Q\\\\User', 'name': 'dllhost.exe'}\n",
      "{'pid': 13704, 'username': None, 'name': 'unsecapp.exe'}\n",
      "{'pid': 13792, 'username': 'DESKTOP-5JMQF9Q\\\\User', 'name': 'UserOOBEBroker.exe'}\n",
      "{'pid': 13820, 'username': None, 'name': 'svchost.exe'}\n",
      "{'pid': 13904, 'username': None, 'name': 'AacKingstonDramHal_x64.exe'}\n",
      "{'pid': 13980, 'username': 'DESKTOP-5JMQF9Q\\\\User', 'name': 'svchost.exe'}\n",
      "{'pid': 14024, 'username': 'DESKTOP-5JMQF9Q\\\\User', 'name': 'python.exe'}\n",
      "{'pid': 14040, 'username': None, 'name': 'Aac3572MbHal_x86.exe'}\n",
      "{'pid': 14084, 'username': None, 'name': 'GoogleCrashHandler.exe'}\n",
      "{'pid': 14128, 'username': None, 'name': 'GoogleCrashHandler64.exe'}\n",
      "{'pid': 14260, 'username': None, 'name': 'svchost.exe'}\n",
      "{'pid': 14356, 'username': 'DESKTOP-5JMQF9Q\\\\User', 'name': 'asus_framework.exe'}\n",
      "{'pid': 14672, 'username': 'DESKTOP-5JMQF9Q\\\\User', 'name': 'StartMenuExperienceHost.exe'}\n",
      "{'pid': 14796, 'username': None, 'name': 'SearchFilterHost.exe'}\n",
      "{'pid': 15048, 'username': 'DESKTOP-5JMQF9Q\\\\User', 'name': 'chrome.exe'}\n",
      "{'pid': 15364, 'username': 'DESKTOP-5JMQF9Q\\\\User', 'name': 'svchost.exe'}\n",
      "{'pid': 15664, 'username': 'DESKTOP-5JMQF9Q\\\\User', 'name': 'chrome.exe'}\n",
      "{'pid': 15736, 'username': None, 'name': 'dllhost.exe'}\n",
      "{'pid': 15956, 'username': 'DESKTOP-5JMQF9Q\\\\User', 'name': 'python.exe'}\n",
      "{'pid': 15968, 'username': 'DESKTOP-5JMQF9Q\\\\User', 'name': 'RuntimeBroker.exe'}\n",
      "{'pid': 16120, 'username': None, 'name': 'dwm.exe'}\n",
      "{'pid': 16240, 'username': 'DESKTOP-5JMQF9Q\\\\User', 'name': 'LockApp.exe'}\n",
      "{'pid': 16424, 'username': 'DESKTOP-5JMQF9Q\\\\User', 'name': 'ctfmon.exe'}\n",
      "{'pid': 16532, 'username': 'DESKTOP-5JMQF9Q\\\\User', 'name': 'RuntimeBroker.exe'}\n",
      "{'pid': 16796, 'username': 'DESKTOP-5JMQF9Q\\\\User', 'name': 'chrome.exe'}\n",
      "{'pid': 16844, 'username': 'DESKTOP-5JMQF9Q\\\\User', 'name': 'chrome.exe'}\n",
      "{'pid': 16896, 'username': 'DESKTOP-5JMQF9Q\\\\User', 'name': 'chrome.exe'}\n",
      "{'pid': 16996, 'username': 'DESKTOP-5JMQF9Q\\\\User', 'name': 'VoiceControlEngine.exe'}\n",
      "{'pid': 17076, 'username': 'DESKTOP-5JMQF9Q\\\\User', 'name': 'NoiseCancelingEngine.exe'}\n",
      "{'pid': 17108, 'username': 'DESKTOP-5JMQF9Q\\\\User', 'name': 'ShellExperienceHost.exe'}\n",
      "{'pid': 17132, 'username': 'DESKTOP-5JMQF9Q\\\\User', 'name': 'ArmourySocketServer.exe'}\n",
      "{'pid': 17136, 'username': 'DESKTOP-5JMQF9Q\\\\User', 'name': 'AcPowerNotification.exe'}\n",
      "{'pid': 17144, 'username': 'DESKTOP-5JMQF9Q\\\\User', 'name': 'ArmouryAIOFanServer.exe'}\n",
      "{'pid': 17172, 'username': 'DESKTOP-5JMQF9Q\\\\User', 'name': 'chrome.exe'}\n",
      "{'pid': 17208, 'username': 'DESKTOP-5JMQF9Q\\\\User', 'name': 'conhost.exe'}\n",
      "{'pid': 17292, 'username': 'DESKTOP-5JMQF9Q\\\\User', 'name': 'msedgewebview2.exe'}\n",
      "{'pid': 17320, 'username': 'DESKTOP-5JMQF9Q\\\\User', 'name': 'MSI.True Color.exe'}\n",
      "{'pid': 17412, 'username': 'DESKTOP-5JMQF9Q\\\\User', 'name': 'explorer.exe'}\n",
      "{'pid': 17428, 'username': 'DESKTOP-5JMQF9Q\\\\User', 'name': 'chrome.exe'}\n",
      "{'pid': 17688, 'username': 'DESKTOP-5JMQF9Q\\\\User', 'name': 'NVIDIA Share.exe'}\n",
      "{'pid': 17844, 'username': 'DESKTOP-5JMQF9Q\\\\User', 'name': 'RuntimeBroker.exe'}\n",
      "{'pid': 17860, 'username': None, 'name': 'SecurityHealthService.exe'}\n",
      "{'pid': 18248, 'username': 'DESKTOP-5JMQF9Q\\\\User', 'name': 'RuntimeBroker.exe'}\n",
      "{'pid': 18644, 'username': 'DESKTOP-5JMQF9Q\\\\User', 'name': 'chrome.exe'}\n",
      "{'pid': 18740, 'username': None, 'name': 'audiodg.exe'}\n",
      "{'pid': 18912, 'username': 'DESKTOP-5JMQF9Q\\\\User', 'name': 'YourPhone.exe'}\n",
      "{'pid': 19084, 'username': 'DESKTOP-5JMQF9Q\\\\User', 'name': 'conhost.exe'}\n",
      "{'pid': 19136, 'username': 'DESKTOP-5JMQF9Q\\\\User', 'name': 'SettingSyncHost.exe'}\n",
      "{'pid': 19200, 'username': 'DESKTOP-5JMQF9Q\\\\User', 'name': 'chrome.exe'}\n",
      "{'pid': 19420, 'username': 'DESKTOP-5JMQF9Q\\\\User', 'name': 'chrome.exe'}\n",
      "{'pid': 19520, 'username': 'DESKTOP-5JMQF9Q\\\\User', 'name': 'RuntimeBroker.exe'}\n",
      "{'pid': 19620, 'username': None, 'name': 'svchost.exe'}\n",
      "{'pid': 19996, 'username': 'DESKTOP-5JMQF9Q\\\\User', 'name': 'jupyter.exe'}\n",
      "{'pid': 20040, 'username': 'DESKTOP-5JMQF9Q\\\\User', 'name': 'chrome.exe'}\n",
      "{'pid': 20048, 'username': None, 'name': 'svchost.exe'}\n",
      "{'pid': 20088, 'username': 'DESKTOP-5JMQF9Q\\\\User', 'name': 'NVIDIA Share.exe'}\n",
      "{'pid': 20364, 'username': 'DESKTOP-5JMQF9Q\\\\User', 'name': 'msedgewebview2.exe'}\n",
      "{'pid': 20380, 'username': None, 'name': 'svchost.exe'}\n",
      "{'pid': 20432, 'username': 'DESKTOP-5JMQF9Q\\\\User', 'name': 'python.exe'}\n",
      "{'pid': 20520, 'username': None, 'name': 'fontdrvhost.exe'}\n",
      "{'pid': 20620, 'username': 'DESKTOP-5JMQF9Q\\\\User', 'name': 'WWAHost.exe'}\n",
      "{'pid': 20628, 'username': 'DESKTOP-5JMQF9Q\\\\User', 'name': 'Calculator.exe'}\n",
      "{'pid': 21048, 'username': 'DESKTOP-5JMQF9Q\\\\User', 'name': 'msedgewebview2.exe'}\n",
      "{'pid': 21176, 'username': 'DESKTOP-5JMQF9Q\\\\User', 'name': 'Microsoft.Photos.exe'}\n",
      "{'pid': 21520, 'username': 'DESKTOP-5JMQF9Q\\\\User', 'name': 'chrome.exe'}\n",
      "{'pid': 21836, 'username': 'DESKTOP-5JMQF9Q\\\\User', 'name': 'taskhostw.exe'}\n",
      "{'pid': 22132, 'username': 'DESKTOP-5JMQF9Q\\\\User', 'name': 'svchost.exe'}\n",
      "{'pid': 22372, 'username': None, 'name': 'csrss.exe'}\n"
     ]
    }
   ],
   "source": [
    "for proc in psutil.process_iter(['pid', 'name', 'username']):\n",
    "    print(proc.info)"
   ]
  },
  {
   "cell_type": "code",
   "execution_count": 35,
   "id": "4b4641fd",
   "metadata": {},
   "outputs": [
    {
     "data": {
      "text/plain": [
       "{0: {'username': 'NT AUTHORITY\\\\SYSTEM', 'name': 'System Idle Process'},\n",
       " 4: {'username': 'NT AUTHORITY\\\\SYSTEM', 'name': 'System'},\n",
       " 268: {'username': None, 'name': 'Registry'},\n",
       " 752: {'username': None, 'name': 'smss.exe'},\n",
       " 840: {'username': 'DESKTOP-5JMQF9Q\\\\User', 'name': 'msedgewebview2.exe'},\n",
       " 920: {'username': None, 'name': 'csrss.exe'},\n",
       " 960: {'username': None, 'name': 'services.exe'},\n",
       " 1012: {'username': None, 'name': 'wininit.exe'},\n",
       " 1032: {'username': None, 'name': 'lsass.exe'},\n",
       " 1156: {'username': None, 'name': 'svchost.exe'},\n",
       " 1184: {'username': None, 'name': 'fontdrvhost.exe'},\n",
       " 1220: {'username': None, 'name': 'SearchProtocolHost.exe'},\n",
       " 1244: {'username': None, 'name': 'svchost.exe'},\n",
       " 1292: {'username': None, 'name': 'svchost.exe'},\n",
       " 1348: {'username': 'DESKTOP-5JMQF9Q\\\\User', 'name': 'ArmourySwAgent.exe'},\n",
       " 1520: {'username': 'DESKTOP-5JMQF9Q\\\\User',\n",
       "  'name': 'ArmouryCrate.UserSessionHelper.exe'},\n",
       " 1656: {'username': 'DESKTOP-5JMQF9Q\\\\User', 'name': 'nvsphelper64.exe'},\n",
       " 1660: {'username': None, 'name': 'svchost.exe'},\n",
       " 1684: {'username': None, 'name': 'svchost.exe'},\n",
       " 1740: {'username': None, 'name': 'svchost.exe'},\n",
       " 1744: {'username': None, 'name': 'svchost.exe'},\n",
       " 1756: {'username': None, 'name': 'svchost.exe'},\n",
       " 1856: {'username': None, 'name': 'svchost.exe'},\n",
       " 1928: {'username': None, 'name': 'svchost.exe'},\n",
       " 1948: {'username': None, 'name': 'svchost.exe'},\n",
       " 1996: {'username': None, 'name': 'svchost.exe'},\n",
       " 2008: {'username': None, 'name': 'svchost.exe'},\n",
       " 2108: {'username': None, 'name': 'svchost.exe'},\n",
       " 2236: {'username': None, 'name': 'svchost.exe'},\n",
       " 2244: {'username': None, 'name': 'svchost.exe'},\n",
       " 2264: {'username': None, 'name': 'NVDisplay.Container.exe'},\n",
       " 2304: {'username': None, 'name': 'svchost.exe'},\n",
       " 2388: {'username': 'DESKTOP-5JMQF9Q\\\\User', 'name': 'chrome.exe'},\n",
       " 2392: {'username': None, 'name': 'AsusCertService.exe'},\n",
       " 2456: {'username': None, 'name': 'svchost.exe'},\n",
       " 2556: {'username': None, 'name': 'svchost.exe'},\n",
       " 2576: {'username': None, 'name': 'svchost.exe'},\n",
       " 2628: {'username': None, 'name': 'svchost.exe'},\n",
       " 2708: {'username': None, 'name': 'svchost.exe'},\n",
       " 2716: {'username': None, 'name': 'svchost.exe'},\n",
       " 2724: {'username': None, 'name': 'svchost.exe'},\n",
       " 2788: {'username': None, 'name': 'svchost.exe'},\n",
       " 2840: {'username': None, 'name': 'MemCompression'},\n",
       " 2892: {'username': None, 'name': 'svchost.exe'},\n",
       " 2932: {'username': None, 'name': 'svchost.exe'},\n",
       " 2960: {'username': None, 'name': 'svchost.exe'},\n",
       " 2968: {'username': None, 'name': 'svchost.exe'},\n",
       " 3120: {'username': None, 'name': 'svchost.exe'},\n",
       " 3140: {'username': None, 'name': 'WmiPrvSE.exe'},\n",
       " 3472: {'username': 'DESKTOP-5JMQF9Q\\\\User', 'name': 'taskhostw.exe'},\n",
       " 3560: {'username': None, 'name': 'svchost.exe'},\n",
       " 3624: {'username': None, 'name': 'atkexComSvc.exe'},\n",
       " 3708: {'username': None, 'name': 'svchost.exe'},\n",
       " 3728: {'username': None, 'name': 'svchost.exe'},\n",
       " 3736: {'username': 'DESKTOP-5JMQF9Q\\\\User', 'name': 'chrome.exe'},\n",
       " 3768: {'username': 'DESKTOP-5JMQF9Q\\\\User', 'name': 'msedgewebview2.exe'},\n",
       " 3828: {'username': 'DESKTOP-5JMQF9Q\\\\User', 'name': 'SearchApp.exe'},\n",
       " 3852: {'username': None, 'name': 'svchost.exe'},\n",
       " 3864: {'username': None, 'name': 'WmiPrvSE.exe'},\n",
       " 3872: {'username': 'DESKTOP-5JMQF9Q\\\\User', 'name': 'msedgewebview2.exe'},\n",
       " 4036: {'username': 'DESKTOP-5JMQF9Q\\\\User', 'name': 'chrome.exe'},\n",
       " 4116: {'username': None, 'name': 'svchost.exe'},\n",
       " 4172: {'username': None, 'name': 'svchost.exe'},\n",
       " 4260: {'username': None, 'name': 'spoolsv.exe'},\n",
       " 4344: {'username': None, 'name': 'svchost.exe'},\n",
       " 4380: {'username': None, 'name': 'svchost.exe'},\n",
       " 4392: {'username': None, 'name': 'svchost.exe'},\n",
       " 4484: {'username': None, 'name': 'svchost.exe'},\n",
       " 4584: {'username': None, 'name': 'ArmouryCrate.Service.exe'},\n",
       " 4596: {'username': None, 'name': 'service.exe'},\n",
       " 4604: {'username': None, 'name': 'svchost.exe'},\n",
       " 4612: {'username': None, 'name': 'svchost.exe'},\n",
       " 4620: {'username': None, 'name': 'AsusFanControlService.exe'},\n",
       " 4632: {'username': None, 'name': 'LightKeeperService.exe'},\n",
       " 4640: {'username': None, 'name': 'LightingService.exe'},\n",
       " 4648: {'username': None, 'name': 'svchost.exe'},\n",
       " 4656: {'username': None, 'name': 'MSI_Central_Service.exe'},\n",
       " 4664: {'username': None, 'name': 'VoiceControl_Service.exe'},\n",
       " 4672: {'username': None, 'name': 'OfficeClickToRun.exe'},\n",
       " 4680: {'username': None, 'name': 'Mystic_Light_Service.exe'},\n",
       " 4740: {'username': None, 'name': 'ServiceLayer.exe'},\n",
       " 4748: {'username': None, 'name': 'MSI_Companion_Service.exe'},\n",
       " 4760: {'username': None, 'name': 'MsMpEng.exe'},\n",
       " 4772: {'username': None, 'name': 'svchost.exe'},\n",
       " 4808: {'username': None, 'name': 'nvcontainer.exe'},\n",
       " 4816: {'username': None, 'name': 'svchost.exe'},\n",
       " 4824: {'username': None, 'name': 'ROGLiveService.exe'},\n",
       " 4832: {'username': None, 'name': 'svchost.exe'},\n",
       " 4840: {'username': None, 'name': 'svchost.exe'},\n",
       " 4848: {'username': None, 'name': 'svchost.exe'},\n",
       " 4864: {'username': None, 'name': 'svchost.exe'},\n",
       " 4876: {'username': None, 'name': 'sqlwriter.exe'},\n",
       " 4944: {'username': None, 'name': 'OriginWebHelperService.exe'},\n",
       " 5220: {'username': None, 'name': 'svchost.exe'},\n",
       " 5296: {'username': None, 'name': 'svchost.exe'},\n",
       " 5544: {'username': None, 'name': 'svchost.exe'},\n",
       " 5648: {'username': None, 'name': 'svchost.exe'},\n",
       " 5672: {'username': None, 'name': 'winlogon.exe'},\n",
       " 5712: {'username': None, 'name': 'svchost.exe'},\n",
       " 5736: {'username': 'DESKTOP-5JMQF9Q\\\\User', 'name': 'msedgewebview2.exe'},\n",
       " 5800: {'username': None, 'name': 'NVDisplay.Container.exe'},\n",
       " 5868: {'username': 'DESKTOP-5JMQF9Q\\\\User', 'name': 'chrome.exe'},\n",
       " 6312: {'username': 'DESKTOP-5JMQF9Q\\\\User', 'name': 'RuntimeBroker.exe'},\n",
       " 6584: {'username': None, 'name': 'WmiPrvSE.exe'},\n",
       " 6712: {'username': 'DESKTOP-5JMQF9Q\\\\User', 'name': 'WinStore.App.exe'},\n",
       " 6716: {'username': 'DESKTOP-5JMQF9Q\\\\User', 'name': 'backgroundTaskHost.exe'},\n",
       " 6860: {'username': 'DESKTOP-5JMQF9Q\\\\User', 'name': 'nvcontainer.exe'},\n",
       " 7032: {'username': 'DESKTOP-5JMQF9Q\\\\User', 'name': 'svchost.exe'},\n",
       " 7308: {'username': None, 'name': 'NisSrv.exe'},\n",
       " 7316: {'username': 'DESKTOP-5JMQF9Q\\\\User', 'name': 'asus_framework.exe'},\n",
       " 7608: {'username': None, 'name': 'svchost.exe'},\n",
       " 7764: {'username': 'DESKTOP-5JMQF9Q\\\\User', 'name': 'TextInputHost.exe'},\n",
       " 7832: {'username': None, 'name': 'svchost.exe'},\n",
       " 7916: {'username': None, 'name': 'AacKingstonDramHal_x86.exe'},\n",
       " 8308: {'username': 'DESKTOP-5JMQF9Q\\\\User', 'name': 'python.exe'},\n",
       " 8348: {'username': 'DESKTOP-5JMQF9Q\\\\User', 'name': 'chrome.exe'},\n",
       " 8384: {'username': None, 'name': 'svchost.exe'},\n",
       " 8492: {'username': None, 'name': 'svchost.exe'},\n",
       " 8752: {'username': 'DESKTOP-5JMQF9Q\\\\User', 'name': 'NVIDIA Web Helper.exe'},\n",
       " 8872: {'username': 'DESKTOP-5JMQF9Q\\\\User',\n",
       "  'name': 'ApplicationFrameHost.exe'},\n",
       " 9104: {'username': None, 'name': 'svchost.exe'},\n",
       " 9220: {'username': None, 'name': 'svchost.exe'},\n",
       " 9344: {'username': None, 'name': 'svchost.exe'},\n",
       " 9368: {'username': 'DESKTOP-5JMQF9Q\\\\User', 'name': 'SystemSettings.exe'},\n",
       " 9624: {'username': 'DESKTOP-5JMQF9Q\\\\User', 'name': 'Video.UI.exe'},\n",
       " 9812: {'username': 'DESKTOP-5JMQF9Q\\\\User', 'name': 'chrome.exe'},\n",
       " 9820: {'username': 'DESKTOP-5JMQF9Q\\\\User', 'name': 'chrome.exe'},\n",
       " 9848: {'username': 'DESKTOP-5JMQF9Q\\\\User', 'name': 'RuntimeBroker.exe'},\n",
       " 9860: {'username': 'DESKTOP-5JMQF9Q\\\\User', 'name': 'RuntimeBroker.exe'},\n",
       " 10068: {'username': 'DESKTOP-5JMQF9Q\\\\User', 'name': 'jupyter-notebook.exe'},\n",
       " 10072: {'username': 'DESKTOP-5JMQF9Q\\\\User', 'name': 'RuntimeBroker.exe'},\n",
       " 10116: {'username': 'DESKTOP-5JMQF9Q\\\\User', 'name': 'chrome.exe'},\n",
       " 10124: {'username': 'DESKTOP-5JMQF9Q\\\\User', 'name': 'conhost.exe'},\n",
       " 10156: {'username': 'DESKTOP-5JMQF9Q\\\\User', 'name': 'chrome.exe'},\n",
       " 10316: {'username': None, 'name': 'MSI.CentralServer.exe'},\n",
       " 10336: {'username': None, 'name': 'conhost.exe'},\n",
       " 10404: {'username': 'DESKTOP-5JMQF9Q\\\\User', 'name': 'chrome.exe'},\n",
       " 10712: {'username': None, 'name': 'svchost.exe'},\n",
       " 10720: {'username': None, 'name': 'svchost.exe'},\n",
       " 10756: {'username': None, 'name': 'svchost.exe'},\n",
       " 10840: {'username': None, 'name': 'SearchIndexer.exe'},\n",
       " 10864: {'username': None, 'name': 'svchost.exe'},\n",
       " 10904: {'username': None, 'name': 'extensionCardHal_x86.exe'},\n",
       " 10992: {'username': 'DESKTOP-5JMQF9Q\\\\User',\n",
       "  'name': 'SecurityHealthSystray.exe'},\n",
       " 11036: {'username': None, 'name': 'svchost.exe'},\n",
       " 11140: {'username': None, 'name': 'dasHost.exe'},\n",
       " 11372: {'username': None, 'name': 'svchost.exe'},\n",
       " 11380: {'username': None, 'name': 'SgrmBroker.exe'},\n",
       " 11416: {'username': 'DESKTOP-5JMQF9Q\\\\User', 'name': 'chrome.exe'},\n",
       " 11456: {'username': 'DESKTOP-5JMQF9Q\\\\User', 'name': 'chrome.exe'},\n",
       " 11460: {'username': 'DESKTOP-5JMQF9Q\\\\User', 'name': 'asus_framework.exe'},\n",
       " 11540: {'username': 'DESKTOP-5JMQF9Q\\\\User',\n",
       "  'name': 'ArmouryWebBrowserEdge.exe'},\n",
       " 11980: {'username': 'DESKTOP-5JMQF9Q\\\\User',\n",
       "  'name': 'ArmouryWebBrowserEdge.exe'},\n",
       " 12080: {'username': 'DESKTOP-5JMQF9Q\\\\User', 'name': 'nvcontainer.exe'},\n",
       " 12124: {'username': 'DESKTOP-5JMQF9Q\\\\User', 'name': 'sihost.exe'},\n",
       " 12344: {'username': None, 'name': 'svchost.exe'},\n",
       " 12404: {'username': 'DESKTOP-5JMQF9Q\\\\User', 'name': 'python.exe'},\n",
       " 12548: {'username': 'DESKTOP-5JMQF9Q\\\\User', 'name': 'RuntimeBroker.exe'},\n",
       " 12780: {'username': 'DESKTOP-5JMQF9Q\\\\User', 'name': 'NVIDIA Share.exe'},\n",
       " 12812: {'username': None, 'name': 'svchost.exe'},\n",
       " 13392: {'username': 'DESKTOP-5JMQF9Q\\\\User', 'name': 'asus_framework.exe'},\n",
       " 13560: {'username': 'DESKTOP-5JMQF9Q\\\\User', 'name': 'dllhost.exe'},\n",
       " 13704: {'username': None, 'name': 'unsecapp.exe'},\n",
       " 13792: {'username': 'DESKTOP-5JMQF9Q\\\\User', 'name': 'UserOOBEBroker.exe'},\n",
       " 13820: {'username': None, 'name': 'svchost.exe'},\n",
       " 13904: {'username': None, 'name': 'AacKingstonDramHal_x64.exe'},\n",
       " 13980: {'username': 'DESKTOP-5JMQF9Q\\\\User', 'name': 'svchost.exe'},\n",
       " 14024: {'username': 'DESKTOP-5JMQF9Q\\\\User', 'name': 'python.exe'},\n",
       " 14040: {'username': None, 'name': 'Aac3572MbHal_x86.exe'},\n",
       " 14084: {'username': None, 'name': 'GoogleCrashHandler.exe'},\n",
       " 14128: {'username': None, 'name': 'GoogleCrashHandler64.exe'},\n",
       " 14260: {'username': None, 'name': 'svchost.exe'},\n",
       " 14356: {'username': 'DESKTOP-5JMQF9Q\\\\User', 'name': 'asus_framework.exe'},\n",
       " 14672: {'username': 'DESKTOP-5JMQF9Q\\\\User',\n",
       "  'name': 'StartMenuExperienceHost.exe'},\n",
       " 14796: {'username': None, 'name': 'SearchFilterHost.exe'},\n",
       " 15048: {'username': 'DESKTOP-5JMQF9Q\\\\User', 'name': 'chrome.exe'},\n",
       " 15364: {'username': 'DESKTOP-5JMQF9Q\\\\User', 'name': 'svchost.exe'},\n",
       " 15664: {'username': 'DESKTOP-5JMQF9Q\\\\User', 'name': 'chrome.exe'},\n",
       " 15736: {'username': None, 'name': 'dllhost.exe'},\n",
       " 15956: {'username': 'DESKTOP-5JMQF9Q\\\\User', 'name': 'python.exe'},\n",
       " 15968: {'username': 'DESKTOP-5JMQF9Q\\\\User', 'name': 'RuntimeBroker.exe'},\n",
       " 16120: {'username': None, 'name': 'dwm.exe'},\n",
       " 16240: {'username': 'DESKTOP-5JMQF9Q\\\\User', 'name': 'LockApp.exe'},\n",
       " 16424: {'username': 'DESKTOP-5JMQF9Q\\\\User', 'name': 'ctfmon.exe'},\n",
       " 16532: {'username': 'DESKTOP-5JMQF9Q\\\\User', 'name': 'RuntimeBroker.exe'},\n",
       " 16796: {'username': 'DESKTOP-5JMQF9Q\\\\User', 'name': 'chrome.exe'},\n",
       " 16844: {'username': 'DESKTOP-5JMQF9Q\\\\User', 'name': 'chrome.exe'},\n",
       " 16896: {'username': 'DESKTOP-5JMQF9Q\\\\User', 'name': 'chrome.exe'},\n",
       " 16996: {'username': 'DESKTOP-5JMQF9Q\\\\User',\n",
       "  'name': 'VoiceControlEngine.exe'},\n",
       " 17076: {'username': 'DESKTOP-5JMQF9Q\\\\User',\n",
       "  'name': 'NoiseCancelingEngine.exe'},\n",
       " 17108: {'username': 'DESKTOP-5JMQF9Q\\\\User',\n",
       "  'name': 'ShellExperienceHost.exe'},\n",
       " 17132: {'username': 'DESKTOP-5JMQF9Q\\\\User',\n",
       "  'name': 'ArmourySocketServer.exe'},\n",
       " 17136: {'username': 'DESKTOP-5JMQF9Q\\\\User',\n",
       "  'name': 'AcPowerNotification.exe'},\n",
       " 17144: {'username': 'DESKTOP-5JMQF9Q\\\\User',\n",
       "  'name': 'ArmouryAIOFanServer.exe'},\n",
       " 17172: {'username': 'DESKTOP-5JMQF9Q\\\\User', 'name': 'chrome.exe'},\n",
       " 17208: {'username': 'DESKTOP-5JMQF9Q\\\\User', 'name': 'conhost.exe'},\n",
       " 17292: {'username': 'DESKTOP-5JMQF9Q\\\\User', 'name': 'msedgewebview2.exe'},\n",
       " 17320: {'username': 'DESKTOP-5JMQF9Q\\\\User', 'name': 'MSI.True Color.exe'},\n",
       " 17412: {'username': 'DESKTOP-5JMQF9Q\\\\User', 'name': 'explorer.exe'},\n",
       " 17428: {'username': 'DESKTOP-5JMQF9Q\\\\User', 'name': 'chrome.exe'},\n",
       " 17688: {'username': 'DESKTOP-5JMQF9Q\\\\User', 'name': 'NVIDIA Share.exe'},\n",
       " 17844: {'username': 'DESKTOP-5JMQF9Q\\\\User', 'name': 'RuntimeBroker.exe'},\n",
       " 17860: {'username': None, 'name': 'SecurityHealthService.exe'},\n",
       " 18248: {'username': 'DESKTOP-5JMQF9Q\\\\User', 'name': 'RuntimeBroker.exe'},\n",
       " 18644: {'username': 'DESKTOP-5JMQF9Q\\\\User', 'name': 'chrome.exe'},\n",
       " 18740: {'username': None, 'name': 'audiodg.exe'},\n",
       " 18912: {'username': 'DESKTOP-5JMQF9Q\\\\User', 'name': 'YourPhone.exe'},\n",
       " 19084: {'username': 'DESKTOP-5JMQF9Q\\\\User', 'name': 'conhost.exe'},\n",
       " 19136: {'username': 'DESKTOP-5JMQF9Q\\\\User', 'name': 'SettingSyncHost.exe'},\n",
       " 19200: {'username': 'DESKTOP-5JMQF9Q\\\\User', 'name': 'chrome.exe'},\n",
       " 19420: {'username': 'DESKTOP-5JMQF9Q\\\\User', 'name': 'chrome.exe'},\n",
       " 19520: {'username': 'DESKTOP-5JMQF9Q\\\\User', 'name': 'RuntimeBroker.exe'},\n",
       " 19620: {'username': None, 'name': 'svchost.exe'},\n",
       " 19996: {'username': 'DESKTOP-5JMQF9Q\\\\User', 'name': 'jupyter.exe'},\n",
       " 20040: {'username': 'DESKTOP-5JMQF9Q\\\\User', 'name': 'chrome.exe'},\n",
       " 20048: {'username': None, 'name': 'svchost.exe'},\n",
       " 20088: {'username': 'DESKTOP-5JMQF9Q\\\\User', 'name': 'NVIDIA Share.exe'},\n",
       " 20364: {'username': 'DESKTOP-5JMQF9Q\\\\User', 'name': 'msedgewebview2.exe'},\n",
       " 20380: {'username': None, 'name': 'svchost.exe'},\n",
       " 20432: {'username': 'DESKTOP-5JMQF9Q\\\\User', 'name': 'python.exe'},\n",
       " 20520: {'username': None, 'name': 'fontdrvhost.exe'},\n",
       " 20620: {'username': 'DESKTOP-5JMQF9Q\\\\User', 'name': 'WWAHost.exe'},\n",
       " 20628: {'username': 'DESKTOP-5JMQF9Q\\\\User', 'name': 'Calculator.exe'},\n",
       " 21048: {'username': 'DESKTOP-5JMQF9Q\\\\User', 'name': 'msedgewebview2.exe'},\n",
       " 21176: {'username': 'DESKTOP-5JMQF9Q\\\\User', 'name': 'Microsoft.Photos.exe'},\n",
       " 21520: {'username': 'DESKTOP-5JMQF9Q\\\\User', 'name': 'chrome.exe'},\n",
       " 21836: {'username': 'DESKTOP-5JMQF9Q\\\\User', 'name': 'taskhostw.exe'},\n",
       " 22132: {'username': 'DESKTOP-5JMQF9Q\\\\User', 'name': 'svchost.exe'},\n",
       " 22372: {'username': None, 'name': 'csrss.exe'}}"
      ]
     },
     "execution_count": 35,
     "metadata": {},
     "output_type": "execute_result"
    }
   ],
   "source": [
    "procs = {p.pid: p.info for p in psutil.process_iter(['name', 'username'])}\n",
    "procs"
   ]
  },
  {
   "cell_type": "code",
   "execution_count": 36,
   "id": "34c57aca",
   "metadata": {},
   "outputs": [],
   "source": [
    "#psutil.pid_exists(pid) # vermiş olduğunuz PID'i sorgular/Queries the PID you have given"
   ]
  },
  {
   "cell_type": "code",
   "execution_count": 37,
   "id": "09ff2ae2",
   "metadata": {},
   "outputs": [],
   "source": [
    "def on_terminate(proc):\n",
    "    print(\"process {} terminated with exit code {}\".format(proc, proc.returncode))\n",
    "\n",
    "procs = psutil.Process().children()\n",
    "for p in procs:\n",
    "    p.terminate()\n",
    "gone, alive = psutil.wait_procs(procs, timeout=3, callback=on_terminate)\n",
    "for p in alive:\n",
    "    p.kill()"
   ]
  },
  {
   "cell_type": "code",
   "execution_count": 38,
   "id": "696aea79",
   "metadata": {},
   "outputs": [],
   "source": [
    "#on_terminate(procs)"
   ]
  },
  {
   "cell_type": "code",
   "execution_count": 39,
   "id": "b0dc0917",
   "metadata": {},
   "outputs": [
    {
     "data": {
      "text/plain": [
       "([], [])"
      ]
     },
     "execution_count": 39,
     "metadata": {},
     "output_type": "execute_result"
    }
   ],
   "source": [
    "psutil.wait_procs(procs, timeout=None, callback=None)"
   ]
  },
  {
   "cell_type": "markdown",
   "id": "fc7dbd65",
   "metadata": {},
   "source": [
    "Oneshot: Utility context manager which considerably speeds up the retrieval of multiple process information at the same time\n",
    "\n",
    "Oneshot: Aynı anda birden fazla işlem bilgisinin alınmasını önemli ölçüde hızlandıran yardımcı program bağlam yöneticisi"
   ]
  },
  {
   "cell_type": "code",
   "execution_count": 40,
   "id": "d6e60ac1",
   "metadata": {},
   "outputs": [
    {
     "name": "stdout",
     "output_type": "stream",
     "text": [
      "python.exe\n",
      "pcputimes(user=0.703125, system=0.875, children_user=0.0, children_system=0.0)\n",
      "0.0\n",
      "1626706929.529694\n",
      "8308\n"
     ]
    }
   ],
   "source": [
    "p = psutil.Process()\n",
    "with p.oneshot():\n",
    "    print(p.name())# execute internal routine once collecting multiple info/birden fazla bilgi topladıktan sonra dahili rutini yürütün\n",
    "    print(p.cpu_times())\n",
    "    print(p.cpu_percent())\n",
    "    print(p.create_time())\n",
    "    print(p.ppid())"
   ]
  },
  {
   "cell_type": "code",
   "execution_count": 41,
   "id": "4d9282d1",
   "metadata": {},
   "outputs": [
    {
     "data": {
      "text/plain": [
       "['num_handles',\n",
       " 'open_files',\n",
       " 'cwd',\n",
       " 'threads',\n",
       " 'memory_full_info',\n",
       " 'ppid',\n",
       " 'cpu_affinity',\n",
       " 'nice',\n",
       " 'cpu_times',\n",
       " 'memory_info',\n",
       " 'status',\n",
       " 'cpu_percent',\n",
       " 'exe',\n",
       " 'cmdline',\n",
       " 'create_time',\n",
       " 'pid',\n",
       " 'ionice',\n",
       " 'connections',\n",
       " 'io_counters',\n",
       " 'environ',\n",
       " 'num_ctx_switches',\n",
       " 'name',\n",
       " 'username',\n",
       " 'memory_percent',\n",
       " 'num_threads',\n",
       " 'memory_maps']"
      ]
     },
     "execution_count": 41,
     "metadata": {},
     "output_type": "execute_result"
    }
   ],
   "source": [
    "list(psutil.Process().as_dict().keys())"
   ]
  },
  {
   "cell_type": "code",
   "execution_count": 42,
   "id": "96cf61e2",
   "metadata": {},
   "outputs": [
    {
     "data": {
      "text/plain": [
       "[pmmap_grouped(path='C:\\\\Users\\\\User\\\\AppData\\\\Local\\\\Programs\\\\Python\\\\Python39\\\\Lib\\\\site-packages\\\\numpy\\\\.libs\\\\libopenblas.GK7GX5KEQ4F6UYO3P26ULGBQYHGQO7J4.gfortran-win_amd64.dll', rss=31043584),\n",
       " pmmap_grouped(path='C:\\\\Windows\\\\System32\\\\locale.nls', rss=823296),\n",
       " pmmap_grouped(path='C:\\\\Windows\\\\System32\\\\C_1252.NLS', rss=69632),\n",
       " pmmap_grouped(path='C:\\\\Windows\\\\Globalization\\\\Sorting\\\\SortDefault.nls', rss=3375104),\n",
       " pmmap_grouped(path='C:\\\\Program Files\\\\WindowsApps\\\\Microsoft.LanguageExperiencePacktr-TR_19041.25.67.0_neutral__8wekyb3d8bbwe\\\\Windows\\\\System32\\\\tr-TR\\\\KernelBase.dll.mui', rss=1269760),\n",
       " pmmap_grouped(path='C:\\\\Program Files\\\\WindowsApps\\\\Microsoft.LanguageExperiencePacktr-TR_19041.25.67.0_neutral__8wekyb3d8bbwe\\\\Windows\\\\System32\\\\tr-TR\\\\kernel32.dll.mui', rss=970752),\n",
       " pmmap_grouped(path='C:\\\\Windows\\\\System32\\\\security.dll', rss=12288),\n",
       " pmmap_grouped(path='C:\\\\Windows\\\\System32\\\\tzres.dll', rss=12288),\n",
       " pmmap_grouped(path='C:\\\\Program Files\\\\WindowsApps\\\\Microsoft.LanguageExperiencePacktr-TR_19041.25.67.0_neutral__8wekyb3d8bbwe\\\\Windows\\\\System32\\\\tr-TR\\\\tzres.dll.mui', rss=53248),\n",
       " pmmap_grouped(path='C:\\\\Users\\\\User\\\\AppData\\\\Local\\\\Programs\\\\Python\\\\Python39\\\\python.exe', rss=114688),\n",
       " pmmap_grouped(path='C:\\\\Users\\\\User\\\\AppData\\\\Local\\\\Programs\\\\Python\\\\Python39\\\\Lib\\\\site-packages\\\\pandas\\\\_libs\\\\groupby.cp39-win_amd64.pyd', rss=933888),\n",
       " pmmap_grouped(path='C:\\\\Users\\\\User\\\\AppData\\\\Local\\\\Programs\\\\Python\\\\Python39\\\\Lib\\\\site-packages\\\\pandas\\\\_libs\\\\join.cp39-win_amd64.pyd', rss=1929216),\n",
       " pmmap_grouped(path='C:\\\\Users\\\\User\\\\AppData\\\\Local\\\\Programs\\\\Python\\\\Python39\\\\Lib\\\\site-packages\\\\pandas\\\\_libs\\\\algos.cp39-win_amd64.pyd', rss=1327104),\n",
       " pmmap_grouped(path='C:\\\\Users\\\\User\\\\AppData\\\\Local\\\\Programs\\\\Python\\\\Python39\\\\Lib\\\\site-packages\\\\numpy\\\\core\\\\_multiarray_umath.cp39-win_amd64.pyd', rss=3092480),\n",
       " pmmap_grouped(path='C:\\\\Users\\\\User\\\\AppData\\\\Local\\\\Programs\\\\Python\\\\Python39\\\\Lib\\\\site-packages\\\\pandas\\\\_libs\\\\parsers.cp39-win_amd64.pyd', rss=397312),\n",
       " pmmap_grouped(path='C:\\\\Users\\\\User\\\\AppData\\\\Local\\\\Programs\\\\Python\\\\Python39\\\\Lib\\\\site-packages\\\\pandas\\\\_libs\\\\reshape.cp39-win_amd64.pyd', rss=249856),\n",
       " pmmap_grouped(path='C:\\\\Users\\\\User\\\\AppData\\\\Local\\\\Programs\\\\Python\\\\Python39\\\\Lib\\\\site-packages\\\\pandas\\\\_libs\\\\window\\\\aggregations.cp39-win_amd64.pyd', rss=307200),\n",
       " pmmap_grouped(path='C:\\\\Users\\\\User\\\\AppData\\\\Local\\\\Programs\\\\Python\\\\Python39\\\\Lib\\\\site-packages\\\\pandas\\\\_libs\\\\sparse.cp39-win_amd64.pyd', rss=819200),\n",
       " pmmap_grouped(path='C:\\\\Users\\\\User\\\\AppData\\\\Local\\\\Programs\\\\Python\\\\Python39\\\\DLLs\\\\sqlite3.dll', rss=1548288),\n",
       " pmmap_grouped(path='C:\\\\Users\\\\User\\\\AppData\\\\Local\\\\Programs\\\\Python\\\\Python39\\\\Lib\\\\site-packages\\\\pyzmq.libs\\\\msvcp140.dll', rss=577536),\n",
       " pmmap_grouped(path='C:\\\\Users\\\\User\\\\AppData\\\\Local\\\\Programs\\\\Python\\\\Python39\\\\Lib\\\\site-packages\\\\pyzmq.libs\\\\libzmq-v141-mt-4_3_4-0a6f51ca.dll', rss=548864),\n",
       " pmmap_grouped(path='C:\\\\Users\\\\User\\\\AppData\\\\Local\\\\Programs\\\\Python\\\\Python39\\\\DLLs\\\\unicodedata.pyd', rss=1130496),\n",
       " pmmap_grouped(path='C:\\\\Users\\\\User\\\\AppData\\\\Local\\\\Programs\\\\Python\\\\Python39\\\\DLLs\\\\libssl-1_1.dll', rss=704512),\n",
       " pmmap_grouped(path='C:\\\\Users\\\\User\\\\AppData\\\\Local\\\\Programs\\\\Python\\\\Python39\\\\python39.dll', rss=4636672),\n",
       " pmmap_grouped(path='C:\\\\Users\\\\User\\\\AppData\\\\Local\\\\Programs\\\\Python\\\\Python39\\\\DLLs\\\\libcrypto-1_1.dll', rss=3440640),\n",
       " pmmap_grouped(path='C:\\\\Users\\\\User\\\\AppData\\\\Local\\\\Programs\\\\Python\\\\Python39\\\\Lib\\\\site-packages\\\\pandas\\\\_libs\\\\writers.cp39-win_amd64.pyd', rss=200704),\n",
       " pmmap_grouped(path='C:\\\\Users\\\\User\\\\AppData\\\\Local\\\\Programs\\\\Python\\\\Python39\\\\Lib\\\\site-packages\\\\pandas\\\\_libs\\\\internals.cp39-win_amd64.pyd', rss=278528),\n",
       " pmmap_grouped(path='C:\\\\Users\\\\User\\\\AppData\\\\Local\\\\Programs\\\\Python\\\\Python39\\\\Lib\\\\site-packages\\\\pandas\\\\_libs\\\\index.cp39-win_amd64.pyd', rss=479232),\n",
       " pmmap_grouped(path='C:\\\\Users\\\\User\\\\AppData\\\\Local\\\\Programs\\\\Python\\\\Python39\\\\Lib\\\\site-packages\\\\pandas\\\\_libs\\\\lib.cp39-win_amd64.pyd', rss=487424),\n",
       " pmmap_grouped(path='C:\\\\Users\\\\User\\\\AppData\\\\Local\\\\Programs\\\\Python\\\\Python39\\\\Lib\\\\site-packages\\\\pandas\\\\_libs\\\\reduction.cp39-win_amd64.pyd', rss=266240),\n",
       " pmmap_grouped(path='C:\\\\Users\\\\User\\\\AppData\\\\Local\\\\Programs\\\\Python\\\\Python39\\\\Lib\\\\site-packages\\\\pandas\\\\_libs\\\\ops.cp39-win_amd64.pyd', rss=208896),\n",
       " pmmap_grouped(path='C:\\\\Users\\\\User\\\\AppData\\\\Local\\\\Programs\\\\Python\\\\Python39\\\\Lib\\\\site-packages\\\\pandas\\\\_libs\\\\window\\\\indexers.cp39-win_amd64.pyd', rss=167936),\n",
       " pmmap_grouped(path='C:\\\\Users\\\\User\\\\AppData\\\\Local\\\\Programs\\\\Python\\\\Python39\\\\Lib\\\\site-packages\\\\pandas\\\\_libs\\\\tslibs\\\\vectorized.cp39-win_amd64.pyd', rss=212992),\n",
       " pmmap_grouped(path='C:\\\\Users\\\\User\\\\AppData\\\\Local\\\\Programs\\\\Python\\\\Python39\\\\Lib\\\\site-packages\\\\pandas\\\\_libs\\\\tslibs\\\\period.cp39-win_amd64.pyd', rss=368640),\n",
       " pmmap_grouped(path='C:\\\\Users\\\\User\\\\AppData\\\\Local\\\\Programs\\\\Python\\\\Python39\\\\Lib\\\\site-packages\\\\pandas\\\\_libs\\\\tslibs\\\\timestamps.cp39-win_amd64.pyd', rss=425984),\n",
       " pmmap_grouped(path='C:\\\\Users\\\\User\\\\AppData\\\\Local\\\\Programs\\\\Python\\\\Python39\\\\Lib\\\\site-packages\\\\pandas\\\\_libs\\\\hashtable.cp39-win_amd64.pyd', rss=1257472),\n",
       " pmmap_grouped(path='C:\\\\Users\\\\User\\\\AppData\\\\Local\\\\Programs\\\\Python\\\\Python39\\\\Lib\\\\site-packages\\\\pandas\\\\_libs\\\\tslibs\\\\strptime.cp39-win_amd64.pyd', rss=311296),\n",
       " pmmap_grouped(path='C:\\\\Users\\\\User\\\\AppData\\\\Local\\\\Programs\\\\Python\\\\Python39\\\\Lib\\\\site-packages\\\\pandas\\\\_libs\\\\hashing.cp39-win_amd64.pyd', rss=176128),\n",
       " pmmap_grouped(path='C:\\\\Users\\\\User\\\\AppData\\\\Local\\\\Programs\\\\Python\\\\Python39\\\\DLLs\\\\_decimal.pyd', rss=278528),\n",
       " pmmap_grouped(path='C:\\\\Users\\\\User\\\\AppData\\\\Local\\\\Programs\\\\Python\\\\Python39\\\\DLLs\\\\_sqlite3.pyd', rss=98304),\n",
       " pmmap_grouped(path='C:\\\\Users\\\\User\\\\AppData\\\\Local\\\\Programs\\\\Python\\\\Python39\\\\Lib\\\\site-packages\\\\zmq\\\\backend\\\\cython\\\\_proxy_steerable.cp39-win_amd64.pyd', rss=69632),\n",
       " pmmap_grouped(path='C:\\\\Users\\\\User\\\\AppData\\\\Local\\\\Programs\\\\Python\\\\Python39\\\\Lib\\\\site-packages\\\\zmq\\\\backend\\\\cython\\\\_device.cp39-win_amd64.pyd', rss=73728),\n",
       " pmmap_grouped(path='C:\\\\Users\\\\User\\\\AppData\\\\Local\\\\Programs\\\\Python\\\\Python39\\\\Lib\\\\site-packages\\\\pyzmq.libs\\\\libsodium-ac42d648.dll', rss=323584),\n",
       " pmmap_grouped(path='C:\\\\Users\\\\User\\\\AppData\\\\Local\\\\Programs\\\\Python\\\\Python39\\\\Lib\\\\site-packages\\\\zmq\\\\backend\\\\cython\\\\_poll.cp39-win_amd64.pyd', rss=86016),\n",
       " pmmap_grouped(path='C:\\\\Users\\\\User\\\\AppData\\\\Local\\\\Programs\\\\Python\\\\Python39\\\\Lib\\\\site-packages\\\\zmq\\\\backend\\\\cython\\\\socket.cp39-win_amd64.pyd', rss=151552),\n",
       " pmmap_grouped(path='C:\\\\Users\\\\User\\\\AppData\\\\Local\\\\Programs\\\\Python\\\\Python39\\\\Lib\\\\site-packages\\\\pandas\\\\_libs\\\\tslibs\\\\offsets.cp39-win_amd64.pyd', rss=806912),\n",
       " pmmap_grouped(path='C:\\\\Users\\\\User\\\\AppData\\\\Local\\\\Programs\\\\Python\\\\Python39\\\\Lib\\\\site-packages\\\\_curses.cp39-win_amd64.pyd', rss=200704),\n",
       " pmmap_grouped(path='C:\\\\Users\\\\User\\\\AppData\\\\Local\\\\Programs\\\\Python\\\\Python39\\\\Lib\\\\site-packages\\\\zmq\\\\backend\\\\cython\\\\context.cp39-win_amd64.pyd', rss=86016),\n",
       " pmmap_grouped(path='C:\\\\Users\\\\User\\\\AppData\\\\Local\\\\Programs\\\\Python\\\\Python39\\\\Lib\\\\site-packages\\\\zmq\\\\backend\\\\cython\\\\message.cp39-win_amd64.pyd', rss=106496),\n",
       " pmmap_grouped(path='C:\\\\Users\\\\User\\\\AppData\\\\Local\\\\Programs\\\\Python\\\\Python39\\\\DLLs\\\\_ctypes.pyd', rss=139264),\n",
       " pmmap_grouped(path='C:\\\\Users\\\\User\\\\AppData\\\\Local\\\\Programs\\\\Python\\\\Python39\\\\Lib\\\\site-packages\\\\pandas\\\\_libs\\\\tslibs\\\\timedeltas.cp39-win_amd64.pyd', rss=397312),\n",
       " pmmap_grouped(path='C:\\\\Users\\\\User\\\\AppData\\\\Local\\\\Programs\\\\Python\\\\Python39\\\\Lib\\\\site-packages\\\\pandas\\\\_libs\\\\testing.cp39-win_amd64.pyd', rss=90112),\n",
       " pmmap_grouped(path='C:\\\\Users\\\\User\\\\AppData\\\\Local\\\\Programs\\\\Python\\\\Python39\\\\Lib\\\\site-packages\\\\zmq\\\\backend\\\\cython\\\\constants.cp39-win_amd64.pyd', rss=86016),\n",
       " pmmap_grouped(path='C:\\\\Users\\\\User\\\\AppData\\\\Local\\\\Programs\\\\Python\\\\Python39\\\\DLLs\\\\_ssl.pyd', rss=159744),\n",
       " pmmap_grouped(path='C:\\\\Users\\\\User\\\\AppData\\\\Local\\\\Programs\\\\Python\\\\Python39\\\\Lib\\\\site-packages\\\\pandas\\\\_libs\\\\json.cp39-win_amd64.pyd', rss=86016),\n",
       " pmmap_grouped(path='C:\\\\Users\\\\User\\\\AppData\\\\Local\\\\Programs\\\\Python\\\\Python39\\\\Lib\\\\site-packages\\\\pandas\\\\_libs\\\\tslibs\\\\fields.cp39-win_amd64.pyd', rss=262144),\n",
       " pmmap_grouped(path='C:\\\\Users\\\\User\\\\AppData\\\\Local\\\\Programs\\\\Python\\\\Python39\\\\Lib\\\\site-packages\\\\pandas\\\\_libs\\\\tslibs\\\\parsing.cp39-win_amd64.pyd', rss=339968),\n",
       " pmmap_grouped(path='C:\\\\Users\\\\User\\\\AppData\\\\Local\\\\Programs\\\\Python\\\\Python39\\\\Lib\\\\site-packages\\\\pandas\\\\_libs\\\\tslibs\\\\tzconversion.cp39-win_amd64.pyd', rss=237568),\n",
       " pmmap_grouped(path='C:\\\\Users\\\\User\\\\AppData\\\\Local\\\\Programs\\\\Python\\\\Python39\\\\Lib\\\\site-packages\\\\pandas\\\\_libs\\\\arrays.cp39-win_amd64.pyd', rss=98304),\n",
       " pmmap_grouped(path='C:\\\\Users\\\\User\\\\AppData\\\\Local\\\\Programs\\\\Python\\\\Python39\\\\Lib\\\\site-packages\\\\pandas\\\\_libs\\\\tslibs\\\\timezones.cp39-win_amd64.pyd', rss=217088),\n",
       " pmmap_grouped(path='C:\\\\Users\\\\User\\\\AppData\\\\Local\\\\Programs\\\\Python\\\\Python39\\\\Lib\\\\site-packages\\\\pandas\\\\_libs\\\\tslibs\\\\nattype.cp39-win_amd64.pyd', rss=204800),\n",
       " pmmap_grouped(path='C:\\\\Users\\\\User\\\\AppData\\\\Local\\\\Programs\\\\Python\\\\Python39\\\\Lib\\\\site-packages\\\\pandas\\\\_libs\\\\tslibs\\\\conversion.cp39-win_amd64.pyd', rss=245760),\n",
       " pmmap_grouped(path='C:\\\\Users\\\\User\\\\AppData\\\\Local\\\\Programs\\\\Python\\\\Python39\\\\Lib\\\\site-packages\\\\pandas\\\\_libs\\\\tslib.cp39-win_amd64.pyd', rss=155648),\n",
       " pmmap_grouped(path='C:\\\\Windows\\\\System32\\\\pdh.dll', rss=344064),\n",
       " pmmap_grouped(path='C:\\\\Users\\\\User\\\\AppData\\\\Local\\\\Programs\\\\Python\\\\Python39\\\\DLLs\\\\_uuid.pyd', rss=32768),\n",
       " pmmap_grouped(path='C:\\\\Users\\\\User\\\\AppData\\\\Local\\\\Programs\\\\Python\\\\Python39\\\\Lib\\\\site-packages\\\\zmq\\\\backend\\\\cython\\\\_version.cp39-win_amd64.pyd', rss=53248),\n",
       " pmmap_grouped(path='C:\\\\Users\\\\User\\\\AppData\\\\Local\\\\Programs\\\\Python\\\\Python39\\\\Lib\\\\site-packages\\\\pandas\\\\_libs\\\\ops_dispatch.cp39-win_amd64.pyd', rss=73728),\n",
       " pmmap_grouped(path='C:\\\\Windows\\\\System32\\\\perfos.dll', rss=61440),\n",
       " pmmap_grouped(path='C:\\\\Users\\\\User\\\\AppData\\\\Local\\\\Programs\\\\Python\\\\Python39\\\\DLLs\\\\_asyncio.pyd', rss=73728),\n",
       " pmmap_grouped(path='C:\\\\Users\\\\User\\\\AppData\\\\Local\\\\Programs\\\\Python\\\\Python39\\\\DLLs\\\\_socket.pyd', rss=90112),\n",
       " pmmap_grouped(path='C:\\\\Users\\\\User\\\\AppData\\\\Local\\\\Programs\\\\Python\\\\Python39\\\\DLLs\\\\_hashlib.pyd', rss=77824),\n",
       " pmmap_grouped(path='C:\\\\Users\\\\User\\\\AppData\\\\Local\\\\Programs\\\\Python\\\\Python39\\\\DLLs\\\\_lzma.pyd', rss=172032),\n",
       " pmmap_grouped(path='C:\\\\Users\\\\User\\\\AppData\\\\Local\\\\Programs\\\\Python\\\\Python39\\\\Lib\\\\site-packages\\\\zmq\\\\backend\\\\cython\\\\utils.cp39-win_amd64.pyd', rss=61440),\n",
       " pmmap_grouped(path='C:\\\\Users\\\\User\\\\AppData\\\\Local\\\\Programs\\\\Python\\\\Python39\\\\vcruntime140_1.dll', rss=49152),\n",
       " pmmap_grouped(path='C:\\\\Users\\\\User\\\\AppData\\\\Local\\\\Programs\\\\Python\\\\Python39\\\\Lib\\\\site-packages\\\\zmq\\\\backend\\\\cython\\\\error.cp39-win_amd64.pyd', rss=53248),\n",
       " pmmap_grouped(path='C:\\\\Users\\\\User\\\\AppData\\\\Local\\\\Programs\\\\Python\\\\Python39\\\\Lib\\\\site-packages\\\\pandas\\\\_libs\\\\properties.cp39-win_amd64.pyd', rss=77824),\n",
       " pmmap_grouped(path='C:\\\\Users\\\\User\\\\AppData\\\\Local\\\\Programs\\\\Python\\\\Python39\\\\Lib\\\\site-packages\\\\pandas\\\\_libs\\\\tslibs\\\\ccalendar.cp39-win_amd64.pyd', rss=73728),\n",
       " pmmap_grouped(path='C:\\\\Users\\\\User\\\\AppData\\\\Local\\\\Programs\\\\Python\\\\Python39\\\\Lib\\\\site-packages\\\\pandas\\\\_libs\\\\tslibs\\\\dtypes.cp39-win_amd64.pyd', rss=122880),\n",
       " pmmap_grouped(path='C:\\\\Users\\\\User\\\\AppData\\\\Local\\\\Programs\\\\Python\\\\Python39\\\\Lib\\\\site-packages\\\\pandas\\\\_libs\\\\missing.cp39-win_amd64.pyd', rss=184320),\n",
       " pmmap_grouped(path='C:\\\\Users\\\\User\\\\AppData\\\\Local\\\\Programs\\\\Python\\\\Python39\\\\Lib\\\\site-packages\\\\pandas\\\\_libs\\\\interval.cp39-win_amd64.pyd', rss=1060864),\n",
       " pmmap_grouped(path='C:\\\\Users\\\\User\\\\AppData\\\\Local\\\\Programs\\\\Python\\\\Python39\\\\Lib\\\\site-packages\\\\numpy\\\\random\\\\_generator.cp39-win_amd64.pyd', rss=708608),\n",
       " pmmap_grouped(path='C:\\\\Users\\\\User\\\\AppData\\\\Local\\\\Programs\\\\Python\\\\Python39\\\\Lib\\\\site-packages\\\\numpy\\\\random\\\\_bounded_integers.cp39-win_amd64.pyd', rss=270336),\n",
       " pmmap_grouped(path='C:\\\\Windows\\\\System32\\\\secur32.dll', rss=49152),\n",
       " pmmap_grouped(path='C:\\\\Windows\\\\System32\\\\netapi32.dll', rss=98304),\n",
       " pmmap_grouped(path='C:\\\\Users\\\\User\\\\AppData\\\\Local\\\\Programs\\\\Python\\\\Python39\\\\Lib\\\\site-packages\\\\numpy\\\\random\\\\_sfc64.cp39-win_amd64.pyd', rss=73728),\n",
       " pmmap_grouped(path='C:\\\\Users\\\\User\\\\AppData\\\\Local\\\\Programs\\\\Python\\\\Python39\\\\Lib\\\\site-packages\\\\numpy\\\\random\\\\_pcg64.cp39-win_amd64.pyd', rss=102400),\n",
       " pmmap_grouped(path='C:\\\\Users\\\\User\\\\AppData\\\\Local\\\\Programs\\\\Python\\\\Python39\\\\Lib\\\\site-packages\\\\numpy\\\\random\\\\_common.cp39-win_amd64.pyd', rss=200704),\n",
       " pmmap_grouped(path='C:\\\\Users\\\\User\\\\AppData\\\\Local\\\\Programs\\\\Python\\\\Python39\\\\DLLs\\\\_overlapped.pyd', rss=57344),\n",
       " pmmap_grouped(path='C:\\\\Users\\\\User\\\\AppData\\\\Local\\\\Programs\\\\Python\\\\Python39\\\\DLLs\\\\_bz2.pyd', rss=98304),\n",
       " pmmap_grouped(path='C:\\\\Users\\\\User\\\\AppData\\\\Local\\\\Programs\\\\Python\\\\Python39\\\\Lib\\\\site-packages\\\\numpy\\\\random\\\\_philox.cp39-win_amd64.pyd', rss=94208),\n",
       " pmmap_grouped(path='C:\\\\Users\\\\User\\\\AppData\\\\Local\\\\Programs\\\\Python\\\\Python39\\\\Lib\\\\site-packages\\\\numpy\\\\random\\\\bit_generator.cp39-win_amd64.pyd', rss=167936),\n",
       " pmmap_grouped(path='C:\\\\Users\\\\User\\\\AppData\\\\Local\\\\Programs\\\\Python\\\\Python39\\\\Lib\\\\site-packages\\\\numpy\\\\random\\\\mtrand.cp39-win_amd64.pyd', rss=606208),\n",
       " pmmap_grouped(path='C:\\\\Windows\\\\System32\\\\ntdsapi.dll', rss=172032),\n",
       " pmmap_grouped(path='C:\\\\Users\\\\User\\\\AppData\\\\Local\\\\Programs\\\\Python\\\\Python39\\\\Lib\\\\site-packages\\\\win32\\\\win32security.pyd', rss=163840),\n",
       " pmmap_grouped(path='C:\\\\Users\\\\User\\\\AppData\\\\Local\\\\Programs\\\\Python\\\\Python39\\\\Lib\\\\site-packages\\\\pywin32_system32\\\\pywintypes39.dll', rss=163840),\n",
       " pmmap_grouped(path='C:\\\\Users\\\\User\\\\AppData\\\\Local\\\\Programs\\\\Python\\\\Python39\\\\Lib\\\\site-packages\\\\win32\\\\win32api.pyd', rss=155648),\n",
       " pmmap_grouped(path='C:\\\\Users\\\\User\\\\AppData\\\\Local\\\\Programs\\\\Python\\\\Python39\\\\Lib\\\\site-packages\\\\numpy\\\\random\\\\_mt19937.cp39-win_amd64.pyd', rss=98304),\n",
       " pmmap_grouped(path='C:\\\\Users\\\\User\\\\AppData\\\\Local\\\\Programs\\\\Python\\\\Python39\\\\Lib\\\\site-packages\\\\numpy\\\\fft\\\\_pocketfft_internal.cp39-win_amd64.pyd', rss=131072),\n",
       " pmmap_grouped(path='C:\\\\Users\\\\User\\\\AppData\\\\Local\\\\Programs\\\\Python\\\\Python39\\\\Lib\\\\site-packages\\\\numpy\\\\linalg\\\\_umath_linalg.cp39-win_amd64.pyd', rss=172032),\n",
       " pmmap_grouped(path='C:\\\\Windows\\\\System32\\\\dhcpcsvc.dll', rss=118784),\n",
       " pmmap_grouped(path='C:\\\\Windows\\\\System32\\\\dhcpcsvc6.dll', rss=94208),\n",
       " pmmap_grouped(path='C:\\\\Users\\\\User\\\\AppData\\\\Local\\\\Programs\\\\Python\\\\Python39\\\\DLLs\\\\libffi-7.dll', rss=45056),\n",
       " pmmap_grouped(path='C:\\\\Users\\\\User\\\\AppData\\\\Local\\\\Programs\\\\Python\\\\Python39\\\\Lib\\\\site-packages\\\\tornado\\\\speedups.cp39-win_amd64.pyd', rss=28672),\n",
       " pmmap_grouped(path='C:\\\\Users\\\\User\\\\AppData\\\\Local\\\\Programs\\\\Python\\\\Python39\\\\vcruntime140.dll', rss=106496),\n",
       " pmmap_grouped(path='C:\\\\Windows\\\\System32\\\\version.dll', rss=40960),\n",
       " pmmap_grouped(path='C:\\\\Windows\\\\System32\\\\wtsapi32.dll', rss=81920),\n",
       " pmmap_grouped(path='C:\\\\Users\\\\User\\\\AppData\\\\Local\\\\Programs\\\\Python\\\\Python39\\\\DLLs\\\\_queue.pyd', rss=36864),\n",
       " pmmap_grouped(path='C:\\\\Users\\\\User\\\\AppData\\\\Local\\\\Programs\\\\Python\\\\Python39\\\\DLLs\\\\select.pyd', rss=40960),\n",
       " pmmap_grouped(path='C:\\\\Users\\\\User\\\\AppData\\\\Local\\\\Programs\\\\Python\\\\Python39\\\\Lib\\\\site-packages\\\\pandas\\\\_libs\\\\indexing.cp39-win_amd64.pyd', rss=65536),\n",
       " pmmap_grouped(path='C:\\\\Users\\\\User\\\\AppData\\\\Local\\\\Programs\\\\Python\\\\Python39\\\\Lib\\\\site-packages\\\\numpy\\\\core\\\\_multiarray_tests.cp39-win_amd64.pyd', rss=131072),\n",
       " pmmap_grouped(path='C:\\\\Users\\\\User\\\\AppData\\\\Local\\\\Programs\\\\Python\\\\Python39\\\\Lib\\\\site-packages\\\\psutil\\\\_psutil_windows.cp39-win_amd64.pyd', rss=98304),\n",
       " pmmap_grouped(path='C:\\\\Users\\\\User\\\\AppData\\\\Local\\\\Programs\\\\Python\\\\Python39\\\\Lib\\\\site-packages\\\\pandas\\\\_libs\\\\tslibs\\\\np_datetime.cp39-win_amd64.pyd', rss=61440),\n",
       " pmmap_grouped(path='C:\\\\Users\\\\User\\\\AppData\\\\Local\\\\Programs\\\\Python\\\\Python39\\\\Lib\\\\site-packages\\\\pandas\\\\_libs\\\\tslibs\\\\base.cp39-win_amd64.pyd', rss=61440),\n",
       " pmmap_grouped(path='C:\\\\Users\\\\User\\\\AppData\\\\Local\\\\Programs\\\\Python\\\\Python39\\\\python3.dll', rss=61440),\n",
       " pmmap_grouped(path='C:\\\\Users\\\\User\\\\AppData\\\\Local\\\\Programs\\\\Python\\\\Python39\\\\Lib\\\\site-packages\\\\numpy\\\\linalg\\\\lapack_lite.cp39-win_amd64.pyd', rss=36864),\n",
       " pmmap_grouped(path='C:\\\\Windows\\\\System32\\\\kernel.appcore.dll', rss=73728),\n",
       " pmmap_grouped(path='C:\\\\Windows\\\\System32\\\\winsta.dll', rss=368640),\n",
       " pmmap_grouped(path='C:\\\\Windows\\\\System32\\\\rsaenh.dll', rss=212992),\n",
       " pmmap_grouped(path='C:\\\\Windows\\\\System32\\\\umpdc.dll', rss=73728),\n",
       " pmmap_grouped(path='C:\\\\Windows\\\\System32\\\\IPHLPAPI.DLL', rss=241664),\n",
       " pmmap_grouped(path='C:\\\\Windows\\\\System32\\\\netutils.dll', rss=49152),\n",
       " pmmap_grouped(path='C:\\\\Windows\\\\System32\\\\dnsapi.dll', rss=835584),\n",
       " pmmap_grouped(path='C:\\\\Windows\\\\System32\\\\logoncli.dll', rss=270336),\n",
       " pmmap_grouped(path='C:\\\\Windows\\\\System32\\\\powrprof.dll', rss=307200),\n",
       " pmmap_grouped(path='C:\\\\Windows\\\\System32\\\\mswsock.dll', rss=434176),\n",
       " pmmap_grouped(path='C:\\\\Windows\\\\System32\\\\cryptbase.dll', rss=49152),\n",
       " pmmap_grouped(path='C:\\\\Windows\\\\System32\\\\cryptsp.dll', rss=98304),\n",
       " pmmap_grouped(path='C:\\\\Windows\\\\System32\\\\sspicli.dll', rss=200704),\n",
       " pmmap_grouped(path='C:\\\\Windows\\\\System32\\\\msvcp_win.dll', rss=643072),\n",
       " pmmap_grouped(path='C:\\\\Windows\\\\System32\\\\crypt32.dll', rss=1437696),\n",
       " pmmap_grouped(path='C:\\\\Windows\\\\System32\\\\bcrypt.dll', rss=159744),\n",
       " pmmap_grouped(path='C:\\\\Windows\\\\System32\\\\ucrtbase.dll', rss=1048576),\n",
       " pmmap_grouped(path='C:\\\\Windows\\\\System32\\\\win32u.dll', rss=139264),\n",
       " pmmap_grouped(path='C:\\\\Windows\\\\System32\\\\KernelBase.dll', rss=2920448),\n",
       " pmmap_grouped(path='C:\\\\Windows\\\\System32\\\\bcryptprimitives.dll', rss=536576),\n",
       " pmmap_grouped(path='C:\\\\Windows\\\\System32\\\\gdi32full.dll', rss=1093632),\n",
       " pmmap_grouped(path='C:\\\\Windows\\\\System32\\\\msvcrt.dll', rss=647168),\n",
       " pmmap_grouped(path='C:\\\\Windows\\\\System32\\\\kernel32.dll', rss=774144),\n",
       " pmmap_grouped(path='C:\\\\Windows\\\\System32\\\\combase.dll', rss=3493888),\n",
       " pmmap_grouped(path='C:\\\\Windows\\\\System32\\\\SHCore.dll', rss=712704),\n",
       " pmmap_grouped(path='C:\\\\Windows\\\\System32\\\\oleaut32.dll', rss=839680),\n",
       " pmmap_grouped(path='C:\\\\Windows\\\\System32\\\\ws2_32.dll', rss=438272),\n",
       " pmmap_grouped(path='C:\\\\Windows\\\\System32\\\\imm32.dll', rss=196608),\n",
       " pmmap_grouped(path='C:\\\\Windows\\\\System32\\\\nsi.dll', rss=32768),\n",
       " pmmap_grouped(path='C:\\\\Windows\\\\System32\\\\user32.dll', rss=1703936),\n",
       " pmmap_grouped(path='C:\\\\Windows\\\\System32\\\\psapi.dll', rss=32768),\n",
       " pmmap_grouped(path='C:\\\\Windows\\\\System32\\\\sechost.dll', rss=634880),\n",
       " pmmap_grouped(path='C:\\\\Windows\\\\System32\\\\gdi32.dll', rss=172032),\n",
       " pmmap_grouped(path='C:\\\\Windows\\\\System32\\\\advapi32.dll', rss=704512),\n",
       " pmmap_grouped(path='C:\\\\Windows\\\\System32\\\\shell32.dll', rss=7598080),\n",
       " pmmap_grouped(path='C:\\\\Windows\\\\System32\\\\rpcrt4.dll', rss=1220608),\n",
       " pmmap_grouped(path='C:\\\\Windows\\\\System32\\\\ole32.dll', rss=1220608),\n",
       " pmmap_grouped(path='C:\\\\Windows\\\\System32\\\\ntdll.dll', rss=2052096)]"
      ]
     },
     "execution_count": 42,
     "metadata": {},
     "output_type": "execute_result"
    }
   ],
   "source": [
    "p.memory_maps()"
   ]
  },
  {
   "cell_type": "code",
   "execution_count": 43,
   "id": "ed8eaadc",
   "metadata": {},
   "outputs": [
    {
     "data": {
      "text/plain": [
       "'C:\\\\Users\\\\User\\\\AppData\\\\Local\\\\Programs\\\\Python\\\\Python39\\\\python.exe'"
      ]
     },
     "execution_count": 43,
     "metadata": {},
     "output_type": "execute_result"
    }
   ],
   "source": [
    "p.exe() # The environment variables of the process as a dict. Note: this might not reflect changes made after the process started.\n",
    "#Bir dict olarak sürecin ortam değişkenleri. Not: Bu, işlem başladıktan sonra yapılan değişiklikleri yansıtmayabilir."
   ]
  },
  {
   "cell_type": "code",
   "execution_count": 44,
   "id": "c52a5861",
   "metadata": {},
   "outputs": [
    {
     "data": {
      "text/plain": [
       "['c:\\\\users\\\\user\\\\appdata\\\\local\\\\programs\\\\python\\\\python39\\\\python.exe',\n",
       " '-m',\n",
       " 'ipykernel_launcher',\n",
       " '-f',\n",
       " 'C:\\\\Users\\\\User\\\\AppData\\\\Roaming\\\\jupyter\\\\runtime\\\\kernel-b1a9e69c-e95c-483c-bdde-3eb5fd6600cf.json']"
      ]
     },
     "execution_count": 44,
     "metadata": {},
     "output_type": "execute_result"
    }
   ],
   "source": [
    "p.cmdline() #The command line this process has been called with as a list of strings. The return value is not cached because the cmdline of a process may change.\n",
    "#Bu işlemin komut satırı, bir dize listesi olarak çağrıldı. Bir işlemin cmdline'ı değişebileceğinden dönüş değeri önbelleğe alınmaz."
   ]
  },
  {
   "cell_type": "code",
   "execution_count": 45,
   "id": "24070f59",
   "metadata": {},
   "outputs": [],
   "source": [
    "#p.environ()\n",
    "#The environment variables of the process as a dict. Note: this might not reflect changes made after the process started.\n",
    "# Bir dict olarak sürecin ortam değişkenleri. Not: Bu, işlem başladıktan sonra yapılan değişiklikleri yansıtmayabilir."
   ]
  },
  {
   "cell_type": "code",
   "execution_count": 46,
   "id": "42829f33",
   "metadata": {},
   "outputs": [],
   "source": [
    "#p.as_dict(attrs=None, ad_value=None)"
   ]
  },
  {
   "cell_type": "code",
   "execution_count": 47,
   "id": "0a49e6d4",
   "metadata": {},
   "outputs": [
    {
     "data": {
      "text/plain": [
       "psutil.Process(pid=8308, name='python.exe', status='running', started='16:23:19')"
      ]
     },
     "execution_count": 47,
     "metadata": {},
     "output_type": "execute_result"
    }
   ],
   "source": [
    "p.parent()\n",
    "#Utility method which returns the parent process as a Process object, preemptively checking whether PID has been reused. If no parent PID is known return None.\n",
    "#PID'nin yeniden kullanılıp kullanılmadığını önceden kontrol ederek, üst işlemi bir İşlem nesnesi olarak döndüren yardımcı program yöntemi. Bilinen bir üst PID yoksa, None döndür"
   ]
  },
  {
   "cell_type": "code",
   "execution_count": 48,
   "id": "6960e03d",
   "metadata": {},
   "outputs": [
    {
     "data": {
      "text/plain": [
       "[psutil.Process(pid=8308, name='python.exe', status='running', started='16:23:19'),\n",
       " psutil.Process(pid=10068, name='jupyter-notebook.exe', status='running', started='16:23:19'),\n",
       " psutil.Process(pid=20432, name='python.exe', status='running', started='16:23:18'),\n",
       " psutil.Process(pid=19996, name='jupyter.exe', status='running', started='16:23:18'),\n",
       " psutil.Process(pid=17412, name='explorer.exe', status='running', started='16:19:39')]"
      ]
     },
     "execution_count": 48,
     "metadata": {},
     "output_type": "execute_result"
    }
   ],
   "source": [
    "p.parents()"
   ]
  },
  {
   "cell_type": "code",
   "execution_count": 49,
   "id": "8d8b1512",
   "metadata": {},
   "outputs": [
    {
     "data": {
      "text/plain": [
       "'running'"
      ]
     },
     "execution_count": 49,
     "metadata": {},
     "output_type": "execute_result"
    }
   ],
   "source": [
    "p.status()"
   ]
  },
  {
   "cell_type": "code",
   "execution_count": 50,
   "id": "69939d20",
   "metadata": {},
   "outputs": [
    {
     "data": {
      "text/plain": [
       "'D:\\\\AI Temel\\\\GPU STATS'"
      ]
     },
     "execution_count": 50,
     "metadata": {},
     "output_type": "execute_result"
    }
   ],
   "source": [
    "p.cwd()"
   ]
  },
  {
   "cell_type": "code",
   "execution_count": 51,
   "id": "2b93cb4d",
   "metadata": {},
   "outputs": [
    {
     "data": {
      "text/plain": [
       "'DESKTOP-5JMQF9Q\\\\User'"
      ]
     },
     "execution_count": 51,
     "metadata": {},
     "output_type": "execute_result"
    }
   ],
   "source": [
    "p.username()"
   ]
  },
  {
   "cell_type": "code",
   "execution_count": 52,
   "id": "a2949ea7",
   "metadata": {},
   "outputs": [],
   "source": [
    "#p.uids()\n",
    "#The real, effective and saved user ids of this process as a named tuple.\n",
    "# Bu işlemin gerçek, etkili ve kaydedilmiş kullanıcı kimlikleri, adlandırılmış bir demet olarak paylaşır."
   ]
  },
  {
   "cell_type": "code",
   "execution_count": 53,
   "id": "dab4f933",
   "metadata": {},
   "outputs": [],
   "source": [
    "#p.gids()\n",
    "#The real, effective and saved group ids of this process as a named tuple\n",
    "#Bu işlemin gerçek, etkili ve kaydedilmiş kullanıcı kimlikleri, adlandırılmış bir demet olarak paylaşır."
   ]
  },
  {
   "cell_type": "code",
   "execution_count": 54,
   "id": "c91a9df0",
   "metadata": {},
   "outputs": [
    {
     "data": {
      "text/plain": [
       "<Priority.NORMAL_PRIORITY_CLASS: 32>"
      ]
     },
     "execution_count": 54,
     "metadata": {},
     "output_type": "execute_result"
    }
   ],
   "source": [
    "p.nice()# bu parametre önceliği ayarlamayı sağlar ama UNIX'te. Windowsta sadece çıktı verir.\n",
    "#Get or set process niceness (priority)."
   ]
  },
  {
   "cell_type": "code",
   "execution_count": 55,
   "id": "94f5d710",
   "metadata": {},
   "outputs": [],
   "source": [
    "if psutil.LINUX:\n",
    "    p.ionice(psutil.IOPRIO_CLASS_RT, value=7)\n",
    "else:\n",
    "    p.ionice(psutil.IOPRIO_NORMAL)"
   ]
  },
  {
   "cell_type": "markdown",
   "id": "da8ea31b",
   "metadata": {},
   "source": [
    "* EN:\n",
    "Linux (see ioprio_get manual):\n",
    "\n",
    "* IOPRIO_CLASS_RT: (high) the process gets first access to the disk every time. Use it with care as it can starve the entire system. Additional priority level can be specified and ranges from 0 (highest) to 7 (lowest).\n",
    "* IOPRIO_CLASS_BE: (normal) the default for any process that hasn’t set a specific I/O priority. Additional priority level ranges from 0 (highest) to 7 (lowest).\n",
    "* IOPRIO_CLASS_IDLE: (low) get I/O time when no-one else needs the disk. No additional value is accepted.\n",
    "* IOPRIO_CLASS_NONE: returned when no priority was previously set.\n",
    "Windows:\n",
    "\n",
    "* IOPRIO_HIGH: highest priority.\n",
    "* IOPRIO_NORMAL: default priority.\n",
    "* IOPRIO_LOW: low priority.\n",
    "* IOPRIO_VERYLOW: lowest priority.\n",
    "\n",
    "* TR:\n",
    "Linux (ioprio_get kılavuzuna bakın):\n",
    "\n",
    "* IOPRIO_CLASS_RT: (yüksek) işlem her seferinde diske ilk erişim sağlar. Tüm sistemi aç bırakabileceğinden dikkatli kullanın. Ek öncelik seviyesi belirtilebilir ve 0 (en yüksek) ile 7 (en düşük) arasında değişir.\n",
    "* IOPRIO_CLASS_BE: (normal) belirli bir G/Ç önceliği belirlememiş herhangi bir işlem için varsayılan. Ek öncelik seviyesi 0 (en yüksek) ile 7 (en düşük) arasında değişir.\n",
    "* IOPRIO_CLASS_IDLE: (düşük) kimsenin diske ihtiyacı olmadığında G/Ç zamanı elde edin. Ek değer kabul edilmez.\n",
    "* IOPRIO_CLASS_NONE: daha önce hiçbir öncelik ayarlanmadığında döndürülür.\n",
    "Pencereler:\n",
    "\n",
    "* IOPRIO_HIGH: en yüksek öncelik.\n",
    "* IOPRIO_NORMAL: varsayılan öncelik.\n",
    "* IOPRIO_LOW: düşük öncelik.\n",
    "* IOPRIO_VERYLOW: en düşük öncelik."
   ]
  },
  {
   "cell_type": "code",
   "execution_count": 56,
   "id": "e1074a24",
   "metadata": {},
   "outputs": [
    {
     "data": {
      "text/plain": [
       "<IOPriority.IOPRIO_NORMAL: 2>"
      ]
     },
     "execution_count": 56,
     "metadata": {},
     "output_type": "execute_result"
    }
   ],
   "source": [
    "p.ionice()  # get"
   ]
  },
  {
   "cell_type": "code",
   "execution_count": 57,
   "id": "4592fc4e",
   "metadata": {},
   "outputs": [],
   "source": [
    "#p.rlimit(psutil.RLIMIT_NOFILE, (128, 128))   # process can open max 128 file descriptors/işlem maksimum 128 dosya tanımlayıcı açabilir\n",
    "#p.rlimit(psutil.RLIMIT_FSIZE, (1024, 1024))  # can create files no bigger than 1024 bytes/1024 bayttan büyük olmayan dosyalar oluşturabilir\n",
    "#p.rlimit(psutil.RLIMIT_FSIZE)                # get/al"
   ]
  },
  {
   "cell_type": "markdown",
   "id": "a08a1920",
   "metadata": {},
   "source": [
    "Get or set process resource limits.\n",
    "İşlem kaynak sınırlarını alın veya ayarlayın."
   ]
  },
  {
   "cell_type": "code",
   "execution_count": 58,
   "id": "5e6207d9",
   "metadata": {},
   "outputs": [
    {
     "data": {
      "text/plain": [
       "pio(read_count=2186, write_count=816, read_bytes=16630587, write_bytes=1469754, other_count=44843, other_bytes=1760594)"
      ]
     },
     "execution_count": 58,
     "metadata": {},
     "output_type": "execute_result"
    }
   ],
   "source": [
    "p.io_counters()"
   ]
  },
  {
   "cell_type": "markdown",
   "id": "d813cd58",
   "metadata": {},
   "source": [
    "* EN:\n",
    "Return process I/O statistics as a named tuple.\n",
    "\n",
    "* read_count: the number of read operations performed (cumulative). This is supposed to count the number of read-related syscalls such as read() and pread() on UNIX.\n",
    "* write_count: the number of write operations performed (cumulative). This is supposed to count the number of write-related syscalls such as write() and pwrite() on UNIX.\n",
    "* read_bytes: the number of bytes read (cumulative). Always -1 on BSD.\n",
    "* write_bytes: the number of bytes written (cumulative). Always -1 on BSD.\n",
    "Linux specific:\n",
    "\n",
    "* read_chars (Linux): the amount of bytes which this process passed to read() and pread() syscalls (cumulative). Differently from read_bytes it doesn’t care whether or not actual physical disk I/O occurred.\n",
    "* write_chars (Linux): the amount of bytes which this process passed to write() and pwrite() syscalls (cumulative). Differently from write_bytes it doesn’t care whether or not actual physical disk I/O occurred.\n",
    "Windows specific:\n",
    "\n",
    "* other_count (Windows): the number of I/O operations performed other than read and write operations.\n",
    "* other_bytes (Windows): the number of bytes transferred during operations other than read and write operations.\n",
    "\n",
    "* TR:\n",
    "İşlem G/Ç istatistiklerini adlandırılmış bir demet olarak döndürür.\n",
    "\n",
    "* read_count: gerçekleştirilen okuma işlemlerinin sayısı (kümülatif). Bunun UNIX'te read() ve pread() gibi okuma ile ilgili sistem çağrılarının sayısını sayması beklenir.\n",
    "* write_count: gerçekleştirilen yazma işlemlerinin sayısı (kümülatif). Bunun UNIX'te write() ve pwrite() gibi yazma ile ilgili sistem çağrılarının sayısını sayması beklenir.\n",
    "* read_bytes: okunan bayt sayısı (kümülatif). BSD'de her zaman -1.\n",
    "* write_bytes: yazılan bayt sayısı (kümülatif). BSD'de her zaman -1.\n",
    "Linux'a özgü:\n",
    "\n",
    "* read_chars (Linux): Bu işlemin read() ve pread() sistem çağrılarına (kümülatif) ilettiği bayt miktarı. Read_bytes'den farklı olarak, gerçek fiziksel disk G/Ç'sinin oluşup oluşmadığı umurunda değildir.\n",
    "* write_chars (Linux): bu işlemin write() ve pwrite() sistem çağrılarına (kümülatif) ilettiği bayt miktarı. Write_bytes'den farklı olarak, gerçek fiziksel disk G/Ç'nin oluşup oluşmadığı umurunda değildir.\n",
    "Windows'a özgü:\n",
    "\n",
    "* other_count (Windows): okuma ve yazma işlemleri dışında gerçekleştirilen G/Ç işlemlerinin sayısı.\n",
    "* other_bytes (Windows): okuma ve yazma işlemleri dışındaki işlemler sırasında aktarılan bayt sayısı."
   ]
  },
  {
   "cell_type": "code",
   "execution_count": 59,
   "id": "ea64bf68",
   "metadata": {},
   "outputs": [
    {
     "data": {
      "text/plain": [
       "pctxsw(voluntary=9744, involuntary=0)"
      ]
     },
     "execution_count": 59,
     "metadata": {},
     "output_type": "execute_result"
    }
   ],
   "source": [
    "p.num_ctx_switches()\n",
    "# The number voluntary and involuntary context switches performed by this process (cumulative).\n",
    "# Bu süreç tarafından gerçekleştirilen gönüllü ve gönülsüz bağlam anahtarlarının sayısı (kümülatif)."
   ]
  },
  {
   "cell_type": "code",
   "execution_count": 60,
   "id": "a8b56698",
   "metadata": {},
   "outputs": [],
   "source": [
    "#p.num_fds()"
   ]
  },
  {
   "cell_type": "code",
   "execution_count": 61,
   "id": "9f34bfc2",
   "metadata": {},
   "outputs": [
    {
     "data": {
      "text/plain": [
       "885"
      ]
     },
     "execution_count": 61,
     "metadata": {},
     "output_type": "execute_result"
    }
   ],
   "source": [
    "p.num_handles() # The number of handles currently used by this process (non cumulative).\n",
    "# Şu anda bu işlem tarafından kullanılan tanıtıcı sayısı (kümülatif olmayan)."
   ]
  },
  {
   "cell_type": "code",
   "execution_count": 62,
   "id": "1468a7b0",
   "metadata": {},
   "outputs": [
    {
     "data": {
      "text/plain": [
       "37"
      ]
     },
     "execution_count": 62,
     "metadata": {},
     "output_type": "execute_result"
    }
   ],
   "source": [
    "p.num_threads()\n",
    "# Return threads opened by process as a list of named tuples including thread id and thread CPU times (user/system). On OpenBSD this method requires root privileges.\n",
    "# İşlem tarafından açılan iş parçacıklarını, iş parçacığı kimliği ve iş parçacığı CPU süreleri (kullanıcı/sistem) dahil olmak üzere adlandırılmış kümelerin bir listesi olarak döndürün. OpenBSD'de bu yöntem kök ayrıcalıkları gerektirir."
   ]
  },
  {
   "cell_type": "code",
   "execution_count": 63,
   "id": "e38837b5",
   "metadata": {},
   "outputs": [
    {
     "data": {
      "text/plain": [
       "[pthread(id=816, user_time=0.625, system_time=1.015625),\n",
       " pthread(id=1652, user_time=0.0, system_time=0.0),\n",
       " pthread(id=9428, user_time=0.0, system_time=0.0),\n",
       " pthread(id=7548, user_time=0.0, system_time=0.0),\n",
       " pthread(id=10412, user_time=0.0, system_time=0.0),\n",
       " pthread(id=16624, user_time=0.0, system_time=0.015625),\n",
       " pthread(id=10224, user_time=0.0, system_time=0.0),\n",
       " pthread(id=5432, user_time=0.078125, system_time=0.0),\n",
       " pthread(id=8652, user_time=0.0, system_time=0.0),\n",
       " pthread(id=11332, user_time=0.0, system_time=0.0),\n",
       " pthread(id=20656, user_time=0.0, system_time=0.0),\n",
       " pthread(id=11252, user_time=0.03125, system_time=0.046875),\n",
       " pthread(id=20232, user_time=0.0, system_time=0.0),\n",
       " pthread(id=13524, user_time=0.0, system_time=0.0),\n",
       " pthread(id=19024, user_time=0.0, system_time=0.0),\n",
       " pthread(id=3032, user_time=0.0, system_time=0.0),\n",
       " pthread(id=4140, user_time=0.0, system_time=0.0),\n",
       " pthread(id=13660, user_time=0.0, system_time=0.0),\n",
       " pthread(id=12292, user_time=0.0, system_time=0.0),\n",
       " pthread(id=6620, user_time=0.0, system_time=0.0),\n",
       " pthread(id=20796, user_time=0.0, system_time=0.0),\n",
       " pthread(id=20064, user_time=0.0, system_time=0.0),\n",
       " pthread(id=11228, user_time=0.0, system_time=0.0),\n",
       " pthread(id=13860, user_time=0.0, system_time=0.0),\n",
       " pthread(id=18256, user_time=0.0, system_time=0.0),\n",
       " pthread(id=4904, user_time=0.0, system_time=0.0),\n",
       " pthread(id=17348, user_time=0.0, system_time=0.0),\n",
       " pthread(id=17336, user_time=0.0, system_time=0.0),\n",
       " pthread(id=8368, user_time=0.0, system_time=0.0),\n",
       " pthread(id=15024, user_time=0.0, system_time=0.0),\n",
       " pthread(id=8924, user_time=0.0, system_time=0.0),\n",
       " pthread(id=21728, user_time=0.0, system_time=0.0),\n",
       " pthread(id=10524, user_time=0.0, system_time=0.0),\n",
       " pthread(id=6828, user_time=0.0, system_time=0.0),\n",
       " pthread(id=22152, user_time=0.0, system_time=0.0),\n",
       " pthread(id=8772, user_time=0.0, system_time=0.0),\n",
       " pthread(id=20904, user_time=0.0, system_time=0.0)]"
      ]
     },
     "execution_count": 63,
     "metadata": {},
     "output_type": "execute_result"
    }
   ],
   "source": [
    "p.threads()\n",
    "# Return threads opened by process as a list of named tuples including thread id and thread CPU times (user/system). On OpenBSD this method requires root privileges.\n",
    "# İşlem tarafından açılan iş parçacıklarını, iş parçacığı kimliği ve iş parçacığı CPU süreleri (kullanıcı/sistem) dahil olmak üzere adlandırılmış kümelerin bir listesi olarak döndürün. OpenBSD'de bu yöntem kök ayrıcalıkları gerektirir."
   ]
  },
  {
   "cell_type": "code",
   "execution_count": 64,
   "id": "a6df2557",
   "metadata": {},
   "outputs": [
    {
     "data": {
      "text/plain": [
       "pcputimes(user=0.75, system=1.125, children_user=0.0, children_system=0.0)"
      ]
     },
     "execution_count": 64,
     "metadata": {},
     "output_type": "execute_result"
    }
   ],
   "source": [
    "p.cpu_times()\n",
    "#Return a named tuple representing the accumulated process times, in seconds \n",
    "# Saniye cinsinden birikmiş işlem sürelerini temsil eden adlandırılmış bir demet döndür"
   ]
  },
  {
   "cell_type": "markdown",
   "id": "596fa8a4",
   "metadata": {},
   "source": [
    "* EN:\n",
    "* user: time spent in user mode.\n",
    "* system: time spent in kernel mode.\n",
    "* children_user: user time of all child processes (always 0 on Windows and macOS).\n",
    "* children_system: system time of all child processes (always 0 on Windows and macOS).\n",
    "* iowait: (Linux) time spent waiting for blocking I/O to complete. This value is excluded from user and system times count (because the CPU is not doing any work).\n",
    "\n",
    "* TR:\n",
    "* User: kullanıcı modunda geçirilen süre.\n",
    "* sistem: çekirdek modunda harcanan zaman.\n",
    "* children_user: tüm alt süreçlerin kullanıcı zamanı (Windows ve macOS'ta her zaman 0).\n",
    "* Children_system: tüm alt süreçlerin sistem zamanı (Windows ve macOS'ta her zaman 0).\n",
    "* iowait: (Linux) G/Ç'nin tamamlanmasını engellemek için harcanan süre. Bu değer, kullanıcı ve sistem süreleri sayımından hariç tutulur (çünkü CPU herhangi bir iş yapmıyor)."
   ]
  },
  {
   "cell_type": "code",
   "execution_count": 65,
   "id": "ab05737a",
   "metadata": {},
   "outputs": [
    {
     "data": {
      "text/plain": [
       "1.890625"
      ]
     },
     "execution_count": 65,
     "metadata": {},
     "output_type": "execute_result"
    }
   ],
   "source": [
    "sum(p.cpu_times()[:2])  # cumulative, excluding children and iowait\n",
    "#kümülatif, Children ve iowait hariç"
   ]
  },
  {
   "cell_type": "code",
   "execution_count": 66,
   "id": "4995249c",
   "metadata": {},
   "outputs": [
    {
     "data": {
      "text/plain": [
       "0.0"
      ]
     },
     "execution_count": 66,
     "metadata": {},
     "output_type": "execute_result"
    }
   ],
   "source": [
    "p.cpu_percent(interval=1)"
   ]
  },
  {
   "cell_type": "code",
   "execution_count": 67,
   "id": "20084321",
   "metadata": {},
   "outputs": [
    {
     "data": {
      "text/plain": [
       "0.0"
      ]
     },
     "execution_count": 67,
     "metadata": {},
     "output_type": "execute_result"
    }
   ],
   "source": [
    "p.cpu_percent(interval=None)"
   ]
  },
  {
   "cell_type": "markdown",
   "id": "d4687438",
   "metadata": {},
   "source": [
    "* EN:\n",
    "Get or set process current CPU affinity. CPU affinity consists in telling the OS to run a process on a limited set of CPUs only (on Linux cmdline, taskset command is typically used). If no argument is passed it returns the current CPU affinity as a list of integers. If passed it must be a list of integers specifying the new CPUs affinity. If an empty list is passed all eligible CPUs are assumed (and set). On some systems such as Linux this may not necessarily mean all available logical CPUs as in list(range(psutil.cpu_count()))).\n",
    "\n",
    "* TR:\n",
    "Mevcut CPU benzeşimini alın veya ayarlayın. CPU benzeşimi, işletim sistemine yalnızca sınırlı bir CPU kümesinde bir işlemi çalıştırmasını söylemekten oluşur (Linux cmdline'da genellikle görev kümesi komutu kullanılır). Herhangi bir argüman iletilmezse, mevcut CPU benzeşimini bir tamsayı listesi olarak döndürür. Geçilirse, yeni CPU'ların benzerliğini belirten bir tamsayı listesi olmalıdır. Boş bir listeden geçilirse, tüm uygun CPU'lar varsayılır (ve ayarlanır). Linux gibi bazı sistemlerde bu, list(range(psutil.cpu_count()))'daki gibi tüm kullanılabilir mantıksal CPU'lar anlamına gelmeyebilir."
   ]
  },
  {
   "cell_type": "code",
   "execution_count": 68,
   "id": "5df31fbb",
   "metadata": {},
   "outputs": [
    {
     "data": {
      "text/plain": [
       "[0,\n",
       " 1,\n",
       " 2,\n",
       " 3,\n",
       " 4,\n",
       " 5,\n",
       " 6,\n",
       " 7,\n",
       " 8,\n",
       " 9,\n",
       " 10,\n",
       " 11,\n",
       " 12,\n",
       " 13,\n",
       " 14,\n",
       " 15,\n",
       " 16,\n",
       " 17,\n",
       " 18,\n",
       " 19,\n",
       " 20,\n",
       " 21,\n",
       " 22,\n",
       " 23,\n",
       " 24,\n",
       " 25,\n",
       " 26,\n",
       " 27,\n",
       " 28,\n",
       " 29,\n",
       " 30,\n",
       " 31]"
      ]
     },
     "execution_count": 68,
     "metadata": {},
     "output_type": "execute_result"
    }
   ],
   "source": [
    "p.cpu_affinity()"
   ]
  },
  {
   "cell_type": "code",
   "execution_count": 69,
   "id": "f5032c7e",
   "metadata": {},
   "outputs": [],
   "source": [
    "# set; from now on, process will run on CPU #0 and #1 only\n",
    "p.cpu_affinity([0, 1])\n",
    "# Ayarlama; bundan sonra işlem sadece CPU #0 ve #1 üzerinde çalışacak"
   ]
  },
  {
   "cell_type": "code",
   "execution_count": 70,
   "id": "ba1ebd6e",
   "metadata": {},
   "outputs": [
    {
     "data": {
      "text/plain": [
       "[0, 1]"
      ]
     },
     "execution_count": 70,
     "metadata": {},
     "output_type": "execute_result"
    }
   ],
   "source": [
    "p.cpu_affinity()"
   ]
  },
  {
   "cell_type": "code",
   "execution_count": 71,
   "id": "423be5d1",
   "metadata": {},
   "outputs": [],
   "source": [
    "# reset affinity against all eligible CPUs\n",
    "p.cpu_affinity([])\n",
    "# tüm uygun CPU'lara karşı yakınlığı sıfırla"
   ]
  },
  {
   "cell_type": "code",
   "execution_count": 72,
   "id": "38717543",
   "metadata": {},
   "outputs": [
    {
     "data": {
      "text/plain": [
       "[0,\n",
       " 1,\n",
       " 2,\n",
       " 3,\n",
       " 4,\n",
       " 5,\n",
       " 6,\n",
       " 7,\n",
       " 8,\n",
       " 9,\n",
       " 10,\n",
       " 11,\n",
       " 12,\n",
       " 13,\n",
       " 14,\n",
       " 15,\n",
       " 16,\n",
       " 17,\n",
       " 18,\n",
       " 19,\n",
       " 20,\n",
       " 21,\n",
       " 22,\n",
       " 23,\n",
       " 24,\n",
       " 25,\n",
       " 26,\n",
       " 27,\n",
       " 28,\n",
       " 29,\n",
       " 30,\n",
       " 31]"
      ]
     },
     "execution_count": 72,
     "metadata": {},
     "output_type": "execute_result"
    }
   ],
   "source": [
    "#check\n",
    "p.cpu_affinity()"
   ]
  },
  {
   "cell_type": "code",
   "execution_count": 73,
   "id": "2e66650a",
   "metadata": {},
   "outputs": [],
   "source": [
    "#p.cpu_num()\n",
    "#Return what CPU this process is currently running on. \n",
    "# Bu işlemin şu anda hangi CPU üzerinde çalıştığını döndürün."
   ]
  },
  {
   "cell_type": "code",
   "execution_count": 74,
   "id": "ebf17003",
   "metadata": {},
   "outputs": [
    {
     "data": {
      "text/plain": [
       "pfullmem(rss=97071104, vms=869724160, num_page_faults=68798, peak_wset=111009792, wset=97071104, peak_paged_pool=319928, paged_pool=304192, peak_nonpaged_pool=1299816, nonpaged_pool=116880, pagefile=869724160, peak_pagefile=883838976, private=869724160, uss=75620352)"
      ]
     },
     "execution_count": 74,
     "metadata": {},
     "output_type": "execute_result"
    }
   ],
   "source": [
    "p.memory_full_info()"
   ]
  },
  {
   "cell_type": "markdown",
   "id": "0f920b76",
   "metadata": {},
   "source": [
    "* EN:\n",
    "* rss: aka “Resident Set Size”, this is the non-swapped physical memory a process has used. On UNIX it matches “top“‘s RES column). On Windows this is an alias for wset field and it matches “Mem Usage” column of taskmgr.exe.\n",
    "* vms: aka “Virtual Memory Size”, this is the total amount of virtual memory used by the process. On UNIX it matches “top“‘s VIRT column. On Windows this is an alias for pagefile field and it matches “Mem Usage” “VM Size” column of taskmgr.exe.\n",
    "* shared: (Linux) memory that could be potentially shared with other processes. This matches “top“‘s SHR column).text (Linux, BSD): aka TRS (text resident set) the amount of memory devoted to executable code. This matches “top“‘s CODE column).data (Linux, BSD): aka DRS (data resident set) the amount of physical memory devoted to other than executable code. It matches “top“‘s DATA column).\n",
    "* lib (Linux): the memory used by shared libraries.\n",
    "* dirty (Linux): the number of dirty pages.\n",
    "* pfaults (macOS): number of page faults.\n",
    "* pageins (macOS): number of actual pageins.\n",
    "\n",
    "* TR:\n",
    "* rss: namı diğer \"Yerleşik Küme Boyutu\", bu, bir işlemin kullandığı takas edilmeyen fiziksel bellektir. UNIX'te \"top\"un RES sütunuyla eşleşir). Windows'ta bu, wset alanı için bir takma addır ve taskmgr.exe'nin \"Mem Kullanımı\" sütunuyla eşleşir.\n",
    "* vms: namı diğer “Sanal Bellek Boyutu”, bu işlem tarafından kullanılan toplam sanal bellek miktarıdır. UNIX'te \"top\"un VIRT sütunuyla eşleşir. Windows'ta bu, sayfa dosyası alanı için bir takma addır ve taskmgr.exe'nin \"Mem Kullanımı\" \"VM Boyutu\" sütunuyla eşleşir.\n",
    "* paylaşılan: (Linux) diğer işlemlerle potansiyel olarak paylaşılabilen bellek. Bu, \"top\"un SHR sütunuyla eşleşir.text (Linux, BSD): aka TRS (metin yerleşik seti), yürütülebilir koda ayrılan bellek miktarı. Bu, \"top\"un KOD sütunu ile eşleşir.data (Linux, BSD): aka DRS (veri yerleşik seti), yürütülebilir kod dışındakilere ayrılmış fiziksel bellek miktarı. \"top\"un DATA sütunuyla eşleşir).\n",
    "* lib (Linux): paylaşılan kütüphaneler tarafından kullanılan bellek.\n",
    "* kirli (Linux): kirli sayfa sayısı.\n",
    "* pfaults (macOS): sayfa hatası sayısı.\n",
    "* sayfa girişleri (macOS): gerçek sayfa girişlerinin sayısı."
   ]
  },
  {
   "cell_type": "code",
   "execution_count": 75,
   "id": "3f398bf1",
   "metadata": {},
   "outputs": [
    {
     "data": {
      "text/plain": [
       "0.2832989196292477"
      ]
     },
     "execution_count": 75,
     "metadata": {},
     "output_type": "execute_result"
    }
   ],
   "source": [
    "p.memory_percent(memtype=\"rss\")\n",
    "#Compare process memory to total physical system memory and calculate process memory utilization as a percentage.memtype argument is a string that dictates what type of process memory you want to compare against.\n",
    "#İşlem belleğini toplam fiziksel sistem belleğiyle karşılaştırın ve işlem belleği kullanımını bir yüzde olarak hesaplayın.memtype bağımsız değişkeni, ne tür işlem belleğiyle karşılaştırmak istediğinizi belirten bir dizedir."
   ]
  },
  {
   "cell_type": "code",
   "execution_count": 76,
   "id": "d14cbc6a",
   "metadata": {},
   "outputs": [
    {
     "data": {
      "text/plain": [
       "[popenfile(path='C:\\\\Program Files\\\\WindowsApps\\\\Microsoft.LanguageExperiencePacktr-TR_19041.25.67.0_neutral__8wekyb3d8bbwe\\\\Windows\\\\System32\\\\tr-TR\\\\kernel32.dll.mui', fd=-1),\n",
       " popenfile(path='C:\\\\Users\\\\User\\\\.ipython\\\\profile_default\\\\history.sqlite-journal', fd=-1),\n",
       " popenfile(path='C:\\\\Program Files\\\\WindowsApps\\\\Microsoft.LanguageExperiencePacktr-TR_19041.25.67.0_neutral__8wekyb3d8bbwe\\\\Windows\\\\System32\\\\tr-TR\\\\KernelBase.dll.mui', fd=-1),\n",
       " popenfile(path='C:\\\\Users\\\\User\\\\.ipython\\\\profile_default\\\\history.sqlite', fd=-1),\n",
       " popenfile(path='C:\\\\Program Files\\\\WindowsApps\\\\Microsoft.LanguageExperiencePacktr-TR_19041.25.67.0_neutral__8wekyb3d8bbwe\\\\Windows\\\\System32\\\\tr-TR\\\\tzres.dll.mui', fd=-1),\n",
       " popenfile(path='D:\\\\AI Temel\\\\GPU STATS\\\\file.txt', fd=-1)]"
      ]
     },
     "execution_count": 76,
     "metadata": {},
     "output_type": "execute_result"
    }
   ],
   "source": [
    "f = open('file.txt', 'w') # bu sırada bulundugunuz dizinde bir txt oluşturun ve bu komutu çalıştırın\n",
    "# create a txt in your current directory and run this command\n",
    "p.open_files()"
   ]
  },
  {
   "cell_type": "markdown",
   "id": "4a986abe",
   "metadata": {},
   "source": [
    "* EN:\n",
    "Return regular files opened by process as a list of named tuples including the following fields:\n",
    "\n",
    "* path: the absolute file name.\n",
    "* fd: the file descriptor number; on Windows this is always -1.\n",
    "Linux only:\n",
    "\n",
    "* position (Linux): the file (offset) position.\n",
    "* mode (Linux): a string indicating how the file was opened, similarly to open builtin mode argument. Possible values are 'r', 'w', 'a', 'r+' and 'a+'. There’s no distinction between files opened in binary or text mode (\"b\" or \"t\").\n",
    "* flags (Linux): the flags which were passed to the underlying os.open C call when the file was opened (e.g. os.O_RDONLY, os.O_TRUNC, etc).\n",
    "\n",
    "* TR:\n",
    "Aşağıdaki alanları içeren adlandırılmış demetlerin bir listesi olarak işlem tarafından açılan normal dosyaları döndürün:\n",
    "\n",
    "* yol: mutlak dosya adı.\n",
    "* fd: dosya tanıtıcı numarası; Windows'ta bu her zaman -1'dir.\n",
    "Yalnızca Linux:\n",
    "\n",
    "* konum (Linux): dosya (ofset) konumu.\n",
    "* modu (Linux): açık yerleşik mod bağımsız değişkenine benzer şekilde dosyanın nasıl açıldığını gösteren bir dize. Olası değerler 'r', 'w', 'a', 'r+' ve 'a+'dır. İkili veya metin modunda (\"b\" veya \"t\") açılan dosyalar arasında hiçbir ayrım yoktur.\n",
    "* bayraklar (Linux): dosya açıldığında temeldeki os.open C çağrısına geçirilen bayraklar (örn. os.O_RDONLY, os.O_TRUNC, vb.)."
   ]
  },
  {
   "cell_type": "code",
   "execution_count": 77,
   "id": "dba33807",
   "metadata": {
    "scrolled": true
   },
   "outputs": [],
   "source": [
    "#p.connections(kind=\"inet\")"
   ]
  },
  {
   "cell_type": "markdown",
   "id": "fb6dffa3",
   "metadata": {},
   "source": [
    "* EN:\n",
    "Return socket connections opened by process as a list of named tuples. To get system-wide connections use psutil.net_connections(). Every named tuple provides 6 attributes:\n",
    "\n",
    "* fd: the socket file descriptor. This can be passed to socket.fromfd to obtain a usable socket object. On Windows, FreeBSD and SunOS this is always set to -1.\n",
    "* family: the address family, either AF_INET, AF_INET6 or AF_UNIX.\n",
    "* type: the address type, either SOCK_STREAM, SOCK_DGRAM or SOCK_SEQPACKET. .\n",
    "* laddr: the local address as a (ip, port) named tuple or a path in case of AF_UNIX sockets. For UNIX sockets see notes below.\n",
    "* raddr: the remote address as a (ip, port) named tuple or an absolute path in case of UNIX sockets. When the remote endpoint is not connected you’ll get an empty tuple (AF_INET*) or \"\" (AF_UNIX). For UNIX sockets see notes below.\n",
    "* status: represents the status of a TCP connection. The return value is one of the psutil.CONN_* constants. For UDP and UNIX sockets this is always going to be psutil.CONN_NONE.\n",
    "\n",
    "* TR:\n",
    "İşlem tarafından açılan yuva bağlantılarını adlandırılmış demetlerin bir listesi olarak döndürün. Sistem çapında bağlantılar elde etmek için psutil.net_connections() kullanın. Her adlandırılmış demet 6 nitelik sağlar:\n",
    "\n",
    "* fd: soket dosyası tanımlayıcısı. Bu, kullanılabilir bir soket nesnesi elde etmek için socket.fromfd'ye geçirilebilir. Windows, FreeBSD ve SunOS'ta bu her zaman -1'e ayarlıdır.\n",
    "* ailesi: AF_INET, AF_INET6 veya AF_UNIX adres ailesi.\n",
    "* tür: adres türü, SOCK_STREAM, SOCK_DGRAM veya SOCK_SEQPACKET. .\n",
    "* laddr: AF_UNIX soketleri olması durumunda, bir (ip, port) olarak adlandırılan demet veya bir yol olarak yerel adres. UNIX soketleri için aşağıdaki notlara bakın.\n",
    "* raddr: UNIX soketleri durumunda, tuple adında bir (ip, port) veya mutlak yol olarak uzak adres. Uzak uç nokta bağlı olmadığında boş bir demet (AF_INET*) veya \"\" (AF_UNIX) alırsınız. UNIX soketleri için aşağıdaki notlara bakın.\n",
    "* durum: bir TCP bağlantısının durumunu temsil eder. Dönüş değeri, psutil.CONN_* sabitlerinden biridir. UDP ve UNIX soketleri için bu her zaman psutil.CONN_NONE olacaktır."
   ]
  },
  {
   "cell_type": "code",
   "execution_count": 78,
   "id": "aa9e7374",
   "metadata": {},
   "outputs": [
    {
     "data": {
      "text/plain": [
       "'System'"
      ]
     },
     "execution_count": 78,
     "metadata": {},
     "output_type": "execute_result"
    }
   ],
   "source": [
    "p = psutil.Process(4)\n",
    "p.name()"
   ]
  },
  {
   "cell_type": "code",
   "execution_count": 79,
   "id": "cf8304e2",
   "metadata": {
    "scrolled": true
   },
   "outputs": [],
   "source": [
    "#p.connections()"
   ]
  },
  {
   "cell_type": "markdown",
   "id": "a1d46a10",
   "metadata": {},
   "source": [
    "Return whether the current process is running in the current process list. This is reliable also in case the process is gone and its PID reused by another process, therefore it must be preferred over doing psutil.pid_exists(p.pid)\n",
    "\n",
    "Geçerli işlemin geçerli işlem listesinde çalışıp çalışmadığını döndürür. Bu, işlemin sona ermesi ve PID'sinin başka bir işlem tarafından yeniden kullanılması durumunda da güvenilirdir, bu nedenle psutil.pid_exists(p.pid) yapmak yerine tercih edilmelidir."
   ]
  },
  {
   "cell_type": "code",
   "execution_count": 80,
   "id": "2ef5c3d4",
   "metadata": {},
   "outputs": [
    {
     "data": {
      "text/plain": [
       "True"
      ]
     },
     "execution_count": 80,
     "metadata": {},
     "output_type": "execute_result"
    }
   ],
   "source": [
    "p.is_running()"
   ]
  },
  {
   "cell_type": "code",
   "execution_count": 81,
   "id": "44ab70c7",
   "metadata": {},
   "outputs": [],
   "source": [
    "#p.suspend() # çalışanı askıya al/suspend the task"
   ]
  },
  {
   "cell_type": "code",
   "execution_count": 82,
   "id": "e9dfe022",
   "metadata": {},
   "outputs": [],
   "source": [
    "#p.resume() # devam ettir/contunie"
   ]
  },
  {
   "cell_type": "code",
   "execution_count": 83,
   "id": "2263d4f8",
   "metadata": {},
   "outputs": [],
   "source": [
    "#p.kill() # öldür/kill"
   ]
  },
  {
   "cell_type": "code",
   "execution_count": 84,
   "id": "814e2d82",
   "metadata": {},
   "outputs": [],
   "source": [
    "#p.wait(timeout=None) # işin bitmesini bekle/wait for the job to be done"
   ]
  },
  {
   "cell_type": "markdown",
   "id": "02e512f0",
   "metadata": {},
   "source": [
    "## Windows services"
   ]
  },
  {
   "cell_type": "code",
   "execution_count": 85,
   "id": "b07b3559",
   "metadata": {},
   "outputs": [
    {
     "data": {
      "text/plain": [
       "<generator object win_service_iter at 0x0000019D7FEAAA50>"
      ]
     },
     "execution_count": 85,
     "metadata": {},
     "output_type": "execute_result"
    }
   ],
   "source": [
    "psutil.win_service_iter() #Return an iterator yielding a WindowsService class instance for all Windows services installed.\n",
    "#Yüklü tüm Windows hizmetleri için bir WindowsService sınıfı örneği veren bir yineleyici döndürün."
   ]
  },
  {
   "cell_type": "code",
   "execution_count": 86,
   "id": "055ebe45",
   "metadata": {},
   "outputs": [],
   "source": [
    "#list(psutil.win_service_iter())"
   ]
  },
  {
   "cell_type": "markdown",
   "id": "73cda304",
   "metadata": {},
   "source": [
    "Get a Windows service by name, returning a WindowsService instance. Raise psutil.NoSuchProcess if no service with such name exists.\n",
    "\n",
    "Bir Windows Hizmeti örneği döndürerek ada göre bir Windows hizmeti alın. Bu ada sahip bir hizmet yoksa psutil.NoSuchProcess'i yükseltin."
   ]
  },
  {
   "cell_type": "code",
   "execution_count": 87,
   "id": "e3bd1920",
   "metadata": {},
   "outputs": [
    {
     "data": {
      "text/plain": [
       "{'display_name': 'Uygulama Katmanı Ağ Geçidi Hizmeti',\n",
       " 'binpath': 'C:\\\\Windows\\\\System32\\\\alg.exe',\n",
       " 'username': 'NT AUTHORITY\\\\LocalService',\n",
       " 'start_type': 'manual',\n",
       " 'status': 'stopped',\n",
       " 'pid': None,\n",
       " 'name': 'alg',\n",
       " 'description': 'Internet Bağlantı Paylaşımı için üçüncü şahıs protokol eklentileri desteği sağlar'}"
      ]
     },
     "execution_count": 87,
     "metadata": {},
     "output_type": "execute_result"
    }
   ],
   "source": [
    "s = psutil.win_service_get('alg')\n",
    "s.as_dict()"
   ]
  },
  {
   "cell_type": "markdown",
   "id": "6441c018",
   "metadata": {},
   "source": [
    "Represents a Windows service with the given name. This class is returned by win_service_iter() and win_service_get() functions and it is not supposed to be instantiated directly.\n",
    "\n",
    "Verilen ada sahip bir Windows hizmetini temsil eder. Bu sınıf, win_service_iter() ve win_service_get() işlevleri tarafından döndürülür ve doğrudan örneklenmesi gerekmez."
   ]
  },
  {
   "cell_type": "code",
   "execution_count": null,
   "id": "2c0001f0",
   "metadata": {},
   "outputs": [],
   "source": []
  }
 ],
 "metadata": {
  "kernelspec": {
   "display_name": "Python 3",
   "language": "python",
   "name": "python3"
  },
  "language_info": {
   "codemirror_mode": {
    "name": "ipython",
    "version": 3
   },
   "file_extension": ".py",
   "mimetype": "text/x-python",
   "name": "python",
   "nbconvert_exporter": "python",
   "pygments_lexer": "ipython3",
   "version": "3.9.5"
  }
 },
 "nbformat": 4,
 "nbformat_minor": 5
}
