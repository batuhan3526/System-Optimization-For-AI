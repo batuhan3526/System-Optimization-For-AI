{
 "cells": [
  {
   "cell_type": "markdown",
   "id": "ad1154a7",
   "metadata": {},
   "source": [
    "# GPUtil\n",
    "\n",
    "GPU için güzel diyebileceğimiz bir küTüphane. Dökümanı aşağıdadır.\n",
    "\n",
    "* https://pythonrepo.com/repo/anderskm-gputil-python-gpu-utilities\n",
    "* https://github.com/anderskm/gputil"
   ]
  },
  {
   "cell_type": "code",
   "execution_count": 60,
   "id": "964c9406",
   "metadata": {},
   "outputs": [
    {
     "name": "stdout",
     "output_type": "stream",
     "text": [
      "| ID | GPU | MEM |\n",
      "------------------\n",
      "|  0 |  3% |  7% |\n"
     ]
    }
   ],
   "source": [
    "import GPUtil\n",
    "GPUtil.showUtilization()"
   ]
  },
  {
   "cell_type": "code",
   "execution_count": 61,
   "id": "67f8ffa1",
   "metadata": {},
   "outputs": [],
   "source": [
    "deviceIDs = GPUtil.getAvailable(order = 'first', limit = 1, maxLoad = 0.5, maxMemory = 0.5, includeNan=False, excludeID=[], excludeUUID=[])"
   ]
  },
  {
   "cell_type": "code",
   "execution_count": 62,
   "id": "1393c154",
   "metadata": {},
   "outputs": [
    {
     "data": {
      "text/plain": [
       "[0]"
      ]
     },
     "execution_count": 62,
     "metadata": {},
     "output_type": "execute_result"
    }
   ],
   "source": [
    "deviceIDs"
   ]
  },
  {
   "cell_type": "code",
   "execution_count": 63,
   "id": "8ea1a7b1",
   "metadata": {},
   "outputs": [
    {
     "name": "stdout",
     "output_type": "stream",
     "text": [
      "| ID | GPU | MEM |\n",
      "------------------\n",
      "|  0 | 11% |  7% |\n"
     ]
    }
   ],
   "source": [
    "GPUtil.showUtilization(all=False, attrList=None, useOldCode=False)"
   ]
  },
  {
   "cell_type": "code",
   "execution_count": 64,
   "id": "818799df",
   "metadata": {},
   "outputs": [
    {
     "data": {
      "text/plain": [
       "[<GPUtil.GPUtil.GPU at 0x2d60a49f760>]"
      ]
     },
     "execution_count": 64,
     "metadata": {},
     "output_type": "execute_result"
    }
   ],
   "source": [
    "GPUs = GPUtil.getGPUs()\n",
    "GPUs"
   ]
  },
  {
   "cell_type": "code",
   "execution_count": 65,
   "id": "2a8dd60a",
   "metadata": {},
   "outputs": [],
   "source": [
    "GPUavailability = GPUtil.getAvailability(GPUs, maxLoad = 0.5, maxMemory = 0.5, includeNan=False, excludeID=[], excludeUUID=[])"
   ]
  },
  {
   "cell_type": "code",
   "execution_count": 66,
   "id": "ec05ac63",
   "metadata": {},
   "outputs": [],
   "source": [
    "import GPUtil\n",
    "from threading import Thread\n",
    "import time\n",
    "\n",
    "class Monitor(Thread):\n",
    "    def __init__(self, delay):\n",
    "        super(Monitor, self).__init__()\n",
    "        self.stopped = False\n",
    "        self.delay = delay # Time between calls to GPUtil\n",
    "        self.start()\n",
    "\n",
    "    def run(self):\n",
    "        while not self.stopped:\n",
    "            GPUtil.showUtilization()\n",
    "            time.sleep(self.delay)\n",
    "\n",
    "    def stop(self):\n",
    "        self.stopped = True\n",
    "        \n",
    "# Instantiate monitor with a 10-second delay between updates\n",
    "monitor = Monitor(10)\n",
    "\n",
    "# Train, etc.\n",
    "\n",
    "# Close monitor\n",
    "#monitor.stop()"
   ]
  },
  {
   "cell_type": "markdown",
   "id": "bd46aad3",
   "metadata": {},
   "source": [
    "# Nvidia smi"
   ]
  },
  {
   "cell_type": "code",
   "execution_count": 67,
   "id": "b93889fb",
   "metadata": {},
   "outputs": [
    {
     "name": "stdout",
     "output_type": "stream",
     "text": [
      "Device 0: b'NVIDIA GeForce RTX 3090', Memory : (92.72% free): 25769803776(total), 23893786624 (free), 1876017152 (used)\n",
      "| ID | GPU | MEM |\n",
      "------------------\n",
      "|  0 | 11% |  7% |\n"
     ]
    }
   ],
   "source": [
    "import nvidia_smi # pip install nvidia_ml_py3 / pip install py3nvml / pip install nvidia_smi\n",
    "\n",
    "nvidia_smi.nvmlInit()\n",
    "\n",
    "deviceCount = nvidia_smi.nvmlDeviceGetCount()\n",
    "for i in range(deviceCount):\n",
    "    handle = nvidia_smi.nvmlDeviceGetHandleByIndex(i)\n",
    "    info = nvidia_smi.nvmlDeviceGetMemoryInfo(handle)\n",
    "    print(\"Device {}: {}, Memory : ({:.2f}% free): {}(total), {} (free), {} (used)\".format(i, nvidia_smi.nvmlDeviceGetName(handle), 100*info.free/info.total, info.total, info.free, info.used))\n",
    "\n",
    "nvidia_smi.nvmlShutdown()"
   ]
  },
  {
   "cell_type": "code",
   "execution_count": 68,
   "id": "d5ca6aa2",
   "metadata": {},
   "outputs": [
    {
     "name": "stdout",
     "output_type": "stream",
     "text": [
      "gpu: 11%, gpu-mem: 30%\n"
     ]
    }
   ],
   "source": [
    "import nvidia_smi\n",
    "\n",
    "nvidia_smi.nvmlInit()\n",
    "handle = nvidia_smi.nvmlDeviceGetHandleByIndex(0)\n",
    "# card id 0 hardcoded here, there is also a call to get all available card ids, so we could iterate\n",
    "\n",
    "res = nvidia_smi.nvmlDeviceGetUtilizationRates(handle)\n",
    "print(f'gpu: {res.gpu}%, gpu-mem: {res.memory}%')"
   ]
  },
  {
   "cell_type": "markdown",
   "id": "c4ade538",
   "metadata": {},
   "source": [
    "# py3nvml"
   ]
  },
  {
   "cell_type": "code",
   "execution_count": 69,
   "id": "8a57447d",
   "metadata": {},
   "outputs": [
    {
     "name": "stderr",
     "output_type": "stream",
     "text": [
      "c:\\users\\user\\appdata\\local\\programs\\python\\python39\\lib\\site-packages\\py3nvml\\utils.py:151: RuntimeWarning: Could not find enough GPUs for your job\n",
      "  warnings.warn(\"Could not find enough GPUs for your job\", RuntimeWarning)\n",
      "GPU 0:\tUsed Mem: 1776.546875MB\tTotal Mem: 24576.0MB\n"
     ]
    },
    {
     "data": {
      "text/plain": [
       "0"
      ]
     },
     "execution_count": 69,
     "metadata": {},
     "output_type": "execute_result"
    }
   ],
   "source": [
    "import py3nvml\n",
    "import tensorflow as tf\n",
    "py3nvml.grab_gpus(1)"
   ]
  },
  {
   "cell_type": "code",
   "execution_count": 70,
   "id": "74088a8b",
   "metadata": {},
   "outputs": [
    {
     "name": "stdout",
     "output_type": "stream",
     "text": [
      "No free gpus found\n"
     ]
    }
   ],
   "source": [
    "import py3nvml\n",
    "free_gpus = py3nvml.get_free_gpus()\n",
    "if True not in free_gpus:\n",
    "    print('No free gpus found')"
   ]
  },
  {
   "cell_type": "code",
   "execution_count": 71,
   "id": "5607d97f",
   "metadata": {},
   "outputs": [
    {
     "name": "stdout",
     "output_type": "stream",
     "text": [
      "Driver Version: 471.11\n",
      "Device 0: NVIDIA GeForce RTX 3090\n"
     ]
    }
   ],
   "source": [
    "from py3nvml.py3nvml import *\n",
    "nvmlInit()\n",
    "print(\"Driver Version: {}\".format(nvmlSystemGetDriverVersion()))\n",
    "# e.g. will print:\n",
    "#   Driver Version: 352.00\n",
    "deviceCount = nvmlDeviceGetCount()\n",
    "for i in range(deviceCount):\n",
    "    handle = nvmlDeviceGetHandleByIndex(i)\n",
    "    print(\"Device {}: {}\".format(i, nvmlDeviceGetName(handle)))\n",
    "# e.g. will print:\n",
    "#  Device 0 : Tesla K40c\n",
    "#  Device 1 : Tesla K40c\n",
    "\n",
    "nvmlShutdown()"
   ]
  },
  {
   "cell_type": "code",
   "execution_count": 72,
   "id": "0d361c31",
   "metadata": {},
   "outputs": [
    {
     "name": "stderr",
     "output_type": "stream",
     "text": [
      "c:\\users\\user\\appdata\\local\\programs\\python\\python39\\lib\\site-packages\\py3nvml\\nvidia_smi.py:208: RuntimeWarning: Warning this function is deprecated and will be removed in future releases.\n",
      "  warnings.warn(str_, RuntimeWarning)\n",
      "Warning this function is deprecated and will be removed in future releases.\n"
     ]
    },
    {
     "name": "stdout",
     "output_type": "stream",
     "text": [
      "<?xml version=\"1.0\" ?>\n",
      "<!DOCTYPE nvidia_smi_log SYSTEM \"nvsmi_device_v4.dtd\">\n",
      "<nvidia_smi_log>\n",
      "  <timestamp>2021-07-19</timestamp>\n",
      "  <driver_version>471.11</driver_version>\n",
      "  <attached_gpus>1</attached_gpus>\n",
      "  <gpu id=\"b'0000:09:00.0'\">\n",
      "    <product_name>NVIDIA GeForce RTX 3090</product_name>\n",
      "    <product_brand>GeForce</product_brand>\n",
      "    <display_mode>Enabled</display_mode>\n",
      "    <display_active>Enabled</display_active>\n",
      "    <persistence_mode>N/A</persistence_mode>\n",
      "    <accounting_mode>Disabled</accounting_mode>\n",
      "    <accounting_mode_buffer_size>4000</accounting_mode_buffer_size>\n",
      "    <driver_model>\n",
      "      <current_dm>WDDM</current_dm>\n",
      "      <pending_dm>WDDM</pending_dm>\n",
      "    </driver_model>\n",
      "    <serial>N/A</serial>\n",
      "    <uuid>GPU-13041362-7d84-b9bb-1c19-7cab4019d56a</uuid>\n",
      "    <minor_number>N/A</minor_number>\n",
      "    <vbios_version>94.02.42.00.a7</vbios_version>\n",
      "    <multigpu_board>Yes</multigpu_board>\n",
      "    <board_id>2304</board_id>\n",
      "    <inforom_version>\n",
      "      <img_version>N/A</img_version>\n",
      "      <oem_object>N/A</oem_object>\n",
      "      <ecc_object>N/A</ecc_object>\n",
      "      <pwr_object>N/A</pwr_object>\n",
      "    </inforom_version>\n",
      "    <gpu_operation_mode>\n",
      "      <current_gom>N/A</current_gom>\n",
      "      <pending_gom>N/A</pending_gom>\n",
      "    </gpu_operation_mode>\n",
      "    <pci>\n",
      "      <pci_bus>09</pci_bus>\n",
      "      <pci_device>00</pci_device>\n",
      "      <pci_domain>0000</pci_domain>\n",
      "      <pci_device_id>00002204</pci_device_id>\n",
      "      <pci_bus_id>b'0000:09:00.0'</pci_bus_id>\n",
      "      <pci_sub_system_id>22041569</pci_sub_system_id>\n",
      "      <pci_gpu_link_info>\n",
      "        <pcie_gen>\n",
      "          <max_link_gen>4</max_link_gen>\n",
      "          <current_link_gen>4</current_link_gen>\n",
      "        </pcie_gen>\n",
      "        <link_widths>\n",
      "          <max_link_width>16x</max_link_width>\n",
      "          <current_link_width>16x</current_link_width>\n",
      "        </link_widths>\n",
      "      </pci_gpu_link_info>\n",
      "      <pci_bridge_chip>\n",
      "        <bridge_chip_type>N/A</bridge_chip_type>\n",
      "        <bridge_chip_fw>N/A</bridge_chip_fw>\n",
      "      </pci_bridge_chip>\n",
      "      <replay_counter>0</replay_counter>      <tx_util>7000 KB/s</tx_util>      <rx_util>45000 KB/s</rx_util>    </pci>\n",
      "    <fan_speed>0 %</fan_speed>\n",
      "    <performance_state>P8</performance_state>\n",
      "    <clocks_throttle_reasons>\n",
      "      <clocks_throttle_reason_gpu_idle>Active</clocks_throttle_reason_gpu_idle>\n",
      "      <clocks_throttle_reason_applications_clocks_setting>Not Active</clocks_throttle_reason_applications_clocks_setting>\n",
      "      <clocks_throttle_reason_sw_power_cap>Not Active</clocks_throttle_reason_sw_power_cap>\n",
      "      <clocks_throttle_reason_hw_slowdown>Not Active</clocks_throttle_reason_hw_slowdown>\n",
      "      <clocks_throttle_reason_unknown>N/A</clocks_throttle_reason_unknown>\n",
      "    </clocks_throttle_reasons>\n",
      "    <fb_memory_usage>\n",
      "      <total>24576.0 MiB</total>\n",
      "      <used>1739.796875 MiB</used>\n",
      "      <free>22836.203125 MiB</free>\n",
      "    </fb_memory_usage>\n",
      "    <bar1_memory_usage>\n",
      "      <total>256.0 MiB</total>\n",
      "      <used>1.0 MiB</used>\n",
      "      <free>255.0 MiB</free>\n",
      "    </bar1_memory_usage>\n",
      "    <compute_mode>Default</compute_mode>\n",
      "    <utilization>\n",
      "      <gpu_util>3 %</gpu_util>\n",
      "      <memory_util>14 %</memory_util>\n",
      "      <encoder_util>0 %</encoder_util>\n",
      "      <decoder_util>0 %</decoder_util>\n",
      "    </utilization>\n",
      "    <ecc_mode>\n",
      "      <current_ecc>N/A</current_ecc>\n",
      "      <pending_ecc>N/A</pending_ecc>\n",
      "    </ecc_mode>\n",
      "    <ecc_errors>\n",
      "      <volatile>\n",
      "        <single_bit>\n",
      "          <device_memory>N/A</device_memory>\n",
      "          <register_file>N/A</register_file>\n",
      "          <l1_cache>N/A</l1_cache>\n",
      "          <l2_cache>N/A</l2_cache>\n",
      "          <texture_memory>N/A</texture_memory>\n",
      "          <total>N/A</total>\n",
      "        </single_bit>\n",
      "        <double_bit>\n",
      "          <device_memory>N/A</device_memory>\n",
      "          <register_file>N/A</register_file>\n",
      "          <l1_cache>N/A</l1_cache>\n",
      "          <l2_cache>N/A</l2_cache>\n",
      "          <texture_memory>N/A</texture_memory>\n",
      "          <total>N/A</total>\n",
      "        </double_bit>\n",
      "      </volatile>\n",
      "      <aggregate>\n",
      "        <single_bit>\n",
      "          <device_memory>N/A</device_memory>\n",
      "          <register_file>N/A</register_file>\n",
      "          <l1_cache>N/A</l1_cache>\n",
      "          <l2_cache>N/A</l2_cache>\n",
      "          <texture_memory>N/A</texture_memory>\n",
      "          <total>N/A</total>\n",
      "        </single_bit>\n",
      "        <double_bit>\n",
      "          <device_memory>N/A</device_memory>\n",
      "          <register_file>N/A</register_file>\n",
      "          <l1_cache>N/A</l1_cache>\n",
      "          <l2_cache>N/A</l2_cache>\n",
      "          <texture_memory>N/A</texture_memory>\n",
      "          <total>N/A</total>\n",
      "        </double_bit>\n",
      "      </aggregate>\n",
      "    </ecc_errors>\n",
      "    <retired_pages>\n",
      "      <multiple_single_bit_retirement>\n",
      "        <retired_count>N/A</retired_count>\n",
      "        <retired_page_addresses>N/A</retired_page_addresses>\n",
      "      </multiple_single_bit_retirement>\n",
      "      <double_bit_retirement>\n",
      "        <retired_count>N/A</retired_count>\n",
      "        <retired_page_addresses>N/A</retired_page_addresses>\n",
      "      </double_bit_retirement>\n",
      "      <pending_retirement>N/A</pending_retirement>\n",
      "    </retired_pages>\n",
      "    <temperature>\n",
      "      <gpu_temp>48 C</gpu_temp>\n",
      "      <gpu_temp_max_threshold>98 C</gpu_temp_max_threshold>\n",
      "      <gpu_temp_slow_threshold>95 C</gpu_temp_slow_threshold>\n",
      "    </temperature>\n",
      "    <power_readings>\n",
      "      <power_state>P8</power_state>\n",
      "      <power_management>Supported</power_management>\n",
      "      <power_draw>32.65 W</power_draw>\n",
      "      <power_limit>350.00 W</power_limit>\n",
      "      <default_power_limit>350.00 W</default_power_limit>\n",
      "      <enforced_power_limit>350.00 W</enforced_power_limit>\n",
      "      <min_power_limit>100.00 W</min_power_limit>\n",
      "      <max_power_limit>365.00 W</max_power_limit>\n",
      "    </power_readings>\n",
      "    <clocks>\n",
      "      <graphics_clock>110 MHz</graphics_clock>\n",
      "      <sm_clock>110 MHz</sm_clock>\n",
      "      <mem_clock>208 MHz</mem_clock>\n",
      "    </clocks>\n",
      "    <applications_clocks>\n",
      "      <graphics_clock>N/A</graphics_clock>\n",
      "      <mem_clock>N/A</mem_clock>\n",
      "    </applications_clocks>\n",
      "    <default_applications_clocks>\n",
      "      <graphics_clock>N/A</graphics_clock>\n",
      "      <mem_clock>N/A</mem_clock>\n",
      "    </default_applications_clocks>\n",
      "    <max_clocks>\n",
      "      <graphics_clock>2100 MHz</graphics_clock>\n",
      "      <sm_clock>2100 MHz</sm_clock>\n",
      "      <mem_clock>9751 MHz</mem_clock>\n",
      "    </max_clocks>\n",
      "    <clock_policy>\n",
      "      <auto_boost>N/A</auto_boost>\n",
      "      <auto_boost_default>N/A</auto_boost_default>\n",
      "    </clock_policy>\n",
      "    <supported_clocks>\n",
      "      <supported_mem_clock>\n",
      "        <value>9751 MHz</value>\n",
      "        <supported_graphics_clock>2100 MHz</supported_graphics_clock>\n",
      "        <supported_graphics_clock>2085 MHz</supported_graphics_clock>\n",
      "        <supported_graphics_clock>2070 MHz</supported_graphics_clock>\n",
      "        <supported_graphics_clock>2055 MHz</supported_graphics_clock>\n",
      "        <supported_graphics_clock>2040 MHz</supported_graphics_clock>\n",
      "        <supported_graphics_clock>2025 MHz</supported_graphics_clock>\n",
      "        <supported_graphics_clock>2010 MHz</supported_graphics_clock>\n",
      "        <supported_graphics_clock>1995 MHz</supported_graphics_clock>\n",
      "        <supported_graphics_clock>1980 MHz</supported_graphics_clock>\n",
      "        <supported_graphics_clock>1965 MHz</supported_graphics_clock>\n",
      "        <supported_graphics_clock>1950 MHz</supported_graphics_clock>\n",
      "        <supported_graphics_clock>1935 MHz</supported_graphics_clock>\n",
      "        <supported_graphics_clock>1920 MHz</supported_graphics_clock>\n",
      "        <supported_graphics_clock>1905 MHz</supported_graphics_clock>\n",
      "        <supported_graphics_clock>1890 MHz</supported_graphics_clock>\n",
      "        <supported_graphics_clock>1875 MHz</supported_graphics_clock>\n",
      "        <supported_graphics_clock>1860 MHz</supported_graphics_clock>\n",
      "        <supported_graphics_clock>1845 MHz</supported_graphics_clock>\n",
      "        <supported_graphics_clock>1830 MHz</supported_graphics_clock>\n",
      "        <supported_graphics_clock>1815 MHz</supported_graphics_clock>\n",
      "        <supported_graphics_clock>1800 MHz</supported_graphics_clock>\n",
      "        <supported_graphics_clock>1785 MHz</supported_graphics_clock>\n",
      "        <supported_graphics_clock>1770 MHz</supported_graphics_clock>\n",
      "        <supported_graphics_clock>1755 MHz</supported_graphics_clock>\n",
      "        <supported_graphics_clock>1740 MHz</supported_graphics_clock>\n",
      "        <supported_graphics_clock>1725 MHz</supported_graphics_clock>\n",
      "        <supported_graphics_clock>1710 MHz</supported_graphics_clock>\n",
      "        <supported_graphics_clock>1695 MHz</supported_graphics_clock>\n",
      "        <supported_graphics_clock>1680 MHz</supported_graphics_clock>\n",
      "        <supported_graphics_clock>1665 MHz</supported_graphics_clock>\n",
      "        <supported_graphics_clock>1650 MHz</supported_graphics_clock>\n",
      "        <supported_graphics_clock>1635 MHz</supported_graphics_clock>\n",
      "        <supported_graphics_clock>1620 MHz</supported_graphics_clock>\n",
      "        <supported_graphics_clock>1605 MHz</supported_graphics_clock>\n",
      "        <supported_graphics_clock>1590 MHz</supported_graphics_clock>\n",
      "        <supported_graphics_clock>1575 MHz</supported_graphics_clock>\n",
      "        <supported_graphics_clock>1560 MHz</supported_graphics_clock>\n",
      "        <supported_graphics_clock>1545 MHz</supported_graphics_clock>\n",
      "        <supported_graphics_clock>1530 MHz</supported_graphics_clock>\n",
      "        <supported_graphics_clock>1515 MHz</supported_graphics_clock>\n",
      "        <supported_graphics_clock>1500 MHz</supported_graphics_clock>\n",
      "        <supported_graphics_clock>1485 MHz</supported_graphics_clock>\n",
      "        <supported_graphics_clock>1470 MHz</supported_graphics_clock>\n",
      "        <supported_graphics_clock>1455 MHz</supported_graphics_clock>\n",
      "        <supported_graphics_clock>1440 MHz</supported_graphics_clock>\n",
      "        <supported_graphics_clock>1425 MHz</supported_graphics_clock>\n",
      "        <supported_graphics_clock>1410 MHz</supported_graphics_clock>\n",
      "        <supported_graphics_clock>1395 MHz</supported_graphics_clock>\n",
      "        <supported_graphics_clock>1380 MHz</supported_graphics_clock>\n",
      "        <supported_graphics_clock>1365 MHz</supported_graphics_clock>\n",
      "        <supported_graphics_clock>1350 MHz</supported_graphics_clock>\n",
      "        <supported_graphics_clock>1335 MHz</supported_graphics_clock>\n",
      "        <supported_graphics_clock>1320 MHz</supported_graphics_clock>\n",
      "        <supported_graphics_clock>1305 MHz</supported_graphics_clock>\n",
      "        <supported_graphics_clock>1290 MHz</supported_graphics_clock>\n",
      "        <supported_graphics_clock>1275 MHz</supported_graphics_clock>\n",
      "        <supported_graphics_clock>1260 MHz</supported_graphics_clock>\n",
      "        <supported_graphics_clock>1245 MHz</supported_graphics_clock>\n",
      "        <supported_graphics_clock>1230 MHz</supported_graphics_clock>\n",
      "        <supported_graphics_clock>1215 MHz</supported_graphics_clock>\n",
      "        <supported_graphics_clock>1200 MHz</supported_graphics_clock>\n",
      "        <supported_graphics_clock>1185 MHz</supported_graphics_clock>\n",
      "        <supported_graphics_clock>1170 MHz</supported_graphics_clock>\n",
      "        <supported_graphics_clock>1155 MHz</supported_graphics_clock>\n",
      "        <supported_graphics_clock>1140 MHz</supported_graphics_clock>\n",
      "        <supported_graphics_clock>1125 MHz</supported_graphics_clock>\n",
      "        <supported_graphics_clock>1110 MHz</supported_graphics_clock>\n",
      "        <supported_graphics_clock>1095 MHz</supported_graphics_clock>\n",
      "        <supported_graphics_clock>1080 MHz</supported_graphics_clock>\n",
      "        <supported_graphics_clock>1065 MHz</supported_graphics_clock>\n",
      "        <supported_graphics_clock>1050 MHz</supported_graphics_clock>\n",
      "        <supported_graphics_clock>1035 MHz</supported_graphics_clock>\n",
      "        <supported_graphics_clock>1020 MHz</supported_graphics_clock>\n",
      "        <supported_graphics_clock>1005 MHz</supported_graphics_clock>\n",
      "        <supported_graphics_clock>990 MHz</supported_graphics_clock>\n",
      "        <supported_graphics_clock>975 MHz</supported_graphics_clock>\n",
      "        <supported_graphics_clock>960 MHz</supported_graphics_clock>\n",
      "        <supported_graphics_clock>945 MHz</supported_graphics_clock>\n",
      "        <supported_graphics_clock>930 MHz</supported_graphics_clock>\n",
      "        <supported_graphics_clock>915 MHz</supported_graphics_clock>\n",
      "        <supported_graphics_clock>900 MHz</supported_graphics_clock>\n",
      "        <supported_graphics_clock>885 MHz</supported_graphics_clock>\n",
      "        <supported_graphics_clock>870 MHz</supported_graphics_clock>\n",
      "        <supported_graphics_clock>855 MHz</supported_graphics_clock>\n",
      "        <supported_graphics_clock>840 MHz</supported_graphics_clock>\n",
      "        <supported_graphics_clock>825 MHz</supported_graphics_clock>\n",
      "        <supported_graphics_clock>810 MHz</supported_graphics_clock>\n",
      "        <supported_graphics_clock>795 MHz</supported_graphics_clock>\n",
      "        <supported_graphics_clock>780 MHz</supported_graphics_clock>\n",
      "        <supported_graphics_clock>765 MHz</supported_graphics_clock>\n",
      "        <supported_graphics_clock>750 MHz</supported_graphics_clock>\n",
      "        <supported_graphics_clock>735 MHz</supported_graphics_clock>\n",
      "        <supported_graphics_clock>720 MHz</supported_graphics_clock>\n",
      "        <supported_graphics_clock>705 MHz</supported_graphics_clock>\n",
      "        <supported_graphics_clock>690 MHz</supported_graphics_clock>\n",
      "        <supported_graphics_clock>675 MHz</supported_graphics_clock>\n",
      "        <supported_graphics_clock>660 MHz</supported_graphics_clock>\n",
      "        <supported_graphics_clock>645 MHz</supported_graphics_clock>\n",
      "        <supported_graphics_clock>630 MHz</supported_graphics_clock>\n",
      "        <supported_graphics_clock>615 MHz</supported_graphics_clock>\n",
      "        <supported_graphics_clock>600 MHz</supported_graphics_clock>\n",
      "        <supported_graphics_clock>585 MHz</supported_graphics_clock>\n",
      "        <supported_graphics_clock>570 MHz</supported_graphics_clock>\n",
      "        <supported_graphics_clock>555 MHz</supported_graphics_clock>\n",
      "        <supported_graphics_clock>540 MHz</supported_graphics_clock>\n",
      "        <supported_graphics_clock>525 MHz</supported_graphics_clock>\n",
      "        <supported_graphics_clock>510 MHz</supported_graphics_clock>\n",
      "        <supported_graphics_clock>495 MHz</supported_graphics_clock>\n",
      "        <supported_graphics_clock>480 MHz</supported_graphics_clock>\n",
      "        <supported_graphics_clock>465 MHz</supported_graphics_clock>\n",
      "        <supported_graphics_clock>450 MHz</supported_graphics_clock>\n",
      "        <supported_graphics_clock>435 MHz</supported_graphics_clock>\n",
      "        <supported_graphics_clock>420 MHz</supported_graphics_clock>\n",
      "        <supported_graphics_clock>405 MHz</supported_graphics_clock>\n",
      "        <supported_graphics_clock>390 MHz</supported_graphics_clock>\n",
      "        <supported_graphics_clock>375 MHz</supported_graphics_clock>\n",
      "        <supported_graphics_clock>360 MHz</supported_graphics_clock>\n",
      "        <supported_graphics_clock>345 MHz</supported_graphics_clock>\n",
      "        <supported_graphics_clock>330 MHz</supported_graphics_clock>\n",
      "        <supported_graphics_clock>315 MHz</supported_graphics_clock>\n",
      "        <supported_graphics_clock>300 MHz</supported_graphics_clock>\n",
      "        <supported_graphics_clock>285 MHz</supported_graphics_clock>\n",
      "        <supported_graphics_clock>270 MHz</supported_graphics_clock>\n",
      "        <supported_graphics_clock>255 MHz</supported_graphics_clock>\n",
      "        <supported_graphics_clock>240 MHz</supported_graphics_clock>\n",
      "        <supported_graphics_clock>225 MHz</supported_graphics_clock>\n",
      "        <supported_graphics_clock>210 MHz</supported_graphics_clock>\n",
      "      </supported_mem_clock>\n",
      "      <supported_mem_clock>\n",
      "        <value>9501 MHz</value>\n",
      "        <supported_graphics_clock>2100 MHz</supported_graphics_clock>\n",
      "        <supported_graphics_clock>2085 MHz</supported_graphics_clock>\n",
      "        <supported_graphics_clock>2070 MHz</supported_graphics_clock>\n",
      "        <supported_graphics_clock>2055 MHz</supported_graphics_clock>\n",
      "        <supported_graphics_clock>2040 MHz</supported_graphics_clock>\n",
      "        <supported_graphics_clock>2025 MHz</supported_graphics_clock>\n",
      "        <supported_graphics_clock>2010 MHz</supported_graphics_clock>\n",
      "        <supported_graphics_clock>1995 MHz</supported_graphics_clock>\n",
      "        <supported_graphics_clock>1980 MHz</supported_graphics_clock>\n",
      "        <supported_graphics_clock>1965 MHz</supported_graphics_clock>\n",
      "        <supported_graphics_clock>1950 MHz</supported_graphics_clock>\n",
      "        <supported_graphics_clock>1935 MHz</supported_graphics_clock>\n",
      "        <supported_graphics_clock>1920 MHz</supported_graphics_clock>\n",
      "        <supported_graphics_clock>1905 MHz</supported_graphics_clock>\n",
      "        <supported_graphics_clock>1890 MHz</supported_graphics_clock>\n",
      "        <supported_graphics_clock>1875 MHz</supported_graphics_clock>\n",
      "        <supported_graphics_clock>1860 MHz</supported_graphics_clock>\n",
      "        <supported_graphics_clock>1845 MHz</supported_graphics_clock>\n",
      "        <supported_graphics_clock>1830 MHz</supported_graphics_clock>\n",
      "        <supported_graphics_clock>1815 MHz</supported_graphics_clock>\n",
      "        <supported_graphics_clock>1800 MHz</supported_graphics_clock>\n",
      "        <supported_graphics_clock>1785 MHz</supported_graphics_clock>\n",
      "        <supported_graphics_clock>1770 MHz</supported_graphics_clock>\n",
      "        <supported_graphics_clock>1755 MHz</supported_graphics_clock>\n",
      "        <supported_graphics_clock>1740 MHz</supported_graphics_clock>\n",
      "        <supported_graphics_clock>1725 MHz</supported_graphics_clock>\n",
      "        <supported_graphics_clock>1710 MHz</supported_graphics_clock>\n",
      "        <supported_graphics_clock>1695 MHz</supported_graphics_clock>\n",
      "        <supported_graphics_clock>1680 MHz</supported_graphics_clock>\n",
      "        <supported_graphics_clock>1665 MHz</supported_graphics_clock>\n",
      "        <supported_graphics_clock>1650 MHz</supported_graphics_clock>\n",
      "        <supported_graphics_clock>1635 MHz</supported_graphics_clock>\n",
      "        <supported_graphics_clock>1620 MHz</supported_graphics_clock>\n",
      "        <supported_graphics_clock>1605 MHz</supported_graphics_clock>\n",
      "        <supported_graphics_clock>1590 MHz</supported_graphics_clock>\n",
      "        <supported_graphics_clock>1575 MHz</supported_graphics_clock>\n",
      "        <supported_graphics_clock>1560 MHz</supported_graphics_clock>\n",
      "        <supported_graphics_clock>1545 MHz</supported_graphics_clock>\n",
      "        <supported_graphics_clock>1530 MHz</supported_graphics_clock>\n",
      "        <supported_graphics_clock>1515 MHz</supported_graphics_clock>\n",
      "        <supported_graphics_clock>1500 MHz</supported_graphics_clock>\n",
      "        <supported_graphics_clock>1485 MHz</supported_graphics_clock>\n",
      "        <supported_graphics_clock>1470 MHz</supported_graphics_clock>\n",
      "        <supported_graphics_clock>1455 MHz</supported_graphics_clock>\n",
      "        <supported_graphics_clock>1440 MHz</supported_graphics_clock>\n",
      "        <supported_graphics_clock>1425 MHz</supported_graphics_clock>\n",
      "        <supported_graphics_clock>1410 MHz</supported_graphics_clock>\n",
      "        <supported_graphics_clock>1395 MHz</supported_graphics_clock>\n",
      "        <supported_graphics_clock>1380 MHz</supported_graphics_clock>\n",
      "        <supported_graphics_clock>1365 MHz</supported_graphics_clock>\n",
      "        <supported_graphics_clock>1350 MHz</supported_graphics_clock>\n",
      "        <supported_graphics_clock>1335 MHz</supported_graphics_clock>\n",
      "        <supported_graphics_clock>1320 MHz</supported_graphics_clock>\n",
      "        <supported_graphics_clock>1305 MHz</supported_graphics_clock>\n",
      "        <supported_graphics_clock>1290 MHz</supported_graphics_clock>\n",
      "        <supported_graphics_clock>1275 MHz</supported_graphics_clock>\n",
      "        <supported_graphics_clock>1260 MHz</supported_graphics_clock>\n",
      "        <supported_graphics_clock>1245 MHz</supported_graphics_clock>\n",
      "        <supported_graphics_clock>1230 MHz</supported_graphics_clock>\n",
      "        <supported_graphics_clock>1215 MHz</supported_graphics_clock>\n",
      "        <supported_graphics_clock>1200 MHz</supported_graphics_clock>\n",
      "        <supported_graphics_clock>1185 MHz</supported_graphics_clock>\n",
      "        <supported_graphics_clock>1170 MHz</supported_graphics_clock>\n",
      "        <supported_graphics_clock>1155 MHz</supported_graphics_clock>\n",
      "        <supported_graphics_clock>1140 MHz</supported_graphics_clock>\n",
      "        <supported_graphics_clock>1125 MHz</supported_graphics_clock>\n",
      "        <supported_graphics_clock>1110 MHz</supported_graphics_clock>\n",
      "        <supported_graphics_clock>1095 MHz</supported_graphics_clock>\n",
      "        <supported_graphics_clock>1080 MHz</supported_graphics_clock>\n",
      "        <supported_graphics_clock>1065 MHz</supported_graphics_clock>\n",
      "        <supported_graphics_clock>1050 MHz</supported_graphics_clock>\n",
      "        <supported_graphics_clock>1035 MHz</supported_graphics_clock>\n",
      "        <supported_graphics_clock>1020 MHz</supported_graphics_clock>\n",
      "        <supported_graphics_clock>1005 MHz</supported_graphics_clock>\n",
      "        <supported_graphics_clock>990 MHz</supported_graphics_clock>\n",
      "        <supported_graphics_clock>975 MHz</supported_graphics_clock>\n",
      "        <supported_graphics_clock>960 MHz</supported_graphics_clock>\n",
      "        <supported_graphics_clock>945 MHz</supported_graphics_clock>\n",
      "        <supported_graphics_clock>930 MHz</supported_graphics_clock>\n",
      "        <supported_graphics_clock>915 MHz</supported_graphics_clock>\n",
      "        <supported_graphics_clock>900 MHz</supported_graphics_clock>\n",
      "        <supported_graphics_clock>885 MHz</supported_graphics_clock>\n",
      "        <supported_graphics_clock>870 MHz</supported_graphics_clock>\n",
      "        <supported_graphics_clock>855 MHz</supported_graphics_clock>\n",
      "        <supported_graphics_clock>840 MHz</supported_graphics_clock>\n",
      "        <supported_graphics_clock>825 MHz</supported_graphics_clock>\n",
      "        <supported_graphics_clock>810 MHz</supported_graphics_clock>\n",
      "        <supported_graphics_clock>795 MHz</supported_graphics_clock>\n",
      "        <supported_graphics_clock>780 MHz</supported_graphics_clock>\n",
      "        <supported_graphics_clock>765 MHz</supported_graphics_clock>\n",
      "        <supported_graphics_clock>750 MHz</supported_graphics_clock>\n",
      "        <supported_graphics_clock>735 MHz</supported_graphics_clock>\n",
      "        <supported_graphics_clock>720 MHz</supported_graphics_clock>\n",
      "        <supported_graphics_clock>705 MHz</supported_graphics_clock>\n",
      "        <supported_graphics_clock>690 MHz</supported_graphics_clock>\n",
      "        <supported_graphics_clock>675 MHz</supported_graphics_clock>\n",
      "        <supported_graphics_clock>660 MHz</supported_graphics_clock>\n",
      "        <supported_graphics_clock>645 MHz</supported_graphics_clock>\n",
      "        <supported_graphics_clock>630 MHz</supported_graphics_clock>\n",
      "        <supported_graphics_clock>615 MHz</supported_graphics_clock>\n",
      "        <supported_graphics_clock>600 MHz</supported_graphics_clock>\n",
      "        <supported_graphics_clock>585 MHz</supported_graphics_clock>\n",
      "        <supported_graphics_clock>570 MHz</supported_graphics_clock>\n",
      "        <supported_graphics_clock>555 MHz</supported_graphics_clock>\n",
      "        <supported_graphics_clock>540 MHz</supported_graphics_clock>\n",
      "        <supported_graphics_clock>525 MHz</supported_graphics_clock>\n",
      "        <supported_graphics_clock>510 MHz</supported_graphics_clock>\n",
      "        <supported_graphics_clock>495 MHz</supported_graphics_clock>\n",
      "        <supported_graphics_clock>480 MHz</supported_graphics_clock>\n",
      "        <supported_graphics_clock>465 MHz</supported_graphics_clock>\n",
      "        <supported_graphics_clock>450 MHz</supported_graphics_clock>\n",
      "        <supported_graphics_clock>435 MHz</supported_graphics_clock>\n",
      "        <supported_graphics_clock>420 MHz</supported_graphics_clock>\n",
      "        <supported_graphics_clock>405 MHz</supported_graphics_clock>\n",
      "        <supported_graphics_clock>390 MHz</supported_graphics_clock>\n",
      "        <supported_graphics_clock>375 MHz</supported_graphics_clock>\n",
      "        <supported_graphics_clock>360 MHz</supported_graphics_clock>\n",
      "        <supported_graphics_clock>345 MHz</supported_graphics_clock>\n",
      "        <supported_graphics_clock>330 MHz</supported_graphics_clock>\n",
      "        <supported_graphics_clock>315 MHz</supported_graphics_clock>\n",
      "        <supported_graphics_clock>300 MHz</supported_graphics_clock>\n",
      "        <supported_graphics_clock>285 MHz</supported_graphics_clock>\n",
      "        <supported_graphics_clock>270 MHz</supported_graphics_clock>\n",
      "        <supported_graphics_clock>255 MHz</supported_graphics_clock>\n",
      "        <supported_graphics_clock>240 MHz</supported_graphics_clock>\n",
      "        <supported_graphics_clock>225 MHz</supported_graphics_clock>\n",
      "        <supported_graphics_clock>210 MHz</supported_graphics_clock>\n",
      "      </supported_mem_clock>\n",
      "      <supported_mem_clock>\n",
      "        <value>5001 MHz</value>\n",
      "        <supported_graphics_clock>2100 MHz</supported_graphics_clock>\n",
      "        <supported_graphics_clock>2085 MHz</supported_graphics_clock>\n",
      "        <supported_graphics_clock>2070 MHz</supported_graphics_clock>\n",
      "        <supported_graphics_clock>2055 MHz</supported_graphics_clock>\n",
      "        <supported_graphics_clock>2040 MHz</supported_graphics_clock>\n",
      "        <supported_graphics_clock>2025 MHz</supported_graphics_clock>\n",
      "        <supported_graphics_clock>2010 MHz</supported_graphics_clock>\n",
      "        <supported_graphics_clock>1995 MHz</supported_graphics_clock>\n",
      "        <supported_graphics_clock>1980 MHz</supported_graphics_clock>\n",
      "        <supported_graphics_clock>1965 MHz</supported_graphics_clock>\n",
      "        <supported_graphics_clock>1950 MHz</supported_graphics_clock>\n",
      "        <supported_graphics_clock>1935 MHz</supported_graphics_clock>\n",
      "        <supported_graphics_clock>1920 MHz</supported_graphics_clock>\n",
      "        <supported_graphics_clock>1905 MHz</supported_graphics_clock>\n",
      "        <supported_graphics_clock>1890 MHz</supported_graphics_clock>\n",
      "        <supported_graphics_clock>1875 MHz</supported_graphics_clock>\n",
      "        <supported_graphics_clock>1860 MHz</supported_graphics_clock>\n",
      "        <supported_graphics_clock>1845 MHz</supported_graphics_clock>\n",
      "        <supported_graphics_clock>1830 MHz</supported_graphics_clock>\n",
      "        <supported_graphics_clock>1815 MHz</supported_graphics_clock>\n",
      "        <supported_graphics_clock>1800 MHz</supported_graphics_clock>\n",
      "        <supported_graphics_clock>1785 MHz</supported_graphics_clock>\n",
      "        <supported_graphics_clock>1770 MHz</supported_graphics_clock>\n",
      "        <supported_graphics_clock>1755 MHz</supported_graphics_clock>\n",
      "        <supported_graphics_clock>1740 MHz</supported_graphics_clock>\n",
      "        <supported_graphics_clock>1725 MHz</supported_graphics_clock>\n",
      "        <supported_graphics_clock>1710 MHz</supported_graphics_clock>\n",
      "        <supported_graphics_clock>1695 MHz</supported_graphics_clock>\n",
      "        <supported_graphics_clock>1680 MHz</supported_graphics_clock>\n",
      "        <supported_graphics_clock>1665 MHz</supported_graphics_clock>\n",
      "        <supported_graphics_clock>1650 MHz</supported_graphics_clock>\n",
      "        <supported_graphics_clock>1635 MHz</supported_graphics_clock>\n",
      "        <supported_graphics_clock>1620 MHz</supported_graphics_clock>\n",
      "        <supported_graphics_clock>1605 MHz</supported_graphics_clock>\n",
      "        <supported_graphics_clock>1590 MHz</supported_graphics_clock>\n",
      "        <supported_graphics_clock>1575 MHz</supported_graphics_clock>\n",
      "        <supported_graphics_clock>1560 MHz</supported_graphics_clock>\n",
      "        <supported_graphics_clock>1545 MHz</supported_graphics_clock>\n",
      "        <supported_graphics_clock>1530 MHz</supported_graphics_clock>\n",
      "        <supported_graphics_clock>1515 MHz</supported_graphics_clock>\n",
      "        <supported_graphics_clock>1500 MHz</supported_graphics_clock>\n",
      "        <supported_graphics_clock>1485 MHz</supported_graphics_clock>\n",
      "        <supported_graphics_clock>1470 MHz</supported_graphics_clock>\n",
      "        <supported_graphics_clock>1455 MHz</supported_graphics_clock>\n",
      "        <supported_graphics_clock>1440 MHz</supported_graphics_clock>\n",
      "        <supported_graphics_clock>1425 MHz</supported_graphics_clock>\n",
      "        <supported_graphics_clock>1410 MHz</supported_graphics_clock>\n",
      "        <supported_graphics_clock>1395 MHz</supported_graphics_clock>\n",
      "        <supported_graphics_clock>1380 MHz</supported_graphics_clock>\n",
      "        <supported_graphics_clock>1365 MHz</supported_graphics_clock>\n",
      "        <supported_graphics_clock>1350 MHz</supported_graphics_clock>\n",
      "        <supported_graphics_clock>1335 MHz</supported_graphics_clock>\n",
      "        <supported_graphics_clock>1320 MHz</supported_graphics_clock>\n",
      "        <supported_graphics_clock>1305 MHz</supported_graphics_clock>\n",
      "        <supported_graphics_clock>1290 MHz</supported_graphics_clock>\n",
      "        <supported_graphics_clock>1275 MHz</supported_graphics_clock>\n",
      "        <supported_graphics_clock>1260 MHz</supported_graphics_clock>\n",
      "        <supported_graphics_clock>1245 MHz</supported_graphics_clock>\n",
      "        <supported_graphics_clock>1230 MHz</supported_graphics_clock>\n",
      "        <supported_graphics_clock>1215 MHz</supported_graphics_clock>\n",
      "        <supported_graphics_clock>1200 MHz</supported_graphics_clock>\n",
      "        <supported_graphics_clock>1185 MHz</supported_graphics_clock>\n",
      "        <supported_graphics_clock>1170 MHz</supported_graphics_clock>\n",
      "        <supported_graphics_clock>1155 MHz</supported_graphics_clock>\n",
      "        <supported_graphics_clock>1140 MHz</supported_graphics_clock>\n",
      "        <supported_graphics_clock>1125 MHz</supported_graphics_clock>\n",
      "        <supported_graphics_clock>1110 MHz</supported_graphics_clock>\n",
      "        <supported_graphics_clock>1095 MHz</supported_graphics_clock>\n",
      "        <supported_graphics_clock>1080 MHz</supported_graphics_clock>\n",
      "        <supported_graphics_clock>1065 MHz</supported_graphics_clock>\n",
      "        <supported_graphics_clock>1050 MHz</supported_graphics_clock>\n",
      "        <supported_graphics_clock>1035 MHz</supported_graphics_clock>\n",
      "        <supported_graphics_clock>1020 MHz</supported_graphics_clock>\n",
      "        <supported_graphics_clock>1005 MHz</supported_graphics_clock>\n",
      "        <supported_graphics_clock>990 MHz</supported_graphics_clock>\n",
      "        <supported_graphics_clock>975 MHz</supported_graphics_clock>\n",
      "        <supported_graphics_clock>960 MHz</supported_graphics_clock>\n",
      "        <supported_graphics_clock>945 MHz</supported_graphics_clock>\n",
      "        <supported_graphics_clock>930 MHz</supported_graphics_clock>\n",
      "        <supported_graphics_clock>915 MHz</supported_graphics_clock>\n",
      "        <supported_graphics_clock>900 MHz</supported_graphics_clock>\n",
      "        <supported_graphics_clock>885 MHz</supported_graphics_clock>\n",
      "        <supported_graphics_clock>870 MHz</supported_graphics_clock>\n",
      "        <supported_graphics_clock>855 MHz</supported_graphics_clock>\n",
      "        <supported_graphics_clock>840 MHz</supported_graphics_clock>\n",
      "        <supported_graphics_clock>825 MHz</supported_graphics_clock>\n",
      "        <supported_graphics_clock>810 MHz</supported_graphics_clock>\n",
      "        <supported_graphics_clock>795 MHz</supported_graphics_clock>\n",
      "        <supported_graphics_clock>780 MHz</supported_graphics_clock>\n",
      "        <supported_graphics_clock>765 MHz</supported_graphics_clock>\n",
      "        <supported_graphics_clock>750 MHz</supported_graphics_clock>\n",
      "        <supported_graphics_clock>735 MHz</supported_graphics_clock>\n",
      "        <supported_graphics_clock>720 MHz</supported_graphics_clock>\n",
      "        <supported_graphics_clock>705 MHz</supported_graphics_clock>\n",
      "        <supported_graphics_clock>690 MHz</supported_graphics_clock>\n",
      "        <supported_graphics_clock>675 MHz</supported_graphics_clock>\n",
      "        <supported_graphics_clock>660 MHz</supported_graphics_clock>\n",
      "        <supported_graphics_clock>645 MHz</supported_graphics_clock>\n",
      "        <supported_graphics_clock>630 MHz</supported_graphics_clock>\n",
      "        <supported_graphics_clock>615 MHz</supported_graphics_clock>\n",
      "        <supported_graphics_clock>600 MHz</supported_graphics_clock>\n",
      "        <supported_graphics_clock>585 MHz</supported_graphics_clock>\n",
      "        <supported_graphics_clock>570 MHz</supported_graphics_clock>\n",
      "        <supported_graphics_clock>555 MHz</supported_graphics_clock>\n",
      "        <supported_graphics_clock>540 MHz</supported_graphics_clock>\n",
      "        <supported_graphics_clock>525 MHz</supported_graphics_clock>\n",
      "        <supported_graphics_clock>510 MHz</supported_graphics_clock>\n",
      "        <supported_graphics_clock>495 MHz</supported_graphics_clock>\n",
      "        <supported_graphics_clock>480 MHz</supported_graphics_clock>\n",
      "        <supported_graphics_clock>465 MHz</supported_graphics_clock>\n",
      "        <supported_graphics_clock>450 MHz</supported_graphics_clock>\n",
      "        <supported_graphics_clock>435 MHz</supported_graphics_clock>\n",
      "        <supported_graphics_clock>420 MHz</supported_graphics_clock>\n",
      "        <supported_graphics_clock>405 MHz</supported_graphics_clock>\n",
      "        <supported_graphics_clock>390 MHz</supported_graphics_clock>\n",
      "        <supported_graphics_clock>375 MHz</supported_graphics_clock>\n",
      "        <supported_graphics_clock>360 MHz</supported_graphics_clock>\n",
      "        <supported_graphics_clock>345 MHz</supported_graphics_clock>\n",
      "        <supported_graphics_clock>330 MHz</supported_graphics_clock>\n",
      "        <supported_graphics_clock>315 MHz</supported_graphics_clock>\n",
      "        <supported_graphics_clock>300 MHz</supported_graphics_clock>\n",
      "        <supported_graphics_clock>285 MHz</supported_graphics_clock>\n",
      "        <supported_graphics_clock>270 MHz</supported_graphics_clock>\n",
      "        <supported_graphics_clock>255 MHz</supported_graphics_clock>\n",
      "        <supported_graphics_clock>240 MHz</supported_graphics_clock>\n",
      "        <supported_graphics_clock>225 MHz</supported_graphics_clock>\n",
      "        <supported_graphics_clock>210 MHz</supported_graphics_clock>\n",
      "      </supported_mem_clock>\n",
      "      <supported_mem_clock>\n",
      "        <value>810 MHz</value>\n",
      "        <supported_graphics_clock>2100 MHz</supported_graphics_clock>\n",
      "        <supported_graphics_clock>2085 MHz</supported_graphics_clock>\n",
      "        <supported_graphics_clock>2070 MHz</supported_graphics_clock>\n",
      "        <supported_graphics_clock>2055 MHz</supported_graphics_clock>\n",
      "        <supported_graphics_clock>2040 MHz</supported_graphics_clock>\n",
      "        <supported_graphics_clock>2025 MHz</supported_graphics_clock>\n",
      "        <supported_graphics_clock>2010 MHz</supported_graphics_clock>\n",
      "        <supported_graphics_clock>1995 MHz</supported_graphics_clock>\n",
      "        <supported_graphics_clock>1980 MHz</supported_graphics_clock>\n",
      "        <supported_graphics_clock>1965 MHz</supported_graphics_clock>\n",
      "        <supported_graphics_clock>1950 MHz</supported_graphics_clock>\n",
      "        <supported_graphics_clock>1935 MHz</supported_graphics_clock>\n",
      "        <supported_graphics_clock>1920 MHz</supported_graphics_clock>\n",
      "        <supported_graphics_clock>1905 MHz</supported_graphics_clock>\n",
      "        <supported_graphics_clock>1890 MHz</supported_graphics_clock>\n",
      "        <supported_graphics_clock>1875 MHz</supported_graphics_clock>\n",
      "        <supported_graphics_clock>1860 MHz</supported_graphics_clock>\n",
      "        <supported_graphics_clock>1845 MHz</supported_graphics_clock>\n",
      "        <supported_graphics_clock>1830 MHz</supported_graphics_clock>\n",
      "        <supported_graphics_clock>1815 MHz</supported_graphics_clock>\n",
      "        <supported_graphics_clock>1800 MHz</supported_graphics_clock>\n",
      "        <supported_graphics_clock>1785 MHz</supported_graphics_clock>\n",
      "        <supported_graphics_clock>1770 MHz</supported_graphics_clock>\n",
      "        <supported_graphics_clock>1755 MHz</supported_graphics_clock>\n",
      "        <supported_graphics_clock>1740 MHz</supported_graphics_clock>\n",
      "        <supported_graphics_clock>1725 MHz</supported_graphics_clock>\n",
      "        <supported_graphics_clock>1710 MHz</supported_graphics_clock>\n",
      "        <supported_graphics_clock>1695 MHz</supported_graphics_clock>\n",
      "        <supported_graphics_clock>1680 MHz</supported_graphics_clock>\n",
      "        <supported_graphics_clock>1665 MHz</supported_graphics_clock>\n",
      "        <supported_graphics_clock>1650 MHz</supported_graphics_clock>\n",
      "        <supported_graphics_clock>1635 MHz</supported_graphics_clock>\n",
      "        <supported_graphics_clock>1620 MHz</supported_graphics_clock>\n",
      "        <supported_graphics_clock>1605 MHz</supported_graphics_clock>\n",
      "        <supported_graphics_clock>1590 MHz</supported_graphics_clock>\n",
      "        <supported_graphics_clock>1575 MHz</supported_graphics_clock>\n",
      "        <supported_graphics_clock>1560 MHz</supported_graphics_clock>\n",
      "        <supported_graphics_clock>1545 MHz</supported_graphics_clock>\n",
      "        <supported_graphics_clock>1530 MHz</supported_graphics_clock>\n",
      "        <supported_graphics_clock>1515 MHz</supported_graphics_clock>\n",
      "        <supported_graphics_clock>1500 MHz</supported_graphics_clock>\n",
      "        <supported_graphics_clock>1485 MHz</supported_graphics_clock>\n",
      "        <supported_graphics_clock>1470 MHz</supported_graphics_clock>\n",
      "        <supported_graphics_clock>1455 MHz</supported_graphics_clock>\n",
      "        <supported_graphics_clock>1440 MHz</supported_graphics_clock>\n",
      "        <supported_graphics_clock>1425 MHz</supported_graphics_clock>\n",
      "        <supported_graphics_clock>1410 MHz</supported_graphics_clock>\n",
      "        <supported_graphics_clock>1395 MHz</supported_graphics_clock>\n",
      "        <supported_graphics_clock>1380 MHz</supported_graphics_clock>\n",
      "        <supported_graphics_clock>1365 MHz</supported_graphics_clock>\n",
      "        <supported_graphics_clock>1350 MHz</supported_graphics_clock>\n",
      "        <supported_graphics_clock>1335 MHz</supported_graphics_clock>\n",
      "        <supported_graphics_clock>1320 MHz</supported_graphics_clock>\n",
      "        <supported_graphics_clock>1305 MHz</supported_graphics_clock>\n",
      "        <supported_graphics_clock>1290 MHz</supported_graphics_clock>\n",
      "        <supported_graphics_clock>1275 MHz</supported_graphics_clock>\n",
      "        <supported_graphics_clock>1260 MHz</supported_graphics_clock>\n",
      "        <supported_graphics_clock>1245 MHz</supported_graphics_clock>\n",
      "        <supported_graphics_clock>1230 MHz</supported_graphics_clock>\n",
      "        <supported_graphics_clock>1215 MHz</supported_graphics_clock>\n",
      "        <supported_graphics_clock>1200 MHz</supported_graphics_clock>\n",
      "        <supported_graphics_clock>1185 MHz</supported_graphics_clock>\n",
      "        <supported_graphics_clock>1170 MHz</supported_graphics_clock>\n",
      "        <supported_graphics_clock>1155 MHz</supported_graphics_clock>\n",
      "        <supported_graphics_clock>1140 MHz</supported_graphics_clock>\n",
      "        <supported_graphics_clock>1125 MHz</supported_graphics_clock>\n",
      "        <supported_graphics_clock>1110 MHz</supported_graphics_clock>\n",
      "        <supported_graphics_clock>1095 MHz</supported_graphics_clock>\n",
      "        <supported_graphics_clock>1080 MHz</supported_graphics_clock>\n",
      "        <supported_graphics_clock>1065 MHz</supported_graphics_clock>\n",
      "        <supported_graphics_clock>1050 MHz</supported_graphics_clock>\n",
      "        <supported_graphics_clock>1035 MHz</supported_graphics_clock>\n",
      "        <supported_graphics_clock>1020 MHz</supported_graphics_clock>\n",
      "        <supported_graphics_clock>1005 MHz</supported_graphics_clock>\n",
      "        <supported_graphics_clock>990 MHz</supported_graphics_clock>\n",
      "        <supported_graphics_clock>975 MHz</supported_graphics_clock>\n",
      "        <supported_graphics_clock>960 MHz</supported_graphics_clock>\n",
      "        <supported_graphics_clock>945 MHz</supported_graphics_clock>\n",
      "        <supported_graphics_clock>930 MHz</supported_graphics_clock>\n",
      "        <supported_graphics_clock>915 MHz</supported_graphics_clock>\n",
      "        <supported_graphics_clock>900 MHz</supported_graphics_clock>\n",
      "        <supported_graphics_clock>885 MHz</supported_graphics_clock>\n",
      "        <supported_graphics_clock>870 MHz</supported_graphics_clock>\n",
      "        <supported_graphics_clock>855 MHz</supported_graphics_clock>\n",
      "        <supported_graphics_clock>840 MHz</supported_graphics_clock>\n",
      "        <supported_graphics_clock>825 MHz</supported_graphics_clock>\n",
      "        <supported_graphics_clock>810 MHz</supported_graphics_clock>\n",
      "        <supported_graphics_clock>795 MHz</supported_graphics_clock>\n",
      "        <supported_graphics_clock>780 MHz</supported_graphics_clock>\n",
      "        <supported_graphics_clock>765 MHz</supported_graphics_clock>\n",
      "        <supported_graphics_clock>750 MHz</supported_graphics_clock>\n",
      "        <supported_graphics_clock>735 MHz</supported_graphics_clock>\n",
      "        <supported_graphics_clock>720 MHz</supported_graphics_clock>\n",
      "        <supported_graphics_clock>705 MHz</supported_graphics_clock>\n",
      "        <supported_graphics_clock>690 MHz</supported_graphics_clock>\n",
      "        <supported_graphics_clock>675 MHz</supported_graphics_clock>\n",
      "        <supported_graphics_clock>660 MHz</supported_graphics_clock>\n",
      "        <supported_graphics_clock>645 MHz</supported_graphics_clock>\n",
      "        <supported_graphics_clock>630 MHz</supported_graphics_clock>\n",
      "        <supported_graphics_clock>615 MHz</supported_graphics_clock>\n",
      "        <supported_graphics_clock>600 MHz</supported_graphics_clock>\n",
      "        <supported_graphics_clock>585 MHz</supported_graphics_clock>\n",
      "        <supported_graphics_clock>570 MHz</supported_graphics_clock>\n",
      "        <supported_graphics_clock>555 MHz</supported_graphics_clock>\n",
      "        <supported_graphics_clock>540 MHz</supported_graphics_clock>\n",
      "        <supported_graphics_clock>525 MHz</supported_graphics_clock>\n",
      "        <supported_graphics_clock>510 MHz</supported_graphics_clock>\n",
      "        <supported_graphics_clock>495 MHz</supported_graphics_clock>\n",
      "        <supported_graphics_clock>480 MHz</supported_graphics_clock>\n",
      "        <supported_graphics_clock>465 MHz</supported_graphics_clock>\n",
      "        <supported_graphics_clock>450 MHz</supported_graphics_clock>\n",
      "        <supported_graphics_clock>435 MHz</supported_graphics_clock>\n",
      "        <supported_graphics_clock>420 MHz</supported_graphics_clock>\n",
      "        <supported_graphics_clock>405 MHz</supported_graphics_clock>\n",
      "        <supported_graphics_clock>390 MHz</supported_graphics_clock>\n",
      "        <supported_graphics_clock>375 MHz</supported_graphics_clock>\n",
      "        <supported_graphics_clock>360 MHz</supported_graphics_clock>\n",
      "        <supported_graphics_clock>345 MHz</supported_graphics_clock>\n",
      "        <supported_graphics_clock>330 MHz</supported_graphics_clock>\n",
      "        <supported_graphics_clock>315 MHz</supported_graphics_clock>\n",
      "        <supported_graphics_clock>300 MHz</supported_graphics_clock>\n",
      "        <supported_graphics_clock>285 MHz</supported_graphics_clock>\n",
      "        <supported_graphics_clock>270 MHz</supported_graphics_clock>\n",
      "        <supported_graphics_clock>255 MHz</supported_graphics_clock>\n",
      "        <supported_graphics_clock>240 MHz</supported_graphics_clock>\n",
      "        <supported_graphics_clock>225 MHz</supported_graphics_clock>\n",
      "        <supported_graphics_clock>210 MHz</supported_graphics_clock>\n",
      "      </supported_mem_clock>\n",
      "      <supported_mem_clock>\n",
      "        <value>405 MHz</value>\n",
      "        <supported_graphics_clock>420 MHz</supported_graphics_clock>\n",
      "        <supported_graphics_clock>405 MHz</supported_graphics_clock>\n",
      "        <supported_graphics_clock>390 MHz</supported_graphics_clock>\n",
      "        <supported_graphics_clock>375 MHz</supported_graphics_clock>\n",
      "        <supported_graphics_clock>360 MHz</supported_graphics_clock>\n",
      "        <supported_graphics_clock>345 MHz</supported_graphics_clock>\n",
      "        <supported_graphics_clock>330 MHz</supported_graphics_clock>\n",
      "        <supported_graphics_clock>315 MHz</supported_graphics_clock>\n",
      "        <supported_graphics_clock>300 MHz</supported_graphics_clock>\n",
      "        <supported_graphics_clock>285 MHz</supported_graphics_clock>\n",
      "        <supported_graphics_clock>270 MHz</supported_graphics_clock>\n",
      "        <supported_graphics_clock>255 MHz</supported_graphics_clock>\n",
      "        <supported_graphics_clock>240 MHz</supported_graphics_clock>\n",
      "        <supported_graphics_clock>225 MHz</supported_graphics_clock>\n",
      "        <supported_graphics_clock>210 MHz</supported_graphics_clock>\n",
      "      </supported_mem_clock>\n",
      "    </supported_clocks>\n",
      "    <processes>\n",
      "    <process_info>\n",
      "      <pid>16120</pid>\n",
      "      <process_name>Insufficient Permissions</process_name>\n",
      "      <used_memory>N\\A</used_memory>\n",
      "    </process_info>\n",
      "    <process_info>\n",
      "      <pid>17412</pid>\n",
      "      <process_name>C:\\Windows\\explorer.exe</process_name>\n",
      "      <used_memory>N\\A</used_memory>\n",
      "    </process_info>\n",
      "    <process_info>\n",
      "      <pid>14672</pid>\n",
      "      <process_name>C:\\Windows\\SystemApps\\Microsoft.Windows.StartMenuExperienceHost_cw5n1h2txyewy\\StartMenuExperienceHost.exe</process_name>\n",
      "      <used_memory>N\\A</used_memory>\n",
      "    </process_info>\n",
      "    <process_info>\n",
      "      <pid>3828</pid>\n",
      "      <process_name>C:\\Windows\\SystemApps\\Microsoft.Windows.Search_cw5n1h2txyewy\\SearchApp.exe</process_name>\n",
      "      <used_memory>N\\A</used_memory>\n",
      "    </process_info>\n",
      "    <process_info>\n",
      "      <pid>16240</pid>\n",
      "      <process_name>C:\\Windows\\SystemApps\\Microsoft.LockApp_cw5n1h2txyewy\\LockApp.exe</process_name>\n",
      "      <used_memory>N\\A</used_memory>\n",
      "    </process_info>\n",
      "    <process_info>\n",
      "      <pid>18912</pid>\n",
      "      <process_name>C:\\Program Files\\WindowsApps\\Microsoft.YourPhone_1.21052.124.0_x64__8wekyb3d8bbwe\\YourPhone.exe</process_name>\n",
      "      <used_memory>N\\A</used_memory>\n",
      "    </process_info>\n",
      "    <process_info>\n",
      "      <pid>5736</pid>\n",
      "      <process_name>C:\\Program Files (x86)\\Microsoft\\EdgeWebView\\Application\\91.0.864.70\\msedgewebview2.exe</process_name>\n",
      "      <used_memory>N\\A</used_memory>\n",
      "    </process_info>\n",
      "    <process_info>\n",
      "      <pid>17136</pid>\n",
      "      <process_name>Insufficient Permissions</process_name>\n",
      "      <used_memory>N\\A</used_memory>\n",
      "    </process_info>\n",
      "    <process_info>\n",
      "      <pid>1348</pid>\n",
      "      <process_name>Insufficient Permissions</process_name>\n",
      "      <used_memory>N\\A</used_memory>\n",
      "    </process_info>\n",
      "    <process_info>\n",
      "      <pid>17688</pid>\n",
      "      <process_name>C:\\Program Files\\NVIDIA Corporation\\NVIDIA GeForce Experience\\NVIDIA Share.exe</process_name>\n",
      "      <used_memory>N\\A</used_memory>\n",
      "    </process_info>\n",
      "    <process_info>\n",
      "      <pid>15664</pid>\n",
      "      <process_name>C:\\Program Files\\Google\\Chrome\\Application\\chrome.exe</process_name>\n",
      "      <used_memory>N\\A</used_memory>\n",
      "    </process_info>\n",
      "    <process_info>\n",
      "      <pid>7764</pid>\n",
      "      <process_name>C:\\Windows\\SystemApps\\MicrosoftWindows.Client.CBS_cw5n1h2txyewy\\InputApp\\TextInputHost.exe</process_name>\n",
      "      <used_memory>N\\A</used_memory>\n",
      "    </process_info>\n",
      "    <process_info>\n",
      "      <pid>6712</pid>\n",
      "      <process_name>C:\\Program Files\\WindowsApps\\Microsoft.WindowsStore_12105.1001.23.0_x64__8wekyb3d8bbwe\\WinStore.App.exe</process_name>\n",
      "      <used_memory>N\\A</used_memory>\n",
      "    </process_info>\n",
      "    <process_info>\n",
      "      <pid>9624</pid>\n",
      "      <process_name>C:\\Program Files\\WindowsApps\\Microsoft.ZuneVideo_10.21061.10121.0_x64__8wekyb3d8bbwe\\Video.UI.exe</process_name>\n",
      "      <used_memory>N\\A</used_memory>\n",
      "    </process_info>\n",
      "    <process_info>\n",
      "      <pid>9368</pid>\n",
      "      <process_name>C:\\Windows\\ImmersiveControlPanel\\SystemSettings.exe</process_name>\n",
      "      <used_memory>N\\A</used_memory>\n",
      "    </process_info>\n",
      "    <process_info>\n",
      "      <pid>20620</pid>\n",
      "      <process_name>C:\\Windows\\System32\\WWAHost.exe</process_name>\n",
      "      <used_memory>N\\A</used_memory>\n",
      "    </process_info>\n",
      "    <process_info>\n",
      "      <pid>20628</pid>\n",
      "      <process_name>C:\\Program Files\\WindowsApps\\Microsoft.WindowsCalculator_10.2103.8.0_x64__8wekyb3d8bbwe\\Calculator.exe</process_name>\n",
      "      <used_memory>N\\A</used_memory>\n",
      "    </process_info>\n",
      "    <process_info>\n",
      "      <pid>21176</pid>\n",
      "      <process_name>C:\\Program Files\\WindowsApps\\Microsoft.Windows.Photos_2021.21060.9012.0_x64__8wekyb3d8bbwe\\Microsoft.Photos.exe</process_name>\n",
      "      <used_memory>N\\A</used_memory>\n",
      "    </process_info>\n",
      "    <process_info>\n",
      "      <pid>17108</pid>\n",
      "      <process_name>C:\\Windows\\SystemApps\\ShellExperienceHost_cw5n1h2txyewy\\ShellExperienceHost.exe</process_name>\n",
      "      <used_memory>N\\A</used_memory>\n",
      "    </process_info>\n",
      "    </processes>\n",
      "    <accounted_processes>\n",
      "    </accounted_processes>\n",
      "  </gpu>\n",
      "</nvidia_smi_log>\n",
      "\n"
     ]
    }
   ],
   "source": [
    "import py3nvml.nvidia_smi as smi\n",
    "print(smi.XmlDeviceQuery())"
   ]
  },
  {
   "cell_type": "markdown",
   "id": "c810c86f",
   "metadata": {},
   "source": [
    "https://py3nvml.readthedocs.io/en/latest/\n",
    "\n",
    "## Platform\n",
    "\n",
    "doc : https://docs.python.org/3/library/platform.html"
   ]
  },
  {
   "cell_type": "code",
   "execution_count": 73,
   "id": "d2dd55d3",
   "metadata": {},
   "outputs": [
    {
     "name": "stdout",
     "output_type": "stream",
     "text": [
      "Platform processor: AMD64 Family 25 Model 33 Stepping 0, AuthenticAMD\n"
     ]
    }
   ],
   "source": [
    "import platform\n",
    "  \n",
    "# displaying platform processor\n",
    "print('Platform processor:', platform.processor())"
   ]
  },
  {
   "cell_type": "code",
   "execution_count": 74,
   "id": "054c3def",
   "metadata": {},
   "outputs": [
    {
     "name": "stdout",
     "output_type": "stream",
     "text": [
      "Platform architecture: ('64bit', 'WindowsPE')\n"
     ]
    }
   ],
   "source": [
    "# displaying platform architecture\n",
    "print('Platform architecture:', platform.architecture())"
   ]
  },
  {
   "cell_type": "code",
   "execution_count": 75,
   "id": "07c9660b",
   "metadata": {},
   "outputs": [
    {
     "name": "stdout",
     "output_type": "stream",
     "text": [
      "Machine type: AMD64\n"
     ]
    }
   ],
   "source": [
    "# displaying machine type\n",
    "print('Machine type:', platform.machine())"
   ]
  },
  {
   "cell_type": "code",
   "execution_count": 76,
   "id": "d0a75635",
   "metadata": {},
   "outputs": [
    {
     "name": "stdout",
     "output_type": "stream",
     "text": [
      "Systems network name: DESKTOP-5JMQF9Q\n"
     ]
    }
   ],
   "source": [
    "print('Systems network name:', platform.node())"
   ]
  },
  {
   "cell_type": "code",
   "execution_count": 77,
   "id": "90e2f49f",
   "metadata": {},
   "outputs": [
    {
     "name": "stdout",
     "output_type": "stream",
     "text": [
      "Platform information: Windows-10-10.0.19043-SP0\n"
     ]
    }
   ],
   "source": [
    "# displaying platform information\n",
    "print('Platform information:', platform.platform())"
   ]
  },
  {
   "cell_type": "code",
   "execution_count": 78,
   "id": "d764250d",
   "metadata": {},
   "outputs": [
    {
     "name": "stdout",
     "output_type": "stream",
     "text": [
      "Platform processor: AMD64 Family 25 Model 33 Stepping 0, AuthenticAMD\n"
     ]
    }
   ],
   "source": [
    "# displaying platform processor name\n",
    "print('Platform processor:', platform.processor())"
   ]
  },
  {
   "cell_type": "code",
   "execution_count": 79,
   "id": "60a286a1",
   "metadata": {},
   "outputs": [
    {
     "data": {
      "text/plain": [
       "'tags/v3.9.5'"
      ]
     },
     "execution_count": 79,
     "metadata": {},
     "output_type": "execute_result"
    }
   ],
   "source": [
    "platform.python_branch()"
   ]
  },
  {
   "cell_type": "code",
   "execution_count": 80,
   "id": "6128f4ca",
   "metadata": {},
   "outputs": [
    {
     "data": {
      "text/plain": [
       "'3.9.5'"
      ]
     },
     "execution_count": 80,
     "metadata": {},
     "output_type": "execute_result"
    }
   ],
   "source": [
    "platform.python_version()"
   ]
  },
  {
   "cell_type": "code",
   "execution_count": 81,
   "id": "db2136af",
   "metadata": {},
   "outputs": [
    {
     "data": {
      "text/plain": [
       "'Windows'"
      ]
     },
     "execution_count": 81,
     "metadata": {},
     "output_type": "execute_result"
    }
   ],
   "source": [
    "platform.system()"
   ]
  },
  {
   "cell_type": "code",
   "execution_count": 82,
   "id": "bf2b6313",
   "metadata": {},
   "outputs": [
    {
     "data": {
      "text/plain": [
       "'10'"
      ]
     },
     "execution_count": 82,
     "metadata": {},
     "output_type": "execute_result"
    }
   ],
   "source": [
    "platform.release()"
   ]
  },
  {
   "cell_type": "code",
   "execution_count": 83,
   "id": "f3cc1b76",
   "metadata": {},
   "outputs": [
    {
     "data": {
      "text/plain": [
       "uname_result(system='Windows', node='DESKTOP-5JMQF9Q', release='10', version='10.0.19043', machine='AMD64')"
      ]
     },
     "execution_count": 83,
     "metadata": {},
     "output_type": "execute_result"
    }
   ],
   "source": [
    "platform.uname()"
   ]
  },
  {
   "cell_type": "code",
   "execution_count": 84,
   "id": "a637c693",
   "metadata": {},
   "outputs": [
    {
     "data": {
      "text/plain": [
       "'Professional'"
      ]
     },
     "execution_count": 84,
     "metadata": {},
     "output_type": "execute_result"
    }
   ],
   "source": [
    "platform.win32_edition()"
   ]
  },
  {
   "cell_type": "code",
   "execution_count": 85,
   "id": "8234f8a3",
   "metadata": {},
   "outputs": [
    {
     "data": {
      "text/plain": [
       "False"
      ]
     },
     "execution_count": 85,
     "metadata": {},
     "output_type": "execute_result"
    }
   ],
   "source": [
    "platform.win32_is_iot()"
   ]
  },
  {
   "cell_type": "code",
   "execution_count": 86,
   "id": "b367969c",
   "metadata": {},
   "outputs": [
    {
     "data": {
      "text/plain": [
       "('10', '10.0.19043', 'SP0', 'Multiprocessor Free')"
      ]
     },
     "execution_count": 86,
     "metadata": {},
     "output_type": "execute_result"
    },
    {
     "name": "stdout",
     "output_type": "stream",
     "text": [
      "| ID | GPU | MEM |\n",
      "------------------\n",
      "|  0 |  4% |  7% |\n",
      "| ID | GPU | MEM |\n",
      "------------------\n",
      "|  0 |  0% |  7% |\n",
      "| ID | GPU | MEM |\n",
      "------------------\n",
      "|  0 |  5% |  7% |\n",
      "| ID | GPU | MEM |\n",
      "------------------\n",
      "|  0 |  0% |  7% |\n",
      "| ID | GPU | MEM |\n",
      "------------------\n",
      "|  0 |  0% |  7% |\n"
     ]
    }
   ],
   "source": [
    "platform.win32_ver()"
   ]
  },
  {
   "cell_type": "code",
   "execution_count": null,
   "id": "41267443",
   "metadata": {},
   "outputs": [],
   "source": []
  }
 ],
 "metadata": {
  "kernelspec": {
   "display_name": "Python 3",
   "language": "python",
   "name": "python3"
  },
  "language_info": {
   "codemirror_mode": {
    "name": "ipython",
    "version": 3
   },
   "file_extension": ".py",
   "mimetype": "text/x-python",
   "name": "python",
   "nbconvert_exporter": "python",
   "pygments_lexer": "ipython3",
   "version": "3.9.5"
  }
 },
 "nbformat": 4,
 "nbformat_minor": 5
}
